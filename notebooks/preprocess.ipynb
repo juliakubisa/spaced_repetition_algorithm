{
 "cells": [
  {
   "cell_type": "code",
   "execution_count": 1,
   "id": "33e3561f-48d5-4bb1-9a5c-68f486904d03",
   "metadata": {
    "editable": true,
    "slideshow": {
     "slide_type": ""
    },
    "tags": []
   },
   "outputs": [],
   "source": [
    "import os \n",
    "import pandas as pd \n",
    "import scipy.stats as stats\n",
    "import numpy as np"
   ]
  },
  {
   "cell_type": "code",
   "execution_count": 2,
   "id": "7696ae86-54ed-4109-ac87-a41343bd6590",
   "metadata": {
    "editable": true,
    "slideshow": {
     "slide_type": ""
    },
    "tags": []
   },
   "outputs": [],
   "source": [
    "current_dir = os.getcwd()\n",
    "\n",
    "# Original Dataset \n",
    "filename = '13 million Duolingo student learning traces.csv'\n",
    "filepath = os.path.normpath(os.path.join(current_dir, '../data/raw/', filename))\n",
    "\n",
    "\n",
    "chunk_size = 10000\n",
    "chunks = []\n",
    "\n",
    "for chunk in pd.read_csv(filepath, chunksize=chunk_size):\n",
    "    chunk.drop_duplicates(inplace=True)\n",
    "    chunk.dropna(inplace=True)\n",
    "    chunks.append(chunk)\n",
    "\n",
    "df = pd.concat(chunks, ignore_index=True)"
   ]
  },
  {
   "cell_type": "code",
   "execution_count": 3,
   "id": "df83d209-671f-4923-bfd0-5870eac4f1c8",
   "metadata": {
    "editable": true,
    "slideshow": {
     "slide_type": ""
    },
    "tags": []
   },
   "outputs": [
    {
     "name": "stdout",
     "output_type": "stream",
     "text": [
      "There are 0 missing values in the dataset\n"
     ]
    }
   ],
   "source": [
    "# Check for na\n",
    "nan_count = df.isna().sum().sum()\n",
    "print(f'There are {nan_count} missing values in the dataset')"
   ]
  },
  {
   "cell_type": "code",
   "execution_count": 4,
   "id": "83158a47-f8c8-4d5f-9376-5a585e08a698",
   "metadata": {},
   "outputs": [
    {
     "name": "stdout",
     "output_type": "stream",
     "text": [
      "There were 0 duplicates in the dataset\n"
     ]
    }
   ],
   "source": [
    "# Check for duplicates\n",
    "duplicates_count = df.duplicated().sum().sum()\n",
    "df.drop_duplicates(inplace=True)\n",
    "print(f'There were {duplicates_count} duplicates in the dataset')"
   ]
  },
  {
   "cell_type": "code",
   "execution_count": 9,
   "id": "5de2cad9-23dc-4756-a7b3-8d9d0f5a8bba",
   "metadata": {
    "editable": true,
    "slideshow": {
     "slide_type": ""
    },
    "tags": []
   },
   "outputs": [
    {
     "data": {
      "text/plain": [
       "<Axes: >"
      ]
     },
     "execution_count": 9,
     "metadata": {},
     "output_type": "execute_result"
    },
    {
     "data": {
      "image/png": "[encoded data removed]",
      "text/plain": [
       "<Figure size 640x480 with 1 Axes>"
      ]
     },
     "metadata": {},
     "output_type": "display_data"
    }
   ],
   "source": [
    "df['history_seen'].hist()"
   ]
  },
  {
   "cell_type": "code",
   "execution_count": 8,
   "id": "7c5a0be4-8bf1-4244-b50a-d78a7ea0b4cf",
   "metadata": {
    "editable": true,
    "slideshow": {
     "slide_type": ""
    },
    "tags": []
   },
   "outputs": [
    {
     "data": {
      "text/plain": [
       "np.int64(12790181)"
      ]
     },
     "execution_count": 8,
     "metadata": {},
     "output_type": "execute_result"
    }
   ],
   "source": [
    "# Outlier identification \n",
    "# The only outliers we should look at is history_seen, history_correct, delta \n",
    "\n",
    "threshold_z = 3\n",
    "df['history_seen'][(np.abs(stats.zscore(df['history_seen'])) < threshold_z)].count()\n"
   ]
  },
  {
   "cell_type": "code",
   "execution_count": null,
   "id": "7defaf82-013f-4f9c-8b9a-1d860f1f7324",
   "metadata": {
    "editable": true,
    "slideshow": {
     "slide_type": ""
    },
    "tags": []
   },
   "outputs": [],
   "source": [
    "# HISTORY SEEN OUTLIERS\n",
    "# HISTORY CORRECT OUTLIERS \n",
    "# DELTA OUTLIERS "
   ]
  },
  {
   "cell_type": "code",
   "execution_count": 23,
   "id": "efbb3536-d38b-486f-a1e8-4961a5b27fc4",
   "metadata": {},
   "outputs": [
    {
     "name": "stdout",
     "output_type": "stream",
     "text": [
      "36.0 237.0\n"
     ]
    }
   ],
   "source": [
    "print(df['history_seen'].quantile(0.9), df['history_seen'].quantile(0.99))"
   ]
  },
  {
   "cell_type": "code",
   "execution_count": 28,
   "id": "c7214cba-eead-4947-b548-8e510cd45908",
   "metadata": {},
   "outputs": [
    {
     "data": {
      "text/html": [
       "<div>\n",
       "<style scoped>\n",
       "    .dataframe tbody tr th:only-of-type {\n",
       "        vertical-align: middle;\n",
       "    }\n",
       "\n",
       "    .dataframe tbody tr th {\n",
       "        vertical-align: top;\n",
       "    }\n",
       "\n",
       "    .dataframe thead th {\n",
       "        text-align: right;\n",
       "    }\n",
       "</style>\n",
       "<table border=\"1\" class=\"dataframe\">\n",
       "  <thead>\n",
       "    <tr style=\"text-align: right;\">\n",
       "      <th></th>\n",
       "      <th>p_recall</th>\n",
       "      <th>timestamp</th>\n",
       "      <th>delta</th>\n",
       "      <th>user_id</th>\n",
       "      <th>learning_language</th>\n",
       "      <th>ui_language</th>\n",
       "      <th>lexeme_id</th>\n",
       "      <th>lexeme_string</th>\n",
       "      <th>history_seen</th>\n",
       "      <th>history_correct</th>\n",
       "      <th>session_seen</th>\n",
       "      <th>session_correct</th>\n",
       "    </tr>\n",
       "  </thead>\n",
       "  <tbody>\n",
       "    <tr>\n",
       "      <th>187</th>\n",
       "      <td>1.0</td>\n",
       "      <td>1362082533</td>\n",
       "      <td>889</td>\n",
       "      <td>u:ezFh</td>\n",
       "      <td>es</td>\n",
       "      <td>en</td>\n",
       "      <td>4bdb859f599fa07dd5eecdab0acc2d34</td>\n",
       "      <td>a/a&lt;pr&gt;</td>\n",
       "      <td>261</td>\n",
       "      <td>229</td>\n",
       "      <td>1</td>\n",
       "      <td>1</td>\n",
       "    </tr>\n",
       "    <tr>\n",
       "      <th>188</th>\n",
       "      <td>1.0</td>\n",
       "      <td>1362082533</td>\n",
       "      <td>889</td>\n",
       "      <td>u:ezFh</td>\n",
       "      <td>es</td>\n",
       "      <td>en</td>\n",
       "      <td>41ba24ffb11fd09f5fc715d39cc6c1ea</td>\n",
       "      <td>qué/qué&lt;prn&gt;&lt;itg&gt;&lt;m&gt;&lt;sg&gt;</td>\n",
       "      <td>243</td>\n",
       "      <td>217</td>\n",
       "      <td>1</td>\n",
       "      <td>1</td>\n",
       "    </tr>\n",
       "    <tr>\n",
       "      <th>200</th>\n",
       "      <td>1.0</td>\n",
       "      <td>1362082533</td>\n",
       "      <td>889</td>\n",
       "      <td>u:ezFh</td>\n",
       "      <td>es</td>\n",
       "      <td>en</td>\n",
       "      <td>ab724af62c7e36266ef3b66766d47489</td>\n",
       "      <td>te/prpers&lt;prn&gt;&lt;pro&gt;&lt;p2&gt;&lt;mf&gt;&lt;sg&gt;</td>\n",
       "      <td>260</td>\n",
       "      <td>220</td>\n",
       "      <td>1</td>\n",
       "      <td>1</td>\n",
       "    </tr>\n",
       "    <tr>\n",
       "      <th>206</th>\n",
       "      <td>1.0</td>\n",
       "      <td>1362082533</td>\n",
       "      <td>443</td>\n",
       "      <td>u:ezFh</td>\n",
       "      <td>es</td>\n",
       "      <td>en</td>\n",
       "      <td>c2c8a202a12411858f87d4dcef5b2998</td>\n",
       "      <td>no/no&lt;adv&gt;</td>\n",
       "      <td>463</td>\n",
       "      <td>434</td>\n",
       "      <td>1</td>\n",
       "      <td>1</td>\n",
       "    </tr>\n",
       "    <tr>\n",
       "      <th>212</th>\n",
       "      <td>1.0</td>\n",
       "      <td>1362082533</td>\n",
       "      <td>443</td>\n",
       "      <td>u:ezFh</td>\n",
       "      <td>es</td>\n",
       "      <td>en</td>\n",
       "      <td>99cd0848be9239250ffd99e11add7338</td>\n",
       "      <td>de/de&lt;pr&gt;</td>\n",
       "      <td>368</td>\n",
       "      <td>330</td>\n",
       "      <td>1</td>\n",
       "      <td>1</td>\n",
       "    </tr>\n",
       "  </tbody>\n",
       "</table>\n",
       "</div>"
      ],
      "text/plain": [
       "     p_recall   timestamp  delta user_id learning_language ui_language  \\\n",
       "187       1.0  1362082533    889  u:ezFh                es          en   \n",
       "188       1.0  1362082533    889  u:ezFh                es          en   \n",
       "200       1.0  1362082533    889  u:ezFh                es          en   \n",
       "206       1.0  1362082533    443  u:ezFh                es          en   \n",
       "212       1.0  1362082533    443  u:ezFh                es          en   \n",
       "\n",
       "                            lexeme_id                    lexeme_string  \\\n",
       "187  4bdb859f599fa07dd5eecdab0acc2d34                          a/a<pr>   \n",
       "188  41ba24ffb11fd09f5fc715d39cc6c1ea         qué/qué<prn><itg><m><sg>   \n",
       "200  ab724af62c7e36266ef3b66766d47489  te/prpers<prn><pro><p2><mf><sg>   \n",
       "206  c2c8a202a12411858f87d4dcef5b2998                       no/no<adv>   \n",
       "212  99cd0848be9239250ffd99e11add7338                        de/de<pr>   \n",
       "\n",
       "     history_seen  history_correct  session_seen  session_correct  \n",
       "187           261              229             1                1  \n",
       "188           243              217             1                1  \n",
       "200           260              220             1                1  \n",
       "206           463              434             1                1  \n",
       "212           368              330             1                1  "
      ]
     },
     "execution_count": 28,
     "metadata": {},
     "output_type": "execute_result"
    }
   ],
   "source": [
    "# Show rows higher than 0.9 qunatile \n",
    "# df[df['history_seen'] > 36.0] # 1 262 445 rows \n",
    "\n",
    "# Show rows higher than 0.99 quantile \n",
    "df[df['history_seen'] > 237].head() # 127 979 rows\n",
    "\n",
    "# Most of the outliers are the words that are seen very frequently, because they appear in many lessons \n",
    "# These are: to be, to, we, I "
   ]
  },
  {
   "cell_type": "code",
   "execution_count": 34,
   "id": "8c4d0aeb-adc9-4df6-91eb-6d09a78bafeb",
   "metadata": {},
   "outputs": [
    {
     "data": {
      "text/plain": [
       "115222"
      ]
     },
     "execution_count": 34,
     "metadata": {},
     "output_type": "execute_result"
    }
   ],
   "source": [
    "len(df['user_id'].unique()) # there are 115 222 users "
   ]
  },
  {
   "cell_type": "code",
   "execution_count": 45,
   "id": "57ffb8a5-1d7e-4f53-8333-85f71711d611",
   "metadata": {},
   "outputs": [
    {
     "data": {
      "text/plain": [
       "user_id\n",
       "u:bcH_    12322\n",
       "u:cpBu     5561\n",
       "u:goA      3695\n",
       "u:NPs      3221\n",
       "u:bkiW     3010\n",
       "          ...  \n",
       "u:ih1         1\n",
       "u:hG1         1\n",
       "u:dDx5        1\n",
       "u:dG6         1\n",
       "u:zz3         1\n",
       "Length: 1328, dtype: int64"
      ]
     },
     "execution_count": 45,
     "metadata": {},
     "output_type": "execute_result"
    }
   ],
   "source": [
    "df[df['history_seen'] > 237].groupby(df['user_id']).size().sort_values(ascending=False)   # There are only 1328 users with such score \n",
    "# The biggest user with such score has 12 322 rows "
   ]
  },
  {
   "cell_type": "code",
   "execution_count": 47,
   "id": "054505c0-a0ad-478d-89bd-67b95214d770",
   "metadata": {
    "editable": true,
    "slideshow": {
     "slide_type": ""
    },
    "tags": []
   },
   "outputs": [
    {
     "data": {
      "text/html": [
       "<div>\n",
       "<style scoped>\n",
       "    .dataframe tbody tr th:only-of-type {\n",
       "        vertical-align: middle;\n",
       "    }\n",
       "\n",
       "    .dataframe tbody tr th {\n",
       "        vertical-align: top;\n",
       "    }\n",
       "\n",
       "    .dataframe thead th {\n",
       "        text-align: right;\n",
       "    }\n",
       "</style>\n",
       "<table border=\"1\" class=\"dataframe\">\n",
       "  <thead>\n",
       "    <tr style=\"text-align: right;\">\n",
       "      <th></th>\n",
       "      <th>p_recall</th>\n",
       "      <th>timestamp</th>\n",
       "      <th>delta</th>\n",
       "      <th>user_id</th>\n",
       "      <th>learning_language</th>\n",
       "      <th>ui_language</th>\n",
       "      <th>lexeme_id</th>\n",
       "      <th>lexeme_string</th>\n",
       "      <th>history_seen</th>\n",
       "      <th>history_correct</th>\n",
       "      <th>session_seen</th>\n",
       "      <th>session_correct</th>\n",
       "    </tr>\n",
       "  </thead>\n",
       "  <tbody>\n",
       "    <tr>\n",
       "      <th>193803</th>\n",
       "      <td>0.0</td>\n",
       "      <td>1362092353</td>\n",
       "      <td>61015</td>\n",
       "      <td>u:bcH_</td>\n",
       "      <td>en</td>\n",
       "      <td>es</td>\n",
       "      <td>55f383178cf0fdc463ef1ebf91bd288d</td>\n",
       "      <td>milk/milk&lt;n&gt;&lt;sg&gt;</td>\n",
       "      <td>157</td>\n",
       "      <td>116</td>\n",
       "      <td>1</td>\n",
       "      <td>0</td>\n",
       "    </tr>\n",
       "    <tr>\n",
       "      <th>193804</th>\n",
       "      <td>1.0</td>\n",
       "      <td>1362092353</td>\n",
       "      <td>83142</td>\n",
       "      <td>u:bcH_</td>\n",
       "      <td>en</td>\n",
       "      <td>es</td>\n",
       "      <td>a5acd980d17d726d1c99e7b974d3f52d</td>\n",
       "      <td>for/for&lt;pr&gt;</td>\n",
       "      <td>750</td>\n",
       "      <td>481</td>\n",
       "      <td>1</td>\n",
       "      <td>1</td>\n",
       "    </tr>\n",
       "    <tr>\n",
       "      <th>193805</th>\n",
       "      <td>0.0</td>\n",
       "      <td>1362092353</td>\n",
       "      <td>83951</td>\n",
       "      <td>u:bcH_</td>\n",
       "      <td>en</td>\n",
       "      <td>es</td>\n",
       "      <td>9eedd98a29691237d18c127468452836</td>\n",
       "      <td>music/music&lt;n&gt;&lt;sg&gt;</td>\n",
       "      <td>181</td>\n",
       "      <td>110</td>\n",
       "      <td>1</td>\n",
       "      <td>0</td>\n",
       "    </tr>\n",
       "    <tr>\n",
       "      <th>193806</th>\n",
       "      <td>0.0</td>\n",
       "      <td>1362092353</td>\n",
       "      <td>61191</td>\n",
       "      <td>u:bcH_</td>\n",
       "      <td>en</td>\n",
       "      <td>es</td>\n",
       "      <td>4adf5cd40d521b02a9cc241bf3adc6bb</td>\n",
       "      <td>have/have&lt;vblex&gt;&lt;inf&gt;</td>\n",
       "      <td>913</td>\n",
       "      <td>583</td>\n",
       "      <td>1</td>\n",
       "      <td>0</td>\n",
       "    </tr>\n",
       "    <tr>\n",
       "      <th>193807</th>\n",
       "      <td>0.0</td>\n",
       "      <td>1362092353</td>\n",
       "      <td>83951</td>\n",
       "      <td>u:bcH_</td>\n",
       "      <td>en</td>\n",
       "      <td>es</td>\n",
       "      <td>b830ca5fa936b0cff94fe712d6847f29</td>\n",
       "      <td>listen/listen&lt;vblex&gt;&lt;pres&gt;</td>\n",
       "      <td>93</td>\n",
       "      <td>58</td>\n",
       "      <td>1</td>\n",
       "      <td>0</td>\n",
       "    </tr>\n",
       "    <tr>\n",
       "      <th>...</th>\n",
       "      <td>...</td>\n",
       "      <td>...</td>\n",
       "      <td>...</td>\n",
       "      <td>...</td>\n",
       "      <td>...</td>\n",
       "      <td>...</td>\n",
       "      <td>...</td>\n",
       "      <td>...</td>\n",
       "      <td>...</td>\n",
       "      <td>...</td>\n",
       "      <td>...</td>\n",
       "      <td>...</td>\n",
       "    </tr>\n",
       "    <tr>\n",
       "      <th>12504161</th>\n",
       "      <td>1.0</td>\n",
       "      <td>1363066201</td>\n",
       "      <td>2678082</td>\n",
       "      <td>u:bcH_</td>\n",
       "      <td>en</td>\n",
       "      <td>es</td>\n",
       "      <td>6e7589c6b19e910e6f24f8313ab231b9</td>\n",
       "      <td>these/this&lt;prn&gt;&lt;tn&gt;&lt;mf&gt;&lt;pl&gt;</td>\n",
       "      <td>43</td>\n",
       "      <td>33</td>\n",
       "      <td>1</td>\n",
       "      <td>1</td>\n",
       "    </tr>\n",
       "    <tr>\n",
       "      <th>12504162</th>\n",
       "      <td>1.0</td>\n",
       "      <td>1363066201</td>\n",
       "      <td>144</td>\n",
       "      <td>u:bcH_</td>\n",
       "      <td>en</td>\n",
       "      <td>es</td>\n",
       "      <td>32d10b7ed0bea958c60a915710434dfe</td>\n",
       "      <td>can/can&lt;vaux&gt;&lt;pres&gt;</td>\n",
       "      <td>1166</td>\n",
       "      <td>899</td>\n",
       "      <td>1</td>\n",
       "      <td>1</td>\n",
       "    </tr>\n",
       "    <tr>\n",
       "      <th>12504163</th>\n",
       "      <td>0.0</td>\n",
       "      <td>1363066201</td>\n",
       "      <td>454</td>\n",
       "      <td>u:bcH_</td>\n",
       "      <td>en</td>\n",
       "      <td>es</td>\n",
       "      <td>46a16bfbe06339264594d523fb04bf7a</td>\n",
       "      <td>restaurant/restaurant&lt;n&gt;&lt;sg&gt;</td>\n",
       "      <td>470</td>\n",
       "      <td>241</td>\n",
       "      <td>1</td>\n",
       "      <td>0</td>\n",
       "    </tr>\n",
       "    <tr>\n",
       "      <th>12504164</th>\n",
       "      <td>0.5</td>\n",
       "      <td>1363066201</td>\n",
       "      <td>144</td>\n",
       "      <td>u:bcH_</td>\n",
       "      <td>en</td>\n",
       "      <td>es</td>\n",
       "      <td>1e1f8d730c4ba99ad2873a7608324cf6</td>\n",
       "      <td>my/my&lt;det&gt;&lt;pos&gt;&lt;sp&gt;</td>\n",
       "      <td>5589</td>\n",
       "      <td>3230</td>\n",
       "      <td>2</td>\n",
       "      <td>1</td>\n",
       "    </tr>\n",
       "    <tr>\n",
       "      <th>12504165</th>\n",
       "      <td>0.0</td>\n",
       "      <td>1363066201</td>\n",
       "      <td>454</td>\n",
       "      <td>u:bcH_</td>\n",
       "      <td>en</td>\n",
       "      <td>es</td>\n",
       "      <td>b974624f112084b39586380fe4aaf32a</td>\n",
       "      <td>man/man&lt;n&gt;&lt;sg&gt;</td>\n",
       "      <td>361</td>\n",
       "      <td>258</td>\n",
       "      <td>1</td>\n",
       "      <td>0</td>\n",
       "    </tr>\n",
       "  </tbody>\n",
       "</table>\n",
       "<p>19194 rows × 12 columns</p>\n",
       "</div>"
      ],
      "text/plain": [
       "          p_recall   timestamp    delta user_id learning_language ui_language  \\\n",
       "193803         0.0  1362092353    61015  u:bcH_                en          es   \n",
       "193804         1.0  1362092353    83142  u:bcH_                en          es   \n",
       "193805         0.0  1362092353    83951  u:bcH_                en          es   \n",
       "193806         0.0  1362092353    61191  u:bcH_                en          es   \n",
       "193807         0.0  1362092353    83951  u:bcH_                en          es   \n",
       "...            ...         ...      ...     ...               ...         ...   \n",
       "12504161       1.0  1363066201  2678082  u:bcH_                en          es   \n",
       "12504162       1.0  1363066201      144  u:bcH_                en          es   \n",
       "12504163       0.0  1363066201      454  u:bcH_                en          es   \n",
       "12504164       0.5  1363066201      144  u:bcH_                en          es   \n",
       "12504165       0.0  1363066201      454  u:bcH_                en          es   \n",
       "\n",
       "                                 lexeme_id                 lexeme_string  \\\n",
       "193803    55f383178cf0fdc463ef1ebf91bd288d              milk/milk<n><sg>   \n",
       "193804    a5acd980d17d726d1c99e7b974d3f52d                   for/for<pr>   \n",
       "193805    9eedd98a29691237d18c127468452836            music/music<n><sg>   \n",
       "193806    4adf5cd40d521b02a9cc241bf3adc6bb         have/have<vblex><inf>   \n",
       "193807    b830ca5fa936b0cff94fe712d6847f29    listen/listen<vblex><pres>   \n",
       "...                                    ...                           ...   \n",
       "12504161  6e7589c6b19e910e6f24f8313ab231b9   these/this<prn><tn><mf><pl>   \n",
       "12504162  32d10b7ed0bea958c60a915710434dfe           can/can<vaux><pres>   \n",
       "12504163  46a16bfbe06339264594d523fb04bf7a  restaurant/restaurant<n><sg>   \n",
       "12504164  1e1f8d730c4ba99ad2873a7608324cf6           my/my<det><pos><sp>   \n",
       "12504165  b974624f112084b39586380fe4aaf32a                man/man<n><sg>   \n",
       "\n",
       "          history_seen  history_correct  session_seen  session_correct  \n",
       "193803             157              116             1                0  \n",
       "193804             750              481             1                1  \n",
       "193805             181              110             1                0  \n",
       "193806             913              583             1                0  \n",
       "193807              93               58             1                0  \n",
       "...                ...              ...           ...              ...  \n",
       "12504161            43               33             1                1  \n",
       "12504162          1166              899             1                1  \n",
       "12504163           470              241             1                0  \n",
       "12504164          5589             3230             2                1  \n",
       "12504165           361              258             1                0  \n",
       "\n",
       "[19194 rows x 12 columns]"
      ]
     },
     "execution_count": 47,
     "metadata": {},
     "output_type": "execute_result"
    }
   ],
   "source": [
    "df[df['user_id'] == 'u:bcH_']"
   ]
  },
  {
   "cell_type": "code",
   "execution_count": 53,
   "id": "f6898fcf-cae3-48ae-bbdc-ae64d62f9575",
   "metadata": {
    "editable": true,
    "slideshow": {
     "slide_type": ""
    },
    "tags": []
   },
   "outputs": [],
   "source": [
    "df_delta = df['delta'].to_frame()\n",
    "df_delta['days'] = (df_delta['delta']/(60*60*60)).round(3)"
   ]
  },
  {
   "cell_type": "code",
   "execution_count": 57,
   "id": "a057f2c5-e761-48ba-9b4d-dbd6b5dc58b3",
   "metadata": {},
   "outputs": [
    {
     "data": {
      "text/plain": [
       "np.float64(52.51)"
      ]
     },
     "execution_count": 57,
     "metadata": {},
     "output_type": "execute_result"
    }
   ],
   "source": [
    "df_delta['days'].quantile(0.99) # the threshold for 0.99 quantile is 52 days, whereas the max is 128 days "
   ]
  },
  {
   "cell_type": "code",
   "execution_count": null,
   "id": "b7f21967-64df-4ec6-8383-53ba9e0d3af9",
   "metadata": {
    "editable": true,
    "slideshow": {
     "slide_type": ""
    },
    "tags": []
   },
   "outputs": [],
   "source": [
    "# Feature engineering \n",
    "# Interaction data between ui and learning language\n",
    "df['lang_combination'] = df['ui_language'] + '-' + df['learning_language']\n",
    "\n",
    "# Historical probability of recall  \n",
    "df['h_recall'] = df['history_correct']/df['history_seen']"
   ]
  },
  {
   "cell_type": "code",
   "execution_count": 4,
   "id": "661e16de-a39b-4296-bb57-6463a5427534",
   "metadata": {},
   "outputs": [
    {
     "data": {
      "text/html": [
       "<div>\n",
       "<style scoped>\n",
       "    .dataframe tbody tr th:only-of-type {\n",
       "        vertical-align: middle;\n",
       "    }\n",
       "\n",
       "    .dataframe tbody tr th {\n",
       "        vertical-align: top;\n",
       "    }\n",
       "\n",
       "    .dataframe thead th {\n",
       "        text-align: right;\n",
       "    }\n",
       "</style>\n",
       "<table border=\"1\" class=\"dataframe\">\n",
       "  <thead>\n",
       "    <tr style=\"text-align: right;\">\n",
       "      <th></th>\n",
       "      <th>p_recall</th>\n",
       "      <th>timestamp</th>\n",
       "      <th>delta</th>\n",
       "      <th>user_id</th>\n",
       "      <th>learning_language</th>\n",
       "      <th>ui_language</th>\n",
       "      <th>lexeme_id</th>\n",
       "      <th>lexeme_string</th>\n",
       "      <th>history_seen</th>\n",
       "      <th>history_correct</th>\n",
       "      <th>session_seen</th>\n",
       "      <th>session_correct</th>\n",
       "    </tr>\n",
       "  </thead>\n",
       "  <tbody>\n",
       "    <tr>\n",
       "      <th>0</th>\n",
       "      <td>1.0</td>\n",
       "      <td>1362076081</td>\n",
       "      <td>27649635</td>\n",
       "      <td>u:FO</td>\n",
       "      <td>de</td>\n",
       "      <td>en</td>\n",
       "      <td>76390c1350a8dac31186187e2fe1e178</td>\n",
       "      <td>lernt/lernen&lt;vblex&gt;&lt;pri&gt;&lt;p3&gt;&lt;sg&gt;</td>\n",
       "      <td>6</td>\n",
       "      <td>4</td>\n",
       "      <td>2</td>\n",
       "      <td>2</td>\n",
       "    </tr>\n",
       "    <tr>\n",
       "      <th>1</th>\n",
       "      <td>0.5</td>\n",
       "      <td>1362076081</td>\n",
       "      <td>27649635</td>\n",
       "      <td>u:FO</td>\n",
       "      <td>de</td>\n",
       "      <td>en</td>\n",
       "      <td>7dfd7086f3671685e2cf1c1da72796d7</td>\n",
       "      <td>die/die&lt;det&gt;&lt;def&gt;&lt;f&gt;&lt;sg&gt;&lt;nom&gt;</td>\n",
       "      <td>4</td>\n",
       "      <td>4</td>\n",
       "      <td>2</td>\n",
       "      <td>1</td>\n",
       "    </tr>\n",
       "    <tr>\n",
       "      <th>2</th>\n",
       "      <td>1.0</td>\n",
       "      <td>1362076081</td>\n",
       "      <td>27649635</td>\n",
       "      <td>u:FO</td>\n",
       "      <td>de</td>\n",
       "      <td>en</td>\n",
       "      <td>35a54c25a2cda8127343f6a82e6f6b7d</td>\n",
       "      <td>mann/mann&lt;n&gt;&lt;m&gt;&lt;sg&gt;&lt;nom&gt;</td>\n",
       "      <td>5</td>\n",
       "      <td>4</td>\n",
       "      <td>1</td>\n",
       "      <td>1</td>\n",
       "    </tr>\n",
       "    <tr>\n",
       "      <th>3</th>\n",
       "      <td>0.5</td>\n",
       "      <td>1362076081</td>\n",
       "      <td>27649635</td>\n",
       "      <td>u:FO</td>\n",
       "      <td>de</td>\n",
       "      <td>en</td>\n",
       "      <td>0cf63ffe3dda158bc3dbd55682b355ae</td>\n",
       "      <td>frau/frau&lt;n&gt;&lt;f&gt;&lt;sg&gt;&lt;nom&gt;</td>\n",
       "      <td>6</td>\n",
       "      <td>5</td>\n",
       "      <td>2</td>\n",
       "      <td>1</td>\n",
       "    </tr>\n",
       "    <tr>\n",
       "      <th>4</th>\n",
       "      <td>1.0</td>\n",
       "      <td>1362076081</td>\n",
       "      <td>27649635</td>\n",
       "      <td>u:FO</td>\n",
       "      <td>de</td>\n",
       "      <td>en</td>\n",
       "      <td>84920990d78044db53c1b012f5bf9ab5</td>\n",
       "      <td>das/das&lt;det&gt;&lt;def&gt;&lt;nt&gt;&lt;sg&gt;&lt;nom&gt;</td>\n",
       "      <td>4</td>\n",
       "      <td>4</td>\n",
       "      <td>1</td>\n",
       "      <td>1</td>\n",
       "    </tr>\n",
       "  </tbody>\n",
       "</table>\n",
       "</div>"
      ],
      "text/plain": [
       "   p_recall   timestamp     delta user_id learning_language ui_language  \\\n",
       "0       1.0  1362076081  27649635    u:FO                de          en   \n",
       "1       0.5  1362076081  27649635    u:FO                de          en   \n",
       "2       1.0  1362076081  27649635    u:FO                de          en   \n",
       "3       0.5  1362076081  27649635    u:FO                de          en   \n",
       "4       1.0  1362076081  27649635    u:FO                de          en   \n",
       "\n",
       "                          lexeme_id                     lexeme_string  \\\n",
       "0  76390c1350a8dac31186187e2fe1e178  lernt/lernen<vblex><pri><p3><sg>   \n",
       "1  7dfd7086f3671685e2cf1c1da72796d7     die/die<det><def><f><sg><nom>   \n",
       "2  35a54c25a2cda8127343f6a82e6f6b7d          mann/mann<n><m><sg><nom>   \n",
       "3  0cf63ffe3dda158bc3dbd55682b355ae          frau/frau<n><f><sg><nom>   \n",
       "4  84920990d78044db53c1b012f5bf9ab5    das/das<det><def><nt><sg><nom>   \n",
       "\n",
       "   history_seen  history_correct  session_seen  session_correct  \n",
       "0             6                4             2                2  \n",
       "1             4                4             2                1  \n",
       "2             5                4             1                1  \n",
       "3             6                5             2                1  \n",
       "4             4                4             1                1  "
      ]
     },
     "execution_count": 4,
     "metadata": {},
     "output_type": "execute_result"
    }
   ],
   "source": [
    "df.head()"
   ]
  },
  {
   "cell_type": "code",
   "execution_count": null,
   "id": "5854a3a0-237b-4b07-892a-fd1f6fb7eed2",
   "metadata": {},
   "outputs": [],
   "source": []
  }
 ],
 "metadata": {
  "kernelspec": {
   "display_name": "Python 3 (ipykernel)",
   "language": "python",
   "name": "python3"
  },
  "language_info": {
   "codemirror_mode": {
    "name": "ipython",
    "version": 3
   },
   "file_extension": ".py",
   "mimetype": "text/x-python",
   "name": "python",
   "nbconvert_exporter": "python",
   "pygments_lexer": "ipython3",
   "version": "3.12.3"
  }
 },
 "nbformat": 4,
 "nbformat_minor": 5
}

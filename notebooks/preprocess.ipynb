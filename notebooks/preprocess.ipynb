{
 "cells": [
  {
   "cell_type": "code",
   "execution_count": 1,
   "id": "33e3561f-48d5-4bb1-9a5c-68f486904d03",
   "metadata": {
    "editable": true,
    "slideshow": {
     "slide_type": ""
    },
    "tags": []
   },
   "outputs": [],
   "source": [
    "import os \n",
    "import pandas as pd \n",
    "import scipy.stats as stats\n",
    "import numpy as np"
   ]
  },
  {
   "cell_type": "code",
   "execution_count": 2,
   "id": "7696ae86-54ed-4109-ac87-a41343bd6590",
   "metadata": {
    "editable": true,
    "slideshow": {
     "slide_type": ""
    },
    "tags": []
   },
   "outputs": [],
   "source": [
    "current_dir = os.getcwd()\n",
    "\n",
    "# Original Dataset \n",
    "filename = '13 million Duolingo student learning traces.csv'\n",
    "filepath = os.path.normpath(os.path.join(current_dir, '../data/raw/', filename))\n",
    "\n",
    "\n",
    "chunk_size = 10000\n",
    "chunks = []\n",
    "\n",
    "for chunk in pd.read_csv(filepath, chunksize=chunk_size):\n",
    "    chunk.drop_duplicates(inplace=True)\n",
    "    chunk.dropna(inplace=True)\n",
    "    chunks.append(chunk)\n",
    "\n",
    "df = pd.concat(chunks, ignore_index=True)"
   ]
  },
  {
   "cell_type": "code",
   "execution_count": 3,
   "id": "df83d209-671f-4923-bfd0-5870eac4f1c8",
   "metadata": {
    "editable": true,
    "slideshow": {
     "slide_type": ""
    },
    "tags": []
   },
   "outputs": [
    {
     "name": "stdout",
     "output_type": "stream",
     "text": [
      "There are 0 missing values in the dataset\n"
     ]
    }
   ],
   "source": [
    "# Check for na\n",
    "nan_count = df.isna().sum().sum()\n",
    "print(f'There are {nan_count} missing values in the dataset')"
   ]
  },
  {
   "cell_type": "code",
   "execution_count": 4,
   "id": "83158a47-f8c8-4d5f-9376-5a585e08a698",
   "metadata": {},
   "outputs": [
    {
     "name": "stdout",
     "output_type": "stream",
     "text": [
      "There were 0 duplicates in the dataset\n"
     ]
    }
   ],
   "source": [
    "# Check for duplicates\n",
    "duplicates_count = df.duplicated().sum().sum()\n",
    "df.drop_duplicates(inplace=True)\n",
    "print(f'There were {duplicates_count} duplicates in the dataset')"
   ]
  },
  {
   "cell_type": "code",
   "execution_count": 5,
   "id": "7c5a0be4-8bf1-4244-b50a-d78a7ea0b4cf",
   "metadata": {
    "editable": true,
    "slideshow": {
     "slide_type": ""
    },
    "tags": []
   },
   "outputs": [
    {
     "name": "stdout",
     "output_type": "stream",
     "text": [
      "12790181\n",
      "12789624\n",
      "12595913\n"
     ]
    }
   ],
   "source": [
    "# Outlier using z-score \n",
    "# The only outliers we should look at is history_seen, history_correct, delta \n",
    "\n",
    "threshold_z = 3\n",
    "print(df['history_seen'][(np.abs(stats.zscore(df['history_seen'])) < threshold_z)].count())\n",
    "print(df['history_correct'][(np.abs(stats.zscore(df['history_correct'])) < threshold_z)].count())\n",
    "print(df['delta'][(np.abs(stats.zscore(df['delta'])) < threshold_z)].count())"
   ]
  },
  {
   "cell_type": "code",
   "execution_count": 6,
   "id": "efbb3536-d38b-486f-a1e8-4961a5b27fc4",
   "metadata": {},
   "outputs": [
    {
     "name": "stdout",
     "output_type": "stream",
     "text": [
      "36.0 237.0\n",
      "7.910547222222222 52.51042296296296\n"
     ]
    }
   ],
   "source": [
    "# Show the values for 0.9 and 0.99 quantiles \n",
    "print(df['history_seen'].quantile(0.9), df['history_seen'].quantile(0.99))\n",
    "print(round(df['delta'].quantile(0.9),2)/(60*60*60), round(df['delta'].quantile(0.99),2)/(60*60*60))"
   ]
  },
  {
   "cell_type": "code",
   "execution_count": 7,
   "id": "2be04748-cc53-4de6-b7d4-7daea7590b54",
   "metadata": {},
   "outputs": [
    {
     "name": "stdout",
     "output_type": "stream",
     "text": [
      "411\n",
      "34.579351851851854\n"
     ]
    }
   ],
   "source": [
    "# Show the values on the edge of z-score  \n",
    "print(df['history_seen'][(np.abs(stats.zscore(df['history_seen']))>=threshold_z)].min())\n",
    "print((df['delta'][(np.abs(stats.zscore(df['delta']))>=threshold_z)].min()/(60*60*60)))"
   ]
  },
  {
   "cell_type": "code",
   "execution_count": 8,
   "id": "c7214cba-eead-4947-b548-8e510cd45908",
   "metadata": {},
   "outputs": [
    {
     "data": {
      "text/html": [
       "<div>\n",
       "<style scoped>\n",
       "    .dataframe tbody tr th:only-of-type {\n",
       "        vertical-align: middle;\n",
       "    }\n",
       "\n",
       "    .dataframe tbody tr th {\n",
       "        vertical-align: top;\n",
       "    }\n",
       "\n",
       "    .dataframe thead th {\n",
       "        text-align: right;\n",
       "    }\n",
       "</style>\n",
       "<table border=\"1\" class=\"dataframe\">\n",
       "  <thead>\n",
       "    <tr style=\"text-align: right;\">\n",
       "      <th></th>\n",
       "      <th>p_recall</th>\n",
       "      <th>timestamp</th>\n",
       "      <th>delta</th>\n",
       "      <th>user_id</th>\n",
       "      <th>learning_language</th>\n",
       "      <th>ui_language</th>\n",
       "      <th>lexeme_id</th>\n",
       "      <th>lexeme_string</th>\n",
       "      <th>history_seen</th>\n",
       "      <th>history_correct</th>\n",
       "      <th>session_seen</th>\n",
       "      <th>session_correct</th>\n",
       "    </tr>\n",
       "  </thead>\n",
       "  <tbody>\n",
       "    <tr>\n",
       "      <th>187</th>\n",
       "      <td>1.0</td>\n",
       "      <td>1362082533</td>\n",
       "      <td>889</td>\n",
       "      <td>u:ezFh</td>\n",
       "      <td>es</td>\n",
       "      <td>en</td>\n",
       "      <td>4bdb859f599fa07dd5eecdab0acc2d34</td>\n",
       "      <td>a/a&lt;pr&gt;</td>\n",
       "      <td>261</td>\n",
       "      <td>229</td>\n",
       "      <td>1</td>\n",
       "      <td>1</td>\n",
       "    </tr>\n",
       "    <tr>\n",
       "      <th>188</th>\n",
       "      <td>1.0</td>\n",
       "      <td>1362082533</td>\n",
       "      <td>889</td>\n",
       "      <td>u:ezFh</td>\n",
       "      <td>es</td>\n",
       "      <td>en</td>\n",
       "      <td>41ba24ffb11fd09f5fc715d39cc6c1ea</td>\n",
       "      <td>qué/qué&lt;prn&gt;&lt;itg&gt;&lt;m&gt;&lt;sg&gt;</td>\n",
       "      <td>243</td>\n",
       "      <td>217</td>\n",
       "      <td>1</td>\n",
       "      <td>1</td>\n",
       "    </tr>\n",
       "    <tr>\n",
       "      <th>200</th>\n",
       "      <td>1.0</td>\n",
       "      <td>1362082533</td>\n",
       "      <td>889</td>\n",
       "      <td>u:ezFh</td>\n",
       "      <td>es</td>\n",
       "      <td>en</td>\n",
       "      <td>ab724af62c7e36266ef3b66766d47489</td>\n",
       "      <td>te/prpers&lt;prn&gt;&lt;pro&gt;&lt;p2&gt;&lt;mf&gt;&lt;sg&gt;</td>\n",
       "      <td>260</td>\n",
       "      <td>220</td>\n",
       "      <td>1</td>\n",
       "      <td>1</td>\n",
       "    </tr>\n",
       "    <tr>\n",
       "      <th>206</th>\n",
       "      <td>1.0</td>\n",
       "      <td>1362082533</td>\n",
       "      <td>443</td>\n",
       "      <td>u:ezFh</td>\n",
       "      <td>es</td>\n",
       "      <td>en</td>\n",
       "      <td>c2c8a202a12411858f87d4dcef5b2998</td>\n",
       "      <td>no/no&lt;adv&gt;</td>\n",
       "      <td>463</td>\n",
       "      <td>434</td>\n",
       "      <td>1</td>\n",
       "      <td>1</td>\n",
       "    </tr>\n",
       "    <tr>\n",
       "      <th>212</th>\n",
       "      <td>1.0</td>\n",
       "      <td>1362082533</td>\n",
       "      <td>443</td>\n",
       "      <td>u:ezFh</td>\n",
       "      <td>es</td>\n",
       "      <td>en</td>\n",
       "      <td>99cd0848be9239250ffd99e11add7338</td>\n",
       "      <td>de/de&lt;pr&gt;</td>\n",
       "      <td>368</td>\n",
       "      <td>330</td>\n",
       "      <td>1</td>\n",
       "      <td>1</td>\n",
       "    </tr>\n",
       "  </tbody>\n",
       "</table>\n",
       "</div>"
      ],
      "text/plain": [
       "     p_recall   timestamp  delta user_id learning_language ui_language  \\\n",
       "187       1.0  1362082533    889  u:ezFh                es          en   \n",
       "188       1.0  1362082533    889  u:ezFh                es          en   \n",
       "200       1.0  1362082533    889  u:ezFh                es          en   \n",
       "206       1.0  1362082533    443  u:ezFh                es          en   \n",
       "212       1.0  1362082533    443  u:ezFh                es          en   \n",
       "\n",
       "                            lexeme_id                    lexeme_string  \\\n",
       "187  4bdb859f599fa07dd5eecdab0acc2d34                          a/a<pr>   \n",
       "188  41ba24ffb11fd09f5fc715d39cc6c1ea         qué/qué<prn><itg><m><sg>   \n",
       "200  ab724af62c7e36266ef3b66766d47489  te/prpers<prn><pro><p2><mf><sg>   \n",
       "206  c2c8a202a12411858f87d4dcef5b2998                       no/no<adv>   \n",
       "212  99cd0848be9239250ffd99e11add7338                        de/de<pr>   \n",
       "\n",
       "     history_seen  history_correct  session_seen  session_correct  \n",
       "187           261              229             1                1  \n",
       "188           243              217             1                1  \n",
       "200           260              220             1                1  \n",
       "206           463              434             1                1  \n",
       "212           368              330             1                1  "
      ]
     },
     "execution_count": 8,
     "metadata": {},
     "output_type": "execute_result"
    }
   ],
   "source": [
    "# Show rows higher than 0.9 qunatile \n",
    "# df[df['history_seen'] > 36.0] # 1 262 445 rows \n",
    "\n",
    "# Show rows higher than 0.99 quantile \n",
    "df[df['history_seen'] > 237].head() # 127 979 rows"
   ]
  },
  {
   "cell_type": "code",
   "execution_count": 9,
   "id": "8c4d0aeb-adc9-4df6-91eb-6d09a78bafeb",
   "metadata": {},
   "outputs": [
    {
     "data": {
      "text/plain": [
       "115222"
      ]
     },
     "execution_count": 9,
     "metadata": {},
     "output_type": "execute_result"
    }
   ],
   "source": [
    "len(df['user_id'].unique()) # there are 115 222 users "
   ]
  },
  {
   "cell_type": "code",
   "execution_count": 10,
   "id": "57ffb8a5-1d7e-4f53-8333-85f71711d611",
   "metadata": {},
   "outputs": [
    {
     "data": {
      "text/plain": [
       "user_id\n",
       "u:bcH_    12322\n",
       "u:cpBu     5561\n",
       "u:goA      3695\n",
       "u:NPs      3221\n",
       "u:bkiW     3010\n",
       "          ...  \n",
       "u:ih1         1\n",
       "u:hG1         1\n",
       "u:dDx5        1\n",
       "u:dG6         1\n",
       "u:zz3         1\n",
       "Length: 1328, dtype: int64"
      ]
     },
     "execution_count": 10,
     "metadata": {},
     "output_type": "execute_result"
    }
   ],
   "source": [
    "df[df['history_seen'] > 237].groupby(df['user_id']).size().sort_values(ascending=False)   # There are only 1328 users with such score \n",
    "# The biggest user with such score has 12 322 rows "
   ]
  },
  {
   "cell_type": "code",
   "execution_count": 12,
   "id": "be2a7774-ede6-4324-ab97-0fa1512d63dc",
   "metadata": {},
   "outputs": [],
   "source": [
    "# Most of the users are \"casual\": they have low delta between words and low history_seen\n",
    "# user u:bcH_ doesn't seem like a real user: seeing word have 913 times and only 583 correctly "
   ]
  },
  {
   "cell_type": "code",
   "execution_count": 12,
   "id": "042282fb-ddf1-460c-b29c-2f65b8614d96",
   "metadata": {},
   "outputs": [
    {
     "name": "stdout",
     "output_type": "stream",
     "text": [
      "Original rows: 12854145\n",
      "Trimmed rows:  12725745\n",
      "Rows removed:  128400\n"
     ]
    }
   ],
   "source": [
    "# Delete outliers\n",
    "\n",
    "\n",
    "cols_to_trim = ['delta', 'history_seen', 'history_correct']\n",
    "\n",
    "for col in cols_to_trim:\n",
    "    upper_bound = df[col].quantile(0.99)\n",
    "    df_after_removal = df[df[col] <= upper_bound]\n",
    "\n",
    "\n",
    "print(f\"Original rows: {len(df)}\")\n",
    "print(f\"Trimmed rows:  {len(df_after_removal)}\")\n",
    "print(f\"Rows removed:  {len(df) - len(df_after_removal)}\")\n",
    "\n",
    "# Z-score method\n",
    "# df_outliers = df[['delta', 'history_seen', 'history_correct']]\n",
    "# z = np.abs(stats.zscore(df_outliers))   \n",
    "\n",
    "\n",
    "# df_after_removal = df[(z < threshold_z).all(axis=1)]\n"
   ]
  },
  {
   "cell_type": "code",
   "execution_count": 13,
   "id": "cf742b57-a912-41a4-b004-44aa83e91f52",
   "metadata": {},
   "outputs": [
    {
     "data": {
      "text/html": [
       "<div>\n",
       "<style scoped>\n",
       "    .dataframe tbody tr th:only-of-type {\n",
       "        vertical-align: middle;\n",
       "    }\n",
       "\n",
       "    .dataframe tbody tr th {\n",
       "        vertical-align: top;\n",
       "    }\n",
       "\n",
       "    .dataframe thead th {\n",
       "        text-align: right;\n",
       "    }\n",
       "</style>\n",
       "<table border=\"1\" class=\"dataframe\">\n",
       "  <thead>\n",
       "    <tr style=\"text-align: right;\">\n",
       "      <th></th>\n",
       "      <th>p_recall</th>\n",
       "      <th>timestamp</th>\n",
       "      <th>delta</th>\n",
       "      <th>user_id</th>\n",
       "      <th>learning_language</th>\n",
       "      <th>ui_language</th>\n",
       "      <th>lexeme_id</th>\n",
       "      <th>lexeme_string</th>\n",
       "      <th>history_seen</th>\n",
       "      <th>history_correct</th>\n",
       "      <th>session_seen</th>\n",
       "      <th>session_correct</th>\n",
       "    </tr>\n",
       "  </thead>\n",
       "  <tbody>\n",
       "    <tr>\n",
       "      <th>0</th>\n",
       "      <td>1.000000</td>\n",
       "      <td>1362076081</td>\n",
       "      <td>27649635</td>\n",
       "      <td>u:FO</td>\n",
       "      <td>de</td>\n",
       "      <td>en</td>\n",
       "      <td>76390c1350a8dac31186187e2fe1e178</td>\n",
       "      <td>lernt/lernen&lt;vblex&gt;&lt;pri&gt;&lt;p3&gt;&lt;sg&gt;</td>\n",
       "      <td>6</td>\n",
       "      <td>4</td>\n",
       "      <td>2</td>\n",
       "      <td>2</td>\n",
       "    </tr>\n",
       "    <tr>\n",
       "      <th>1</th>\n",
       "      <td>0.500000</td>\n",
       "      <td>1362076081</td>\n",
       "      <td>27649635</td>\n",
       "      <td>u:FO</td>\n",
       "      <td>de</td>\n",
       "      <td>en</td>\n",
       "      <td>7dfd7086f3671685e2cf1c1da72796d7</td>\n",
       "      <td>die/die&lt;det&gt;&lt;def&gt;&lt;f&gt;&lt;sg&gt;&lt;nom&gt;</td>\n",
       "      <td>4</td>\n",
       "      <td>4</td>\n",
       "      <td>2</td>\n",
       "      <td>1</td>\n",
       "    </tr>\n",
       "    <tr>\n",
       "      <th>2</th>\n",
       "      <td>1.000000</td>\n",
       "      <td>1362076081</td>\n",
       "      <td>27649635</td>\n",
       "      <td>u:FO</td>\n",
       "      <td>de</td>\n",
       "      <td>en</td>\n",
       "      <td>35a54c25a2cda8127343f6a82e6f6b7d</td>\n",
       "      <td>mann/mann&lt;n&gt;&lt;m&gt;&lt;sg&gt;&lt;nom&gt;</td>\n",
       "      <td>5</td>\n",
       "      <td>4</td>\n",
       "      <td>1</td>\n",
       "      <td>1</td>\n",
       "    </tr>\n",
       "    <tr>\n",
       "      <th>3</th>\n",
       "      <td>0.500000</td>\n",
       "      <td>1362076081</td>\n",
       "      <td>27649635</td>\n",
       "      <td>u:FO</td>\n",
       "      <td>de</td>\n",
       "      <td>en</td>\n",
       "      <td>0cf63ffe3dda158bc3dbd55682b355ae</td>\n",
       "      <td>frau/frau&lt;n&gt;&lt;f&gt;&lt;sg&gt;&lt;nom&gt;</td>\n",
       "      <td>6</td>\n",
       "      <td>5</td>\n",
       "      <td>2</td>\n",
       "      <td>1</td>\n",
       "    </tr>\n",
       "    <tr>\n",
       "      <th>4</th>\n",
       "      <td>1.000000</td>\n",
       "      <td>1362076081</td>\n",
       "      <td>27649635</td>\n",
       "      <td>u:FO</td>\n",
       "      <td>de</td>\n",
       "      <td>en</td>\n",
       "      <td>84920990d78044db53c1b012f5bf9ab5</td>\n",
       "      <td>das/das&lt;det&gt;&lt;def&gt;&lt;nt&gt;&lt;sg&gt;&lt;nom&gt;</td>\n",
       "      <td>4</td>\n",
       "      <td>4</td>\n",
       "      <td>1</td>\n",
       "      <td>1</td>\n",
       "    </tr>\n",
       "    <tr>\n",
       "      <th>...</th>\n",
       "      <td>...</td>\n",
       "      <td>...</td>\n",
       "      <td>...</td>\n",
       "      <td>...</td>\n",
       "      <td>...</td>\n",
       "      <td>...</td>\n",
       "      <td>...</td>\n",
       "      <td>...</td>\n",
       "      <td>...</td>\n",
       "      <td>...</td>\n",
       "      <td>...</td>\n",
       "      <td>...</td>\n",
       "    </tr>\n",
       "    <tr>\n",
       "      <th>12854140</th>\n",
       "      <td>0.800000</td>\n",
       "      <td>1363104897</td>\n",
       "      <td>368</td>\n",
       "      <td>u:i5D8</td>\n",
       "      <td>en</td>\n",
       "      <td>it</td>\n",
       "      <td>d5efc552aaea3109eb5388aa1ec8673d</td>\n",
       "      <td>the/the&lt;det&gt;&lt;def&gt;&lt;sp&gt;</td>\n",
       "      <td>6</td>\n",
       "      <td>4</td>\n",
       "      <td>5</td>\n",
       "      <td>4</td>\n",
       "    </tr>\n",
       "    <tr>\n",
       "      <th>12854141</th>\n",
       "      <td>0.800000</td>\n",
       "      <td>1363104897</td>\n",
       "      <td>368</td>\n",
       "      <td>u:i5D8</td>\n",
       "      <td>en</td>\n",
       "      <td>it</td>\n",
       "      <td>a826c47947d68549fa81e19cafa57ba0</td>\n",
       "      <td>eat/eat&lt;vblex&gt;&lt;pres&gt;</td>\n",
       "      <td>4</td>\n",
       "      <td>4</td>\n",
       "      <td>5</td>\n",
       "      <td>4</td>\n",
       "    </tr>\n",
       "    <tr>\n",
       "      <th>12854142</th>\n",
       "      <td>1.000000</td>\n",
       "      <td>1363104897</td>\n",
       "      <td>368</td>\n",
       "      <td>u:i5D8</td>\n",
       "      <td>en</td>\n",
       "      <td>it</td>\n",
       "      <td>5e29d77697d23070a1fb92eb6c90e9b6</td>\n",
       "      <td>bread/bread&lt;n&gt;&lt;sg&gt;</td>\n",
       "      <td>4</td>\n",
       "      <td>4</td>\n",
       "      <td>4</td>\n",
       "      <td>4</td>\n",
       "    </tr>\n",
       "    <tr>\n",
       "      <th>12854143</th>\n",
       "      <td>0.600000</td>\n",
       "      <td>1363104897</td>\n",
       "      <td>368</td>\n",
       "      <td>u:i5D8</td>\n",
       "      <td>en</td>\n",
       "      <td>it</td>\n",
       "      <td>cdfecc9247566d40bb964a218c54c783</td>\n",
       "      <td>drink/drink&lt;vblex&gt;&lt;pres&gt;</td>\n",
       "      <td>3</td>\n",
       "      <td>2</td>\n",
       "      <td>5</td>\n",
       "      <td>3</td>\n",
       "    </tr>\n",
       "    <tr>\n",
       "      <th>12854144</th>\n",
       "      <td>0.666667</td>\n",
       "      <td>1363104897</td>\n",
       "      <td>368</td>\n",
       "      <td>u:i5D8</td>\n",
       "      <td>en</td>\n",
       "      <td>it</td>\n",
       "      <td>c52ab45d4e22ee7580041911159e3c0c</td>\n",
       "      <td>water/water&lt;n&gt;&lt;sg&gt;</td>\n",
       "      <td>5</td>\n",
       "      <td>3</td>\n",
       "      <td>9</td>\n",
       "      <td>6</td>\n",
       "    </tr>\n",
       "  </tbody>\n",
       "</table>\n",
       "<p>12725745 rows × 12 columns</p>\n",
       "</div>"
      ],
      "text/plain": [
       "          p_recall   timestamp     delta user_id learning_language  \\\n",
       "0         1.000000  1362076081  27649635    u:FO                de   \n",
       "1         0.500000  1362076081  27649635    u:FO                de   \n",
       "2         1.000000  1362076081  27649635    u:FO                de   \n",
       "3         0.500000  1362076081  27649635    u:FO                de   \n",
       "4         1.000000  1362076081  27649635    u:FO                de   \n",
       "...            ...         ...       ...     ...               ...   \n",
       "12854140  0.800000  1363104897       368  u:i5D8                en   \n",
       "12854141  0.800000  1363104897       368  u:i5D8                en   \n",
       "12854142  1.000000  1363104897       368  u:i5D8                en   \n",
       "12854143  0.600000  1363104897       368  u:i5D8                en   \n",
       "12854144  0.666667  1363104897       368  u:i5D8                en   \n",
       "\n",
       "         ui_language                         lexeme_id  \\\n",
       "0                 en  76390c1350a8dac31186187e2fe1e178   \n",
       "1                 en  7dfd7086f3671685e2cf1c1da72796d7   \n",
       "2                 en  35a54c25a2cda8127343f6a82e6f6b7d   \n",
       "3                 en  0cf63ffe3dda158bc3dbd55682b355ae   \n",
       "4                 en  84920990d78044db53c1b012f5bf9ab5   \n",
       "...              ...                               ...   \n",
       "12854140          it  d5efc552aaea3109eb5388aa1ec8673d   \n",
       "12854141          it  a826c47947d68549fa81e19cafa57ba0   \n",
       "12854142          it  5e29d77697d23070a1fb92eb6c90e9b6   \n",
       "12854143          it  cdfecc9247566d40bb964a218c54c783   \n",
       "12854144          it  c52ab45d4e22ee7580041911159e3c0c   \n",
       "\n",
       "                             lexeme_string  history_seen  history_correct  \\\n",
       "0         lernt/lernen<vblex><pri><p3><sg>             6                4   \n",
       "1            die/die<det><def><f><sg><nom>             4                4   \n",
       "2                 mann/mann<n><m><sg><nom>             5                4   \n",
       "3                 frau/frau<n><f><sg><nom>             6                5   \n",
       "4           das/das<det><def><nt><sg><nom>             4                4   \n",
       "...                                    ...           ...              ...   \n",
       "12854140             the/the<det><def><sp>             6                4   \n",
       "12854141              eat/eat<vblex><pres>             4                4   \n",
       "12854142                bread/bread<n><sg>             4                4   \n",
       "12854143          drink/drink<vblex><pres>             3                2   \n",
       "12854144                water/water<n><sg>             5                3   \n",
       "\n",
       "          session_seen  session_correct  \n",
       "0                    2                2  \n",
       "1                    2                1  \n",
       "2                    1                1  \n",
       "3                    2                1  \n",
       "4                    1                1  \n",
       "...                ...              ...  \n",
       "12854140             5                4  \n",
       "12854141             5                4  \n",
       "12854142             4                4  \n",
       "12854143             5                3  \n",
       "12854144             9                6  \n",
       "\n",
       "[12725745 rows x 12 columns]"
      ]
     },
     "execution_count": 13,
     "metadata": {},
     "output_type": "execute_result"
    }
   ],
   "source": [
    "df_after_removal"
   ]
  },
  {
   "cell_type": "code",
   "execution_count": 14,
   "id": "e7576f64-231d-4bee-ae7a-33369da367db",
   "metadata": {},
   "outputs": [
    {
     "name": "stderr",
     "output_type": "stream",
     "text": [
      "/var/folders/_b/l_819g5924d_y00npn9gt60h0000gn/T/ipykernel_51679/2704504019.py:1: SettingWithCopyWarning: \n",
      "A value is trying to be set on a copy of a slice from a DataFrame.\n",
      "Try using .loc[row_indexer,col_indexer] = value instead\n",
      "\n",
      "See the caveats in the documentation: https://pandas.pydata.org/pandas-docs/stable/user_guide/indexing.html#returning-a-view-versus-a-copy\n",
      "  df_after_removal['h_recall'] = df_after_removal['history_correct']/df_after_removal['history_seen']\n",
      "/var/folders/_b/l_819g5924d_y00npn9gt60h0000gn/T/ipykernel_51679/2704504019.py:2: SettingWithCopyWarning: \n",
      "A value is trying to be set on a copy of a slice from a DataFrame\n",
      "\n",
      "See the caveats in the documentation: https://pandas.pydata.org/pandas-docs/stable/user_guide/indexing.html#returning-a-view-versus-a-copy\n",
      "  df_after_removal.drop(columns=['lexeme_string'], inplace=True)\n"
     ]
    }
   ],
   "source": [
    "df_after_removal['h_recall'] = df_after_removal['history_correct']/df_after_removal['history_seen']\n",
    "df_after_removal.drop(columns=['lexeme_string'], inplace=True)"
   ]
  },
  {
   "cell_type": "code",
   "execution_count": 17,
   "id": "f4aafbad-070e-433c-ab11-d9bcb7187a6c",
   "metadata": {},
   "outputs": [
    {
     "name": "stdout",
     "output_type": "stream",
     "text": [
      "max history before removal 13518\n",
      "max history after removal 498\n"
     ]
    }
   ],
   "source": [
    "print('max history before removal', df['history_seen'].max())\n",
    "\n",
    "print('max history after removal', df_after_removal['history_seen'].max())"
   ]
  },
  {
   "cell_type": "code",
   "execution_count": 18,
   "id": "e07b2959-e964-4b2f-8ffe-87cb94c8ff3e",
   "metadata": {},
   "outputs": [
    {
     "name": "stderr",
     "output_type": "stream",
     "text": [
      "/var/folders/_b/l_819g5924d_y00npn9gt60h0000gn/T/ipykernel_51679/823829646.py:1: SettingWithCopyWarning: \n",
      "A value is trying to be set on a copy of a slice from a DataFrame.\n",
      "Try using .loc[row_indexer,col_indexer] = value instead\n",
      "\n",
      "See the caveats in the documentation: https://pandas.pydata.org/pandas-docs/stable/user_guide/indexing.html#returning-a-view-versus-a-copy\n",
      "  df_after_removal['lang_combination'] = df_after_removal['ui_language'] + '-' + df_after_removal['learning_language']\n"
     ]
    },
    {
     "data": {
      "text/html": [
       "<div>\n",
       "<style scoped>\n",
       "    .dataframe tbody tr th:only-of-type {\n",
       "        vertical-align: middle;\n",
       "    }\n",
       "\n",
       "    .dataframe tbody tr th {\n",
       "        vertical-align: top;\n",
       "    }\n",
       "\n",
       "    .dataframe thead th {\n",
       "        text-align: right;\n",
       "    }\n",
       "</style>\n",
       "<table border=\"1\" class=\"dataframe\">\n",
       "  <thead>\n",
       "    <tr style=\"text-align: right;\">\n",
       "      <th></th>\n",
       "      <th>p_recall</th>\n",
       "      <th>timestamp</th>\n",
       "      <th>delta</th>\n",
       "      <th>user_id</th>\n",
       "      <th>learning_language</th>\n",
       "      <th>ui_language</th>\n",
       "      <th>lexeme_id</th>\n",
       "      <th>history_seen</th>\n",
       "      <th>history_correct</th>\n",
       "      <th>session_seen</th>\n",
       "      <th>session_correct</th>\n",
       "      <th>h_recall</th>\n",
       "      <th>lang_combination</th>\n",
       "    </tr>\n",
       "  </thead>\n",
       "  <tbody>\n",
       "    <tr>\n",
       "      <th>0</th>\n",
       "      <td>1.0</td>\n",
       "      <td>1362076081</td>\n",
       "      <td>27649635</td>\n",
       "      <td>u:FO</td>\n",
       "      <td>de</td>\n",
       "      <td>en</td>\n",
       "      <td>76390c1350a8dac31186187e2fe1e178</td>\n",
       "      <td>6</td>\n",
       "      <td>4</td>\n",
       "      <td>2</td>\n",
       "      <td>2</td>\n",
       "      <td>0.666667</td>\n",
       "      <td>en-de</td>\n",
       "    </tr>\n",
       "    <tr>\n",
       "      <th>1</th>\n",
       "      <td>0.5</td>\n",
       "      <td>1362076081</td>\n",
       "      <td>27649635</td>\n",
       "      <td>u:FO</td>\n",
       "      <td>de</td>\n",
       "      <td>en</td>\n",
       "      <td>7dfd7086f3671685e2cf1c1da72796d7</td>\n",
       "      <td>4</td>\n",
       "      <td>4</td>\n",
       "      <td>2</td>\n",
       "      <td>1</td>\n",
       "      <td>1.000000</td>\n",
       "      <td>en-de</td>\n",
       "    </tr>\n",
       "    <tr>\n",
       "      <th>2</th>\n",
       "      <td>1.0</td>\n",
       "      <td>1362076081</td>\n",
       "      <td>27649635</td>\n",
       "      <td>u:FO</td>\n",
       "      <td>de</td>\n",
       "      <td>en</td>\n",
       "      <td>35a54c25a2cda8127343f6a82e6f6b7d</td>\n",
       "      <td>5</td>\n",
       "      <td>4</td>\n",
       "      <td>1</td>\n",
       "      <td>1</td>\n",
       "      <td>0.800000</td>\n",
       "      <td>en-de</td>\n",
       "    </tr>\n",
       "    <tr>\n",
       "      <th>3</th>\n",
       "      <td>0.5</td>\n",
       "      <td>1362076081</td>\n",
       "      <td>27649635</td>\n",
       "      <td>u:FO</td>\n",
       "      <td>de</td>\n",
       "      <td>en</td>\n",
       "      <td>0cf63ffe3dda158bc3dbd55682b355ae</td>\n",
       "      <td>6</td>\n",
       "      <td>5</td>\n",
       "      <td>2</td>\n",
       "      <td>1</td>\n",
       "      <td>0.833333</td>\n",
       "      <td>en-de</td>\n",
       "    </tr>\n",
       "    <tr>\n",
       "      <th>4</th>\n",
       "      <td>1.0</td>\n",
       "      <td>1362076081</td>\n",
       "      <td>27649635</td>\n",
       "      <td>u:FO</td>\n",
       "      <td>de</td>\n",
       "      <td>en</td>\n",
       "      <td>84920990d78044db53c1b012f5bf9ab5</td>\n",
       "      <td>4</td>\n",
       "      <td>4</td>\n",
       "      <td>1</td>\n",
       "      <td>1</td>\n",
       "      <td>1.000000</td>\n",
       "      <td>en-de</td>\n",
       "    </tr>\n",
       "  </tbody>\n",
       "</table>\n",
       "</div>"
      ],
      "text/plain": [
       "   p_recall   timestamp     delta user_id learning_language ui_language  \\\n",
       "0       1.0  1362076081  27649635    u:FO                de          en   \n",
       "1       0.5  1362076081  27649635    u:FO                de          en   \n",
       "2       1.0  1362076081  27649635    u:FO                de          en   \n",
       "3       0.5  1362076081  27649635    u:FO                de          en   \n",
       "4       1.0  1362076081  27649635    u:FO                de          en   \n",
       "\n",
       "                          lexeme_id  history_seen  history_correct  \\\n",
       "0  76390c1350a8dac31186187e2fe1e178             6                4   \n",
       "1  7dfd7086f3671685e2cf1c1da72796d7             4                4   \n",
       "2  35a54c25a2cda8127343f6a82e6f6b7d             5                4   \n",
       "3  0cf63ffe3dda158bc3dbd55682b355ae             6                5   \n",
       "4  84920990d78044db53c1b012f5bf9ab5             4                4   \n",
       "\n",
       "   session_seen  session_correct  h_recall lang_combination  \n",
       "0             2                2  0.666667            en-de  \n",
       "1             2                1  1.000000            en-de  \n",
       "2             1                1  0.800000            en-de  \n",
       "3             2                1  0.833333            en-de  \n",
       "4             1                1  1.000000            en-de  "
      ]
     },
     "execution_count": 18,
     "metadata": {},
     "output_type": "execute_result"
    }
   ],
   "source": [
    "df_after_removal['lang_combination'] = df_after_removal['ui_language'] + '-' + df_after_removal['learning_language']\n",
    "df_after_removal.head()"
   ]
  },
  {
   "cell_type": "code",
   "execution_count": 19,
   "id": "5854a3a0-237b-4b07-892a-fd1f6fb7eed2",
   "metadata": {},
   "outputs": [],
   "source": [
    "filepath = os.path.normpath(os.path.join(current_dir, '../data/processed/'))\n",
    "df_after_removal.to_csv(os.path.join(filepath, 'df_processed.csv'), sep=',', index=False, header=True)"
   ]
  }
 ],
 "metadata": {
  "kernelspec": {
   "display_name": "Python 3 (ipykernel)",
   "language": "python",
   "name": "python3"
  },
  "language_info": {
   "codemirror_mode": {
    "name": "ipython",
    "version": 3
   },
   "file_extension": ".py",
   "mimetype": "text/x-python",
   "name": "python",
   "nbconvert_exporter": "python",
   "pygments_lexer": "ipython3",
   "version": "3.12.3"
  }
 },
 "nbformat": 4,
 "nbformat_minor": 5
}

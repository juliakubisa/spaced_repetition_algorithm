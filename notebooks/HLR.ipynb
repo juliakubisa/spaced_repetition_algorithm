{
 "cells": [
  {
   "cell_type": "code",
   "execution_count": 1,
   "id": "9f4ee633-14e5-4fca-81b2-bda39cce72da",
   "metadata": {},
   "outputs": [],
   "source": [
    "# Half-Life as implemented by Duolingo "
   ]
  },
  {
   "cell_type": "code",
   "execution_count": 109,
   "id": "40860931-8de0-4f58-99e0-98d42682107d",
   "metadata": {},
   "outputs": [],
   "source": [
    "import math\n",
    "import numpy as np\n",
    "from collections import defaultdict, namedtuple\n",
    "from sklearn.metrics import r2_score\n",
    "from sys import intern\n",
    "import pandas as pd\n",
    "# import warnings\n",
    "import os\n",
    "\n",
    "%run diagnostics.ipynb\n"
   ]
  },
  {
   "cell_type": "code",
   "execution_count": 110,
   "id": "17034490-502c-4d6d-ab4f-237d8dd653fc",
   "metadata": {},
   "outputs": [],
   "source": [
    "# cols_to_drop = ['timestamp', 'lexeme_id', 'word', 'user_id', 'POS', 'person', \n",
    "#                   'number', 'gender', 'tense', 'def', 'h_recall', 'history_wrong']\n",
    "\n",
    "\n",
    "# - lex - u\n",
    "cols_to_drop = ['timestamp', 'lexeme_id', 'word', 'user_id', 'POS', 'person', \n",
    "                  'number', 'gender', 'tense', 'def', 'h_recall', 'history_wrong', 'tags_list', 'SUBTLEX', 'word_len', 'avg_delta', 'std_delta', 'avg_h_recall']\n",
    "\n",
    "# # - lex\n",
    "# cols_to_drop = ['timestamp', 'lexeme_id', 'word', 'user_id', 'POS', 'person', \n",
    "#                   'number', 'gender', 'tense', 'def', 'h_recall', 'history_wrong', 'tags_list', 'SUBTLEX', 'word_len']"
   ]
  },
  {
   "cell_type": "code",
   "execution_count": 111,
   "id": "81ed1b7c-e173-48bc-9bf9-552d7b3ba86e",
   "metadata": {},
   "outputs": [],
   "source": [
    "current_dir = os.getcwd()\n",
    "\n",
    "filename = 'df_processed.csv'\n",
    "filepath = os.path.normpath(os.path.join(current_dir, '../data/processed/', filename))\n",
    "\n",
    "chunk_size = 10000\n",
    "chunks = []\n",
    "\n",
    "for chunk in pd.read_csv(filepath, chunksize=chunk_size):\n",
    "    chunk.drop_duplicates(inplace=True)\n",
    "    chunk.dropna(inplace=True)\n",
    "    chunks.append(chunk)\n",
    "\n",
    "df = pd.concat(chunks, ignore_index=True)\n",
    "df_users = pd.read_csv(os.path.normpath(os.path.join(current_dir, '../data/features/', 'users_behaviur.csv')))\n",
    "df_words = pd.read_csv(os.path.normpath(os.path.join(current_dir, '../data/features/', 'word_complexity_features.csv')), sep='\\t')\n",
    "\n",
    "dff = pd.merge(pd.merge(df_words, df, on = 'lexeme_id', how='inner'), df_users, on = ['user_id', 'lang_combination'], how='inner')\n",
    "dff.drop(columns=cols_to_drop, inplace=True, errors='ignore')"
   ]
  },
  {
   "cell_type": "code",
   "execution_count": 112,
   "id": "3e2de500-23c2-480e-95d1-fb2da0709a6c",
   "metadata": {},
   "outputs": [
    {
     "data": {
      "text/html": [
       "<div>\n",
       "<style scoped>\n",
       "    .dataframe tbody tr th:only-of-type {\n",
       "        vertical-align: middle;\n",
       "    }\n",
       "\n",
       "    .dataframe tbody tr th {\n",
       "        vertical-align: top;\n",
       "    }\n",
       "\n",
       "    .dataframe thead th {\n",
       "        text-align: right;\n",
       "    }\n",
       "</style>\n",
       "<table border=\"1\" class=\"dataframe\">\n",
       "  <thead>\n",
       "    <tr style=\"text-align: right;\">\n",
       "      <th></th>\n",
       "      <th>p_recall</th>\n",
       "      <th>delta</th>\n",
       "      <th>learning_language</th>\n",
       "      <th>ui_language</th>\n",
       "      <th>history_seen</th>\n",
       "      <th>history_correct</th>\n",
       "      <th>session_seen</th>\n",
       "      <th>session_correct</th>\n",
       "      <th>lang_combination</th>\n",
       "    </tr>\n",
       "  </thead>\n",
       "  <tbody>\n",
       "    <tr>\n",
       "      <th>0</th>\n",
       "      <td>1.0</td>\n",
       "      <td>27649635</td>\n",
       "      <td>de</td>\n",
       "      <td>en</td>\n",
       "      <td>6</td>\n",
       "      <td>4</td>\n",
       "      <td>2</td>\n",
       "      <td>2</td>\n",
       "      <td>en-de</td>\n",
       "    </tr>\n",
       "    <tr>\n",
       "      <th>1</th>\n",
       "      <td>1.0</td>\n",
       "      <td>5963</td>\n",
       "      <td>de</td>\n",
       "      <td>en</td>\n",
       "      <td>8</td>\n",
       "      <td>6</td>\n",
       "      <td>6</td>\n",
       "      <td>6</td>\n",
       "      <td>en-de</td>\n",
       "    </tr>\n",
       "    <tr>\n",
       "      <th>2</th>\n",
       "      <td>0.0</td>\n",
       "      <td>253</td>\n",
       "      <td>de</td>\n",
       "      <td>en</td>\n",
       "      <td>14</td>\n",
       "      <td>12</td>\n",
       "      <td>1</td>\n",
       "      <td>0</td>\n",
       "      <td>en-de</td>\n",
       "    </tr>\n",
       "    <tr>\n",
       "      <th>3</th>\n",
       "      <td>1.0</td>\n",
       "      <td>65</td>\n",
       "      <td>de</td>\n",
       "      <td>en</td>\n",
       "      <td>15</td>\n",
       "      <td>12</td>\n",
       "      <td>1</td>\n",
       "      <td>1</td>\n",
       "      <td>en-de</td>\n",
       "    </tr>\n",
       "    <tr>\n",
       "      <th>4</th>\n",
       "      <td>0.5</td>\n",
       "      <td>27</td>\n",
       "      <td>de</td>\n",
       "      <td>en</td>\n",
       "      <td>16</td>\n",
       "      <td>13</td>\n",
       "      <td>2</td>\n",
       "      <td>1</td>\n",
       "      <td>en-de</td>\n",
       "    </tr>\n",
       "  </tbody>\n",
       "</table>\n",
       "</div>"
      ],
      "text/plain": [
       "   p_recall     delta learning_language ui_language  history_seen  \\\n",
       "0       1.0  27649635                de          en             6   \n",
       "1       1.0      5963                de          en             8   \n",
       "2       0.0       253                de          en            14   \n",
       "3       1.0        65                de          en            15   \n",
       "4       0.5        27                de          en            16   \n",
       "\n",
       "   history_correct  session_seen  session_correct lang_combination  \n",
       "0                4             2                2            en-de  \n",
       "1                6             6                6            en-de  \n",
       "2               12             1                0            en-de  \n",
       "3               12             1                1            en-de  \n",
       "4               13             2                1            en-de  "
      ]
     },
     "execution_count": 112,
     "metadata": {},
     "output_type": "execute_result"
    }
   ],
   "source": [
    "dff.head()"
   ]
  },
  {
   "cell_type": "code",
   "execution_count": 113,
   "id": "d4309558-59fd-4d78-b51b-e7654bfba390",
   "metadata": {},
   "outputs": [],
   "source": [
    "# Constants\n",
    "min_half_life = 15.0 / (24 * 60)  # 15 minutes in days\n",
    "max_half_life = 274.0            # 9 months\n",
    "LN2 = math.log(2)\n",
    "\n",
    "# Utility functions\n",
    "def pclip(p):\n",
    "    \"\"\"Clip recall probability to avoid numerical issues.\"\"\"\n",
    "    return p.clip(0.0001, 0.9999)\n",
    "\n",
    "\n",
    "def hclip(h):\n",
    "    \"\"\"Clip half-life to a reasonable range.\"\"\"\n",
    "    return h.clip(min_half_life, max_half_life)\n",
    "\n",
    "def mae(l1, l2):\n",
    "    # mean average error\n",
    "    return mean([abs(l1[i] - l2[i]) for i in range(len(l1))])\n",
    "\n",
    "def mean(lst):\n",
    "    # the average of a list\n",
    "    return float(sum(lst))/len(lst)"
   ]
  },
  {
   "cell_type": "code",
   "execution_count": 114,
   "id": "7c63137d-f146-4c0e-8f14-87bc753d919f",
   "metadata": {},
   "outputs": [
    {
     "data": {
      "text/plain": [
       "Index(['p_recall', 'delta', 'learning_language', 'ui_language', 'history_seen',\n",
       "       'history_correct', 'session_seen', 'session_correct',\n",
       "       'lang_combination'],\n",
       "      dtype='object')"
      ]
     },
     "execution_count": 114,
     "metadata": {},
     "output_type": "execute_result"
    }
   ],
   "source": [
    "dff.columns"
   ]
  },
  {
   "cell_type": "code",
   "execution_count": 115,
   "id": "8e0a2111-0907-43e0-8d29-85929abc9f9b",
   "metadata": {},
   "outputs": [],
   "source": [
    "# Changes to dataset before fitting \n",
    "dff['p_recall'] = pclip(dff['p_recall'])\n",
    "dff['half_life'] = hclip(-dff['delta']/np.log2(dff['p_recall']))\n",
    "\n",
    "# LOG the variables\n",
    "dff['delta'] = np.log2(dff['delta']/(60*60*24)) # convert time delta to days\n",
    "# dff['avg_delta'] = np.log2(dff['avg_delta']/(60*60*24))\n",
    "# dff['std_delta'] = np.log2(dff['std_delta']/(60*60*24))\n",
    "dff['history_seen'] = np.log2(1+dff['history_seen'])\n",
    "dff['history_correct'] = np.log2(1+dff['history_correct'])\n",
    "# dff['history_wrong'] = dff['history_seen'] - dff['history_correct']\n",
    "\n",
    "\n",
    "# TAGS \n",
    "# tag_counts = dff['tags_list'].value_counts()\n",
    "# rare_threshold = 1000\n",
    "# dff['tags_list'] = dff['tags_list'].apply(lambda x: x if tag_counts[x] > rare_threshold else 'rare')\n",
    "\n",
    "\n",
    "dff_final = dff.drop(columns=['learning_language_y', 'ui_language_y', 'learning_language_x', 'ui_language_x', 'avg_user_p_recall'], errors='ignore')\n",
    "dff_final.dropna(inplace=True)\n"
   ]
  },
  {
   "cell_type": "code",
   "execution_count": 116,
   "id": "4115b8d2-8cbd-44a0-ba22-99f2b2239bbb",
   "metadata": {},
   "outputs": [],
   "source": [
    "Instance = namedtuple('Instance', 'p_recall delta fv half_life session_seen session_correct'.split())\n",
    "\n",
    "def create_instances_from_dataframe(df, frac=0.5):\n",
    "    instances = []\n",
    "    for _, row in df.iterrows():\n",
    "        fv = []\n",
    "        fv.append((intern('history_seen'), np.log2(1 + row['history_seen'])))\n",
    "        fv.append((intern('history_correct'), np.log2(1 + row['history_correct'])))\n",
    "        # fv.append((intern('history_wrong'), np.sqrt(1 + row['history_wrong'])))\n",
    "        # fv.append((intern('h_recall'), np.log2(1+row['h_recall'])))\n",
    "        # fv.append((intern('word_len'), row['word_len']))\n",
    "        fv.append((intern('lang_comb:' + row['lang_combination']), 1.0))\n",
    "        # fv.append((intern('avg_delta'), row['avg_delta']))\n",
    "        # fv.append((intern('SUBTLEX'), row['SUBTLEX']))\n",
    "        # fv.append((intern('std_delta'), row['std_delta']))\n",
    "        # fv.append((intern('avg_h_recall'), row['avg_h_recall']))\n",
    "        # fv.append((intern('tags_list:' + row['tags_list']), 1.0))\n",
    "\n",
    "        instance = Instance(\n",
    "            p_recall=row['p_recall'],\n",
    "            delta=row['delta'],\n",
    "            fv=fv,\n",
    "            half_life=row['half_life'],\n",
    "            session_seen = row['session_seen'],\n",
    "            session_correct = row['session_correct']\n",
    "        )\n",
    "\n",
    "        instances.append(instance)\n",
    "        \n",
    "    splitpoint = int(0.8 * len(instances))\n",
    "    return instances[:splitpoint], instances[splitpoint:]"
   ]
  },
  {
   "cell_type": "code",
   "execution_count": 117,
   "id": "56ce17c4-2824-4d59-8a98-175c922ed2d3",
   "metadata": {},
   "outputs": [],
   "source": [
    "from collections import defaultdict\n",
    "import random\n",
    "import math\n",
    "\n",
    "class HalfLifeRegression:\n",
    "    def __init__(self, learning_rate=0.001, hlwt=0.001, l2wt=5, sigma=1., initial_weights=None):\n",
    "        self.weights = defaultdict(float)  # Feature weights\n",
    "        self.fcounts = defaultdict(int)    # Feature counts for adaptive learning rates\n",
    "        self.learning_rate = learning_rate # Base learning rate\n",
    "        self.hlwt = hlwt                   # Weight for half-life loss\n",
    "        self.l2wt = l2wt                   # L2 regularization weight\n",
    "        self.sigma = sigma                 # Sigma value for L2 regularization\n",
    "        if initial_weights is not None:\n",
    "            self.weights.update(initial_weights)\n",
    "\n",
    "    def halflife(self, inst):\n",
    "        \"\"\"Compute predicted half-life based on feature vector.\"\"\"\n",
    "        try:\n",
    "            dp = sum([self.weights[k] * x_k for (k, x_k) in inst.fv])  # where inst.fv is the feature vector\n",
    "            dp = np.clip(dp, -50, 50)\n",
    "            with np.errstate(over='raise'):\n",
    "                return hclip(np.exp2(dp))\n",
    "        except:\n",
    "            return max_half_life  # Return a default max value if an error occurs\n",
    "\n",
    "    def predict(self, inst):\n",
    "        \"\"\"Predict recall probability and half-life.\"\"\"\n",
    "        h_pred = self.halflife(inst)\n",
    "        p_pred = 2 ** (-inst.delta / h_pred)\n",
    "        return pclip(p_pred), h_pred  \n",
    "\n",
    "    \n",
    "    def train_update(self, inst):\n",
    "        \"\"\"Update weights using one training instance.\"\"\"\n",
    "        p_pred, h_pred = self.predict(inst)\n",
    "\n",
    "        # Compute gradients\n",
    "        dlp_dw = 2 * (p_pred - inst.p_recall) * (LN2 ** 2) * p_pred * (inst.delta / h_pred)\n",
    "        dlh_dw = 2 * (h_pred - inst.half_life) * LN2 * h_pred\n",
    "\n",
    "        # Update weights\n",
    "        for (k, x_k) in inst.fv:\n",
    "            rate = (1. / (1 + inst.p_recall)) * self.learning_rate / math.sqrt(1 + self.fcounts[k])\n",
    "            # Update for recall probability loss\n",
    "            self.weights[k] -= rate * dlp_dw * x_k  \n",
    "            \n",
    "            # Update forh half-life loss \n",
    "            self.weights[k] -= rate * self.hlwt * dlh_dw * x_k  \n",
    "\n",
    "            # L2 regularization\n",
    "            self.weights[k] -= rate * self.l2wt * self.weights[k] / self.sigma**2  \n",
    "            self.fcounts[k] += 1\n",
    "\n",
    "\n",
    "    def train(self, trainset):\n",
    "        random.shuffle(trainset)  # Shuffle the training set\n",
    "        for inst in trainset:\n",
    "            self.train_update(inst)\n",
    "\n",
    "    def losses(self, inst):\n",
    "        p_pred, h_pred = self.predict(inst)\n",
    "        slp = (inst.p_recall - p_pred)**2\n",
    "        slh = (inst.half_life - h_pred)**2\n",
    "        return slp, slh, p_pred, h_pred\n",
    "\n",
    "    def evaluate(self, testset):\n",
    "            \"\"\"Evaluate the model on a test dataset.\"\"\"\n",
    "            results = {'p_recall': [], 'half_life': [], 'p_recall_pred': [], 'half_life_pred': [], 'slp': [], 'slh': [], \n",
    "                      'session_seen': [], 'session_correct':[]}\n",
    "            for inst in testset:\n",
    "                slp, slh, p_pred, h_pred = self.losses(inst)\n",
    "                results['p_recall'].append(inst.p_recall)\n",
    "                results['half_life'].append(inst.half_life)\n",
    "                results['p_recall_pred'].append(p_pred)\n",
    "                results['half_life_pred'].append(h_pred)\n",
    "                results['slp'].append(slp)\n",
    "                results['slh'].append(slh)\n",
    "                results['session_seen'].append(inst.session_seen)\n",
    "                results['session_correct'].append(inst.session_correct)\n",
    "                # results['fv'].append(inst.fv) \n",
    "                # results['delta'].append(inst.delta) \n",
    "    \n",
    "    \n",
    "            mae_p = mae(results['p_recall'], results['p_recall_pred'])\n",
    "            mae_h = mae(results['half_life'], results['half_life_pred'])\n",
    "            total_slp = sum(results['slp'])\n",
    "            total_slh = sum(results['slh'])\n",
    "            total_l2 = sum([x ** 2 for x in self.weights.values()])\n",
    "            total_loss = total_slp + self.hlwt * total_slh + self.l2wt * total_l2\n",
    "            print(f\" MAE_P: {mae_p}, MAE_H: {mae_h}\")\n",
    "            return results "
   ]
  },
  {
   "cell_type": "code",
   "execution_count": 118,
   "id": "90065096-09b2-4080-8388-ba09fe4d2e9a",
   "metadata": {},
   "outputs": [
    {
     "data": {
      "text/plain": [
       "list"
      ]
     },
     "execution_count": 118,
     "metadata": {},
     "output_type": "execute_result"
    }
   ],
   "source": [
    "type(testset)"
   ]
  },
  {
   "cell_type": "code",
   "execution_count": 119,
   "id": "42723394-33b0-4a81-9615-d8a8941a7407",
   "metadata": {},
   "outputs": [
    {
     "name": "stdout",
     "output_type": "stream",
     "text": [
      " MAE_P: 0.1078863608879596, MAE_H: 73.23559842500948\n"
     ]
    }
   ],
   "source": [
    "trainset, testset = create_instances_from_dataframe(dff_final.sample(frac=1))\n",
    "model = HalfLifeRegression()\n",
    "model.train(trainset)\n",
    "results = model.evaluate(testset)"
   ]
  },
  {
   "cell_type": "code",
   "execution_count": 120,
   "id": "ca1c616d-6e9a-4e37-9194-42666666abcf",
   "metadata": {
    "scrolled": true
   },
   "outputs": [],
   "source": [
    "results_df = pd.DataFrame.from_dict(results)"
   ]
  },
  {
   "cell_type": "code",
   "execution_count": 121,
   "id": "67e4bedc-8fe3-4906-9034-d43618b8139c",
   "metadata": {},
   "outputs": [
    {
     "data": {
      "text/html": [
       "<div>\n",
       "<style scoped>\n",
       "    .dataframe tbody tr th:only-of-type {\n",
       "        vertical-align: middle;\n",
       "    }\n",
       "\n",
       "    .dataframe tbody tr th {\n",
       "        vertical-align: top;\n",
       "    }\n",
       "\n",
       "    .dataframe thead th {\n",
       "        text-align: right;\n",
       "    }\n",
       "</style>\n",
       "<table border=\"1\" class=\"dataframe\">\n",
       "  <thead>\n",
       "    <tr style=\"text-align: right;\">\n",
       "      <th></th>\n",
       "      <th>p_recall</th>\n",
       "      <th>half_life</th>\n",
       "      <th>p_recall_pred</th>\n",
       "      <th>half_life_pred</th>\n",
       "      <th>slp</th>\n",
       "      <th>slh</th>\n",
       "      <th>session_seen</th>\n",
       "      <th>session_correct</th>\n",
       "    </tr>\n",
       "  </thead>\n",
       "  <tbody>\n",
       "    <tr>\n",
       "      <th>count</th>\n",
       "      <td>2.541556e+06</td>\n",
       "      <td>2.541556e+06</td>\n",
       "      <td>2.541556e+06</td>\n",
       "      <td>2.541556e+06</td>\n",
       "      <td>2.541556e+06</td>\n",
       "      <td>2.541556e+06</td>\n",
       "      <td>2.541556e+06</td>\n",
       "      <td>2.541556e+06</td>\n",
       "    </tr>\n",
       "    <tr>\n",
       "      <th>mean</th>\n",
       "      <td>8.966461e-01</td>\n",
       "      <td>2.683084e+02</td>\n",
       "      <td>9.926084e-01</td>\n",
       "      <td>2.040852e+02</td>\n",
       "      <td>8.235671e-02</td>\n",
       "      <td>1.280102e+04</td>\n",
       "      <td>1.816849e+00</td>\n",
       "      <td>1.644119e+00</td>\n",
       "    </tr>\n",
       "    <tr>\n",
       "      <th>std</th>\n",
       "      <td>2.705421e-01</td>\n",
       "      <td>3.550879e+01</td>\n",
       "      <td>1.564261e-02</td>\n",
       "      <td>8.458965e+01</td>\n",
       "      <td>2.523007e-01</td>\n",
       "      <td>1.844526e+04</td>\n",
       "      <td>1.359155e+00</td>\n",
       "      <td>1.317064e+00</td>\n",
       "    </tr>\n",
       "    <tr>\n",
       "      <th>min</th>\n",
       "      <td>1.000000e-04</td>\n",
       "      <td>7.525750e-02</td>\n",
       "      <td>7.961177e-01</td>\n",
       "      <td>2.510966e+01</td>\n",
       "      <td>0.000000e+00</td>\n",
       "      <td>0.000000e+00</td>\n",
       "      <td>1.000000e+00</td>\n",
       "      <td>0.000000e+00</td>\n",
       "    </tr>\n",
       "    <tr>\n",
       "      <th>25%</th>\n",
       "      <td>9.999000e-01</td>\n",
       "      <td>2.740000e+02</td>\n",
       "      <td>9.909763e-01</td>\n",
       "      <td>1.281444e+02</td>\n",
       "      <td>0.000000e+00</td>\n",
       "      <td>0.000000e+00</td>\n",
       "      <td>1.000000e+00</td>\n",
       "      <td>1.000000e+00</td>\n",
       "    </tr>\n",
       "    <tr>\n",
       "      <th>50%</th>\n",
       "      <td>9.999000e-01</td>\n",
       "      <td>2.740000e+02</td>\n",
       "      <td>9.999000e-01</td>\n",
       "      <td>2.740000e+02</td>\n",
       "      <td>5.613386e-06</td>\n",
       "      <td>4.199517e+02</td>\n",
       "      <td>1.000000e+00</td>\n",
       "      <td>1.000000e+00</td>\n",
       "    </tr>\n",
       "    <tr>\n",
       "      <th>75%</th>\n",
       "      <td>9.999000e-01</td>\n",
       "      <td>2.740000e+02</td>\n",
       "      <td>9.999000e-01</td>\n",
       "      <td>2.740000e+02</td>\n",
       "      <td>3.472464e-04</td>\n",
       "      <td>2.128097e+04</td>\n",
       "      <td>2.000000e+00</td>\n",
       "      <td>2.000000e+00</td>\n",
       "    </tr>\n",
       "    <tr>\n",
       "      <th>max</th>\n",
       "      <td>9.999000e-01</td>\n",
       "      <td>2.740000e+02</td>\n",
       "      <td>9.999000e-01</td>\n",
       "      <td>2.740000e+02</td>\n",
       "      <td>9.996000e-01</td>\n",
       "      <td>7.503476e+04</td>\n",
       "      <td>2.000000e+01</td>\n",
       "      <td>2.000000e+01</td>\n",
       "    </tr>\n",
       "  </tbody>\n",
       "</table>\n",
       "</div>"
      ],
      "text/plain": [
       "           p_recall     half_life  p_recall_pred  half_life_pred  \\\n",
       "count  2.541556e+06  2.541556e+06   2.541556e+06    2.541556e+06   \n",
       "mean   8.966461e-01  2.683084e+02   9.926084e-01    2.040852e+02   \n",
       "std    2.705421e-01  3.550879e+01   1.564261e-02    8.458965e+01   \n",
       "min    1.000000e-04  7.525750e-02   7.961177e-01    2.510966e+01   \n",
       "25%    9.999000e-01  2.740000e+02   9.909763e-01    1.281444e+02   \n",
       "50%    9.999000e-01  2.740000e+02   9.999000e-01    2.740000e+02   \n",
       "75%    9.999000e-01  2.740000e+02   9.999000e-01    2.740000e+02   \n",
       "max    9.999000e-01  2.740000e+02   9.999000e-01    2.740000e+02   \n",
       "\n",
       "                slp           slh  session_seen  session_correct  \n",
       "count  2.541556e+06  2.541556e+06  2.541556e+06     2.541556e+06  \n",
       "mean   8.235671e-02  1.280102e+04  1.816849e+00     1.644119e+00  \n",
       "std    2.523007e-01  1.844526e+04  1.359155e+00     1.317064e+00  \n",
       "min    0.000000e+00  0.000000e+00  1.000000e+00     0.000000e+00  \n",
       "25%    0.000000e+00  0.000000e+00  1.000000e+00     1.000000e+00  \n",
       "50%    5.613386e-06  4.199517e+02  1.000000e+00     1.000000e+00  \n",
       "75%    3.472464e-04  2.128097e+04  2.000000e+00     2.000000e+00  \n",
       "max    9.996000e-01  7.503476e+04  2.000000e+01     2.000000e+01  "
      ]
     },
     "execution_count": 121,
     "metadata": {},
     "output_type": "execute_result"
    }
   ],
   "source": [
    "results_df.describe()"
   ]
  },
  {
   "cell_type": "code",
   "execution_count": 122,
   "id": "aacb5342-9200-413a-851a-a28d91fd0f9c",
   "metadata": {},
   "outputs": [
    {
     "data": {
      "image/png": "[encoded data removed]",
      "text/plain": [
       "<Figure size 640x480 with 1 Axes>"
      ]
     },
     "metadata": {},
     "output_type": "display_data"
    }
   ],
   "source": [
    "# Predictions vs actual recall probabilities \n",
    "def out_filepath(filename):\n",
    "    return os.path.normpath(os.path.join(current_dir, '../reports', filename))\n",
    "    \n",
    "\n",
    "import matplotlib.pyplot as plt\n",
    "plt.scatter(results['p_recall'], results['p_recall_pred'], alpha=0.5)\n",
    "plt.plot([0, 1], [0, 1], color=\"red\", linestyle=\"--\")\n",
    "plt.xlabel(\"Actual Recall Probability\")\n",
    "plt.ylabel(\"Predicted Recall Probability\")\n",
    "plt.title(\"Predicted vs. Actual Recall Probability\")\n",
    "plt.savefig(out_filepath('visualizations/H_LR_predictions_scatterplot.png'))\n"
   ]
  },
  {
   "cell_type": "code",
   "execution_count": 123,
   "id": "011fc1ed-8645-407e-88a5-95252228cb7e",
   "metadata": {},
   "outputs": [],
   "source": [
    "expanded_df = results_df.loc[results_df.index.repeat(results_df[\"session_seen\"])].reset_index(drop=True)\n",
    "expanded_df[\"outcome\"] = np.concatenate([\n",
    "    np.concatenate([np.ones(int(c)), np.zeros(int(s - c))])  # c correct, (s-c) incorrect\n",
    "    for s, c in zip(results_df[\"session_seen\"], results_df[\"session_correct\"])\n",
    "])"
   ]
  },
  {
   "cell_type": "code",
   "execution_count": null,
   "id": "494adfa0-8a14-48b9-aee9-34ed9827ad86",
   "metadata": {},
   "outputs": [],
   "source": [
    "plot_calibration(expanded_df['outcome'], expanded_df['p_recall_pred'], 'H_LR_calibration_plot_Subltex.png')\n"
   ]
  },
  {
   "cell_type": "code",
   "execution_count": null,
   "id": "3065b562-38d5-478f-adf6-9debc84f71b0",
   "metadata": {},
   "outputs": [],
   "source": [
    "plot_lift(expanded_df, 'outcome', expanded_df['p_recall_pred'], 'H_LR_lift_plot.png')"
   ]
  },
  {
   "cell_type": "code",
   "execution_count": 124,
   "id": "b555a257-7839-4ece-9c1e-92b88608dfc4",
   "metadata": {},
   "outputs": [
    {
     "name": "stdout",
     "output_type": "stream",
     "text": [
      "AUC Score: 0.5302\n"
     ]
    },
    {
     "data": {
      "image/png": "[encoded data removed]",
      "text/plain": [
       "<Figure size 600x600 with 1 Axes>"
      ]
     },
     "metadata": {},
     "output_type": "display_data"
    }
   ],
   "source": [
    "AUC_ROC(expanded_df['outcome'], expanded_df['p_recall_pred'], 'NeuralNetwork_ROC_plot.png')"
   ]
  },
  {
   "cell_type": "code",
   "execution_count": 20,
   "id": "7a97bc49-a031-4246-927c-b86e75a06d50",
   "metadata": {},
   "outputs": [],
   "source": [
    "hlr_output = expanded_df.drop(columns=['session_seen', 'session_correct'])\n",
    "\n",
    "filepath = os.path.normpath(os.path.join(current_dir, '../results/'))\n",
    "hlr_output.to_csv(os.path.join(filepath, 'hlr_output.csv'), sep='\\t', index=False, header=True)"
   ]
  },
  {
   "cell_type": "code",
   "execution_count": null,
   "id": "cf5eb497-5539-4a97-80a0-f886144a3a9e",
   "metadata": {},
   "outputs": [],
   "source": []
  }
 ],
 "metadata": {
  "kernelspec": {
   "display_name": "Python 3 (ipykernel)",
   "language": "python",
   "name": "python3"
  },
  "language_info": {
   "codemirror_mode": {
    "name": "ipython",
    "version": 3
   },
   "file_extension": ".py",
   "mimetype": "text/x-python",
   "name": "python",
   "nbconvert_exporter": "python",
   "pygments_lexer": "ipython3",
   "version": "3.12.3"
  }
 },
 "nbformat": 4,
 "nbformat_minor": 5
}

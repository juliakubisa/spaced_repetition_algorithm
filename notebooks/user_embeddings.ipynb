{
 "cells": [
  {
   "cell_type": "code",
   "execution_count": null,
   "id": "99b157a3-fc40-49b3-acb1-14c206d315a5",
   "metadata": {},
   "outputs": [],
   "source": [
    "# HYPOTHESIS 2 \n",
    "\"\"\" User embeddings\"\"\" \n",
    "print('number of unique users', df['user_id'].nunique())"
   ]
  },
  {
   "cell_type": "code",
   "execution_count": null,
   "id": "c790a91f-7925-42a9-adc2-00abb3e323ce",
   "metadata": {},
   "outputs": [],
   "source": [
    "df_users.describe()"
   ]
  },
  {
   "cell_type": "code",
   "execution_count": null,
   "id": "7abea02a-73ac-4949-9fe9-1815b75dcea6",
   "metadata": {
    "editable": true,
    "slideshow": {
     "slide_type": ""
    },
    "tags": []
   },
   "outputs": [],
   "source": [
    "df_users = df.groupby('user_id').agg({'delta':'mean', 'p_recall':'mean', 'history_seen':'mean', 'history_correct':'mean'})"
   ]
  }
 ],
 "metadata": {
  "kernelspec": {
   "display_name": "Python 3 (ipykernel)",
   "language": "python",
   "name": "python3"
  },
  "language_info": {
   "codemirror_mode": {
    "name": "ipython",
    "version": 3
   },
   "file_extension": ".py",
   "mimetype": "text/x-python",
   "name": "python",
   "nbconvert_exporter": "python",
   "pygments_lexer": "ipython3",
   "version": "3.12.3"
  }
 },
 "nbformat": 4,
 "nbformat_minor": 5
}

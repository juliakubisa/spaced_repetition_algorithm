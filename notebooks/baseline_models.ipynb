{
 "cells": [
  {
   "cell_type": "code",
   "execution_count": 1,
   "id": "c735b02c-eeab-417e-892c-1d02851886cf",
   "metadata": {},
   "outputs": [],
   "source": [
    "import os\n",
    "import pandas as pd\n",
    "import seaborn as sns\n",
    "import numpy as np\n",
    "from sklearn.compose import TransformedTargetRegressor\n",
    "from sklearn.linear_model import LinearRegression, Lasso, Ridge\n",
    "from sklearn.metrics import r2_score, mean_absolute_error\n",
    "from sklearn.model_selection import train_test_split as sklearn_train_test_split\n",
    "from sklearn.feature_selection import RFE\n",
    "from sklearn.preprocessing import StandardScaler, PowerTransformer, OneHotEncoder, PolynomialFeatures\n",
    "from sklearn.pipeline import Pipeline\n",
    "from statsmodels.stats.outliers_influence import variance_inflation_factor\n",
    "import matplotlib.pyplot as plt"
   ]
  },
  {
   "cell_type": "code",
   "execution_count": 2,
   "id": "5a559aaf-d957-45e2-8b9b-c91f41ea2c33",
   "metadata": {},
   "outputs": [],
   "source": [
    "cols_to_drop = ['timestamp', 'lexeme_id', 'word', 'user_id', 'session_seen', 'session_correct', 'avg_user_p_recall', 'ui_language', 'learning_language']\n",
    "current_dir = os.getcwd()\n",
    "filename = 'df_processed.csv'\n",
    "filepath = os.path.normpath(os.path.join(current_dir, '../data/processed/', filename))\n",
    "\n",
    "chunk_size = 10000\n",
    "chunks = []\n",
    "\n",
    "for chunk in pd.read_csv(filepath, chunksize=chunk_size):\n",
    "    chunk.drop_duplicates(inplace=True)\n",
    "    chunk.dropna(inplace=True)\n",
    "    chunks.append(chunk)\n",
    "\n",
    "df = pd.concat(chunks, ignore_index=True)\n",
    "df_users = pd.read_csv(os.path.normpath(os.path.join(current_dir, '../data/features/', 'users_behaviur.csv')))\n",
    "df_words = pd.read_csv(os.path.normpath(os.path.join(current_dir, '../data/features/', 'word_complexity_features.csv')), sep='\\t')\n",
    "dff = pd.merge(pd.merge(df_words, df, on = 'lexeme_id', how='inner'), df_users, on = ['user_id', 'lang_combination'], how='inner')\n",
    "dff.drop(columns=cols_to_drop, inplace=True, errors='ignore')"
   ]
  },
  {
   "cell_type": "code",
   "execution_count": 3,
   "id": "fc93f230-ce9b-4a81-b9bd-b626683733a2",
   "metadata": {
    "scrolled": true
   },
   "outputs": [
    {
     "data": {
      "text/plain": [
       "Index(['gender', 'def', 'tense', 'POS', 'person', 'number', 'word_len',\n",
       "       'tags_list', 'SUBTLEX', 'p_recall', 'delta', 'history_seen',\n",
       "       'history_correct', 'h_recall', 'lang_combination', 'avg_delta',\n",
       "       'std_delta', 'avg_h_recall'],\n",
       "      dtype='object')"
      ]
     },
     "execution_count": 3,
     "metadata": {},
     "output_type": "execute_result"
    }
   ],
   "source": [
    "dff.columns"
   ]
  },
  {
   "cell_type": "code",
   "execution_count": 4,
   "id": "1b9ac800-5694-40f9-a09f-efa1bf6edc5f",
   "metadata": {},
   "outputs": [],
   "source": [
    "# Handle tags \n",
    "# 1) Store tags as list, but delete rows where there are less than x occurences \n",
    "dff_1 = dff.copy()\n",
    "tag_counts = dff_1['tags_list'].value_counts()\n",
    "rare_threshold = 1000\n",
    "dff_1['tags_list'] = dff_1['tags_list'].apply(lambda x: x if tag_counts[x] > rare_threshold else 'rare')\n",
    "\n",
    "dff_1.drop(columns=['POS', 'person', 'number', 'gender', 'tense', 'def'], inplace=True)\n",
    "dff_1.dropna(inplace=True)\n",
    "\n",
    "# 2) Store each tag as column, replace NaN values with a placeholder for categorical columns\n",
    "# categorical_cols = dff.select_dtypes(include=['object']).columns.tolist()\n",
    "# dff_2 = dff.copy()\n",
    "# dff_2[categorical_cols] = dff_2[categorical_cols].fillna('missing')\n",
    "# dff_2.drop(columns=['tags_list'], inplace=True)"
   ]
  },
  {
   "cell_type": "code",
   "execution_count": 7,
   "id": "6bf972f7-8e20-434e-832d-83cc297ac30d",
   "metadata": {},
   "outputs": [
    {
     "data": {
      "text/html": [
       "<div>\n",
       "<style scoped>\n",
       "    .dataframe tbody tr th:only-of-type {\n",
       "        vertical-align: middle;\n",
       "    }\n",
       "\n",
       "    .dataframe tbody tr th {\n",
       "        vertical-align: top;\n",
       "    }\n",
       "\n",
       "    .dataframe thead th {\n",
       "        text-align: right;\n",
       "    }\n",
       "</style>\n",
       "<table border=\"1\" class=\"dataframe\">\n",
       "  <thead>\n",
       "    <tr style=\"text-align: right;\">\n",
       "      <th></th>\n",
       "      <th>Feature</th>\n",
       "      <th>VIF</th>\n",
       "    </tr>\n",
       "  </thead>\n",
       "  <tbody>\n",
       "    <tr>\n",
       "      <th>0</th>\n",
       "      <td>word_len</td>\n",
       "      <td>7.946208</td>\n",
       "    </tr>\n",
       "    <tr>\n",
       "      <th>1</th>\n",
       "      <td>SUBTLEX</td>\n",
       "      <td>1.429122</td>\n",
       "    </tr>\n",
       "    <tr>\n",
       "      <th>2</th>\n",
       "      <td>delta</td>\n",
       "      <td>1.982892</td>\n",
       "    </tr>\n",
       "    <tr>\n",
       "      <th>3</th>\n",
       "      <td>h_recall</td>\n",
       "      <td>51.055735</td>\n",
       "    </tr>\n",
       "    <tr>\n",
       "      <th>4</th>\n",
       "      <td>avg_delta</td>\n",
       "      <td>4.075180</td>\n",
       "    </tr>\n",
       "    <tr>\n",
       "      <th>5</th>\n",
       "      <td>std_delta</td>\n",
       "      <td>3.824515</td>\n",
       "    </tr>\n",
       "    <tr>\n",
       "      <th>6</th>\n",
       "      <td>avg_h_recall</td>\n",
       "      <td>59.558585</td>\n",
       "    </tr>\n",
       "  </tbody>\n",
       "</table>\n",
       "</div>"
      ],
      "text/plain": [
       "        Feature        VIF\n",
       "0      word_len   7.946208\n",
       "1       SUBTLEX   1.429122\n",
       "2         delta   1.982892\n",
       "3      h_recall  51.055735\n",
       "4     avg_delta   4.075180\n",
       "5     std_delta   3.824515\n",
       "6  avg_h_recall  59.558585"
      ]
     },
     "execution_count": 7,
     "metadata": {},
     "output_type": "execute_result"
    }
   ],
   "source": [
    "# VIF -> iteratevily delete columns that had VIF > 10\n",
    "def calculate_vif(X):\n",
    "    vif_data = pd.DataFrame()\n",
    "    vif_data[\"Feature\"] = X.columns\n",
    "    vif_data[\"VIF\"] = [variance_inflation_factor(X.values, i) for i in range(X.shape[1])]\n",
    "    return vif_data\n",
    "    \n",
    "dff_VIF = dff_1.drop(columns=['p_recall','history_correct', 'history_seen']).sample(2000000)\n",
    "vif = calculate_vif(dff_VIF.select_dtypes(exclude='O'))\n",
    "vif"
   ]
  },
  {
   "cell_type": "code",
   "execution_count": 8,
   "id": "d50f3a2f-57ab-4426-8bb4-af7204853577",
   "metadata": {},
   "outputs": [
    {
     "name": "stdout",
     "output_type": "stream",
     "text": [
      "avg_h_recall       0.164711\n",
      "history_correct    0.000409\n",
      "p_recall           1.000000\n",
      "Name: p_recall, dtype: float64\n"
     ]
    }
   ],
   "source": [
    "removed_features = [\"avg_h_recall\", 'history_correct']\n",
    "correlation_with_target = dff_1[removed_features + [\"p_recall\"]].corr()[\"p_recall\"]\n",
    "print(correlation_with_target)"
   ]
  },
  {
   "cell_type": "code",
   "execution_count": 9,
   "id": "b0035124-cf14-4b2e-90b7-4e63f501e8b6",
   "metadata": {},
   "outputs": [],
   "source": [
    "dff_final = dff_1.sample(frac=0.7)\n",
    "# dff_final = dff_2"
   ]
  },
  {
   "cell_type": "code",
   "execution_count": 10,
   "id": "47a62146-3a0b-4a0b-97e0-0d04113656dd",
   "metadata": {},
   "outputs": [],
   "source": [
    "# Transforming skewed variables\n",
    "dff_final['history_wrong'] = np.log2(1+(dff_final['history_seen']-dff_final['history_correct']))\n",
    "dff_final['delta'] = np.sqrt(dff_final['delta']/(60*60*24))\n",
    "dff_final['avg_delta'] = np.sqrt(dff_final['avg_delta']/(60*60*24))\n",
    "dff_final['history_seen'] = np.log2(1+dff_final['history_seen'])\n",
    "dff_final['history_correct'] = np.log2(1+dff_final['history_correct'])\n",
    "dff['SUBTLEX'] = np.log2(dff['SUBTLEX'])"
   ]
  },
  {
   "cell_type": "code",
   "execution_count": 11,
   "id": "ff2bb4b8-9a77-41a5-a01d-bb1127aae23c",
   "metadata": {},
   "outputs": [
    {
     "data": {
      "text/plain": [
       "history_wrong     -0.080387\n",
       "delta             -0.040353\n",
       "avg_delta         -0.032428\n",
       "std_delta         -0.021554\n",
       "SUBTLEX           -0.011600\n",
       "history_seen      -0.004059\n",
       "history_correct    0.011812\n",
       "word_len           0.015466\n",
       "h_recall           0.104019\n",
       "avg_h_recall       0.164850\n",
       "p_recall           1.000000\n",
       "Name: p_recall, dtype: float64"
      ]
     },
     "execution_count": 11,
     "metadata": {},
     "output_type": "execute_result"
    }
   ],
   "source": [
    "dff_final[['word_len', 'SUBTLEX', 'delta', 'history_seen', 'history_correct', 'h_recall', 'std_delta', 'avg_h_recall', 'history_wrong', 'avg_delta', 'p_recall']].corr()['p_recall'].sort_values()"
   ]
  },
  {
   "cell_type": "code",
   "execution_count": 12,
   "id": "d081b9b2-7200-4145-a885-c39971c1a03a",
   "metadata": {},
   "outputs": [],
   "source": [
    "# Transformation of target variable \n",
    "\n",
    "# Logit transformation \n",
    "def logit_transform(y, epsilon=1e-10):\n",
    "    y = np.clip(y, epsilon, 1 - epsilon)\n",
    "    return np.log(y / (1 - y))\n",
    "\n",
    "def inverse_logit_transform(y):\n",
    "    return 1 / (1 + np.exp(-y))\n",
    "\n",
    "\n",
    "# Log transformation \n",
    "def log_transform(y, epsilon=1e-10):\n",
    "    return np.log(y + epsilon)\n",
    "\n",
    "def inverse_log_transform(y):\n",
    "    return np.exp(y)\n",
    "\n",
    "\n",
    "# Box-Cox transformation\n",
    "power_transformer = PowerTransformer(method='box-cox', standardize=False)\n",
    "def power_transform(y, epsilon=1e-10):\n",
    "    return power_transformer.fit_transform(y+epsilon) \n",
    "\n",
    "def inverse_power_transform(y, epsilon=1e-10):\n",
    "    return power_transformer.inverse_transform(y+epsilon) "
   ]
  },
  {
   "cell_type": "code",
   "execution_count": 13,
   "id": "30999554-179f-4380-bd14-808e19634955",
   "metadata": {},
   "outputs": [],
   "source": [
    "# Create df without word features \n",
    "# dff_t = dff_final.drop(columns=['tags_list', 'word_len', 'SUBTLEX'], errors='ignore')\n",
    "\n",
    "# df without SUBTLEX\n",
    "# dff_t = dff_final.drop(columns=['SUBTLEX'], errors='ignore')\n",
    "\n",
    "# DF original \n",
    "# dff_s = dff_final.drop(columns=['SUBTLEX', 'tags_list', 'word_len', 'avg_delta', 'std_delta', 'avg_h_recall', 'lang_combination', 'h_recall'], errors='ignore')\n",
    "\n",
    "# DF without history correct and seen\n",
    "# dff_s = dff_final.drop(columns=['history_correct', 'history_seen'], errors='ignore')\n",
    "\n",
    "# DF without user columns \n",
    "# dff_u = dff_final.drop(columns=['avg_delta', 'std_delta', 'avg_h_recall', 'h_recall'], errors='ignore')\n",
    "\n",
    "# DF without lang ui and lang native\n",
    "# dff_u = dff_final.drop(columns=['ui_language', 'learning_language'], errors='ignore')\n"
   ]
  },
  {
   "cell_type": "code",
   "execution_count": 14,
   "id": "6faebfda-81e3-4416-8387-954f4885899d",
   "metadata": {},
   "outputs": [],
   "source": [
    "def ohe(df):\n",
    "    \"\"\"\n",
    "    One-hot encode categorical variables\n",
    "    \"\"\" \n",
    "    categorical_cols = df.select_dtypes(include=['object']).columns.tolist()\n",
    "    ohe = OneHotEncoder(sparse_output=False)\n",
    "    ohe_data = ohe.fit_transform(df[categorical_cols])\n",
    "    ohe_df = pd.DataFrame(ohe_data, columns=ohe.get_feature_names_out(categorical_cols))\n",
    "    df_encoded = pd.concat([df.select_dtypes(exclude='O'), ohe_df], axis=1)\n",
    "    df_encoded.dropna(inplace=True)\n",
    "    return df_encoded"
   ]
  },
  {
   "cell_type": "code",
   "execution_count": 15,
   "id": "c5e7538c-7f93-403e-8f9a-4790989e8ee6",
   "metadata": {},
   "outputs": [],
   "source": [
    "def split_dataset(df):\n",
    "    X = df.drop(columns='p_recall')\n",
    "    y = df['p_recall']\n",
    "    X_train, X_test, y_train, y_test = sklearn_train_test_split(X,\n",
    "                                                        y,\n",
    "                                                        train_size=0.8,\n",
    "                                                        random_state=42)\n",
    "    return X_train, X_test, y_train, y_test"
   ]
  },
  {
   "cell_type": "code",
   "execution_count": 16,
   "id": "78b2c4d4-1f08-4dab-a413-d2aa8e9d603c",
   "metadata": {},
   "outputs": [],
   "source": [
    "def cap_y(prediction): \n",
    "    return np.clip(prediction, 0, 1)"
   ]
  },
  {
   "cell_type": "code",
   "execution_count": 47,
   "id": "81b114ed-a5df-40f2-8c02-8acce707ccc1",
   "metadata": {},
   "outputs": [],
   "source": [
    "dff_encoded = ohe(dff_final.sample(frac=0.1))\n",
    "# dff_t_encoded = ohe(dff_t)\n",
    "# dff_s_encoded = ohe(dff_s)\n",
    "# dff_u_encoded = ohe(dff_u)\n",
    "\n",
    "\n",
    "X_train, X_test, y_train, y_test = split_dataset(dff_encoded)\n",
    "# X_train_t, X_test_t, y_train_t, y_test_t = split_dataset(dff_t_encoded)\n",
    "# X_train_s, X_test_s, y_train_s, y_test_s = split_dataset(dff_s_encoded)\n",
    "# X_train_u, X_test_u, y_train_u, y_test_u = split_dataset(dff_u_encoded)"
   ]
  },
  {
   "cell_type": "code",
   "execution_count": 48,
   "id": "ab97e5ba-151d-4e3a-a7fd-b719e6c67e47",
   "metadata": {},
   "outputs": [],
   "source": [
    "def create_pipeline(model_type=\"linear\"):\n",
    "    \"\"\"\n",
    "    Create a pipeline for regression with optional feature selection.\n",
    "    \n",
    "    Returns:\n",
    "    - Pipeline object\n",
    "    \"\"\"\n",
    "    if model_type == \"ridge\":\n",
    "        model = Ridge(alpha=0.1, fit_intercept=True)\n",
    "    else:\n",
    "        model = LinearRegression()\n",
    "\n",
    "    steps = [\n",
    "        ('scaler', StandardScaler()),\n",
    "        # ('polynomial_features', PolynomialFeatures(degree=3, include_bias=False)),\n",
    "        ('model', model)\n",
    "        # ('model', TransformedTargetRegressor(regressor=model, \n",
    "        #                                     func=log_transform,\n",
    "        #                                     inverse_func=inverse_log_transform))\n",
    "    ]\n",
    "    return Pipeline(steps)"
   ]
  },
  {
   "cell_type": "code",
   "execution_count": 67,
   "id": "e6d6b701-7bb4-4efb-afac-228e18a6ad25",
   "metadata": {},
   "outputs": [],
   "source": [
    "def train_predict(pipeline, X_train, X_test, y_train, y_test):\n",
    "    pipeline.fit(X_train, y_train)\n",
    "\n",
    "\n",
    "    y_train_pred = cap_y(pipeline.predict(X_train))\n",
    "    y_test_pred = cap_y(pipeline.predict(X_test)) \n",
    "\n",
    "    return y_train_pred, y_test_pred"
   ]
  },
  {
   "cell_type": "code",
   "execution_count": 70,
   "id": "93f81ffd-92da-4595-9ba4-22293ec0ef0e",
   "metadata": {},
   "outputs": [],
   "source": [
    "# Define Configurations for Pipelines\n",
    "def regression_results(X_train, X_test, y_train, y_test, importance='No'):\n",
    "    \n",
    "    pipeline = create_pipeline()\n",
    "    y_train_pred, y_test_pred = train_predict(pipeline, X_train, X_test, y_train, y_test)\n",
    "    \n",
    "    # Calculate metrics \n",
    "    train_r2 = r2_score(y_train, y_train_pred)\n",
    "    test_r2 = r2_score(y_test, y_test_pred)\n",
    "    test_mae = mean_absolute_error(y_test, y_test_pred)\n",
    "    train_mae = mean_absolute_error(y_train, y_train_pred)\n",
    "    print(f\"Train R2 = {round(train_r2, 4)}, Test R2 = {round(test_r2,4)}, Train MAE = {round(train_mae,4)}, Test MAE = {round(test_mae, 4)}\")\n",
    "\n",
    "    \n",
    "    if isinstance(importance, str) and importance == 'Yes':\n",
    "        model = pipeline.named_steps[\"model\"]\n",
    "        coefficients_df = pd.DataFrame({'Feature': X_train.columns, 'Coefficient': model.coef_})\n",
    "\n",
    "    print('Intercept:', model.intercept_)\n",
    "    \n",
    "    full_df = X_test.copy()\n",
    "    full_df['predictions'] = y_test_pred\n",
    "    full_df['p_recall'] = y_test\n",
    "\n",
    "    return coefficients_df, full_df"
   ]
  },
  {
   "cell_type": "code",
   "execution_count": 72,
   "id": "b5c939dd-6686-4646-812b-51b164d4cc7d",
   "metadata": {
    "scrolled": true
   },
   "outputs": [
    {
     "name": "stdout",
     "output_type": "stream",
     "text": [
      "Results for all features\n",
      "Train R2 = 0.0282, Test R2 = 0.0304, Train MAE = 0.164, Test MAE = 0.1611\n",
      "Intercept: 0.8964782335191402\n"
     ]
    }
   ],
   "source": [
    "print('Results for all features')\n",
    "importance_df, full_df = regression_results(X_train, X_test, y_train, y_test, importance='Yes')\n",
    "\n",
    "# print('Results after deleting word features')\n",
    "# results_t, importance_t, full_df_t = regression_results(pipelines_config, X_train_t, X_test_t, y_train_t, y_test_t, importance='Yes')\n",
    "\n",
    "# print('Results without word and user features')\n",
    "# results_s, importance_s, full_df_s  = regression_results(pipelines_config, X_train_s, X_test_s, y_train_s, y_test_s, importance='Yes')\n",
    "\n",
    "# print('Results without user features') \n",
    "# results_u, importance_u, full_df_u = regression_results(pipelines_config, X_train_u, X_test_u, y_train_u, y_test_u, importance='No')"
   ]
  },
  {
   "cell_type": "code",
   "execution_count": 75,
   "id": "833a327e-da02-4f73-8180-a559d3a16d32",
   "metadata": {},
   "outputs": [
    {
     "data": {
      "text/html": [
       "<div>\n",
       "<style scoped>\n",
       "    .dataframe tbody tr th:only-of-type {\n",
       "        vertical-align: middle;\n",
       "    }\n",
       "\n",
       "    .dataframe tbody tr th {\n",
       "        vertical-align: top;\n",
       "    }\n",
       "\n",
       "    .dataframe thead th {\n",
       "        text-align: right;\n",
       "    }\n",
       "</style>\n",
       "<table border=\"1\" class=\"dataframe\">\n",
       "  <thead>\n",
       "    <tr style=\"text-align: right;\">\n",
       "      <th></th>\n",
       "      <th>Feature</th>\n",
       "      <th>Coefficient</th>\n",
       "    </tr>\n",
       "  </thead>\n",
       "  <tbody>\n",
       "    <tr>\n",
       "      <th>4</th>\n",
       "      <td>history_correct</td>\n",
       "      <td>0.335670</td>\n",
       "    </tr>\n",
       "    <tr>\n",
       "      <th>8</th>\n",
       "      <td>avg_h_recall</td>\n",
       "      <td>0.033753</td>\n",
       "    </tr>\n",
       "    <tr>\n",
       "      <th>55</th>\n",
       "      <td>tags_list_['n', 'f', 'sg']</td>\n",
       "      <td>0.003017</td>\n",
       "    </tr>\n",
       "    <tr>\n",
       "      <th>139</th>\n",
       "      <td>tags_list_['vblex', 'pri', 'p1', 'sg']</td>\n",
       "      <td>0.003006</td>\n",
       "    </tr>\n",
       "    <tr>\n",
       "      <th>115</th>\n",
       "      <td>tags_list_['vbdo', 'pres']</td>\n",
       "      <td>0.002492</td>\n",
       "    </tr>\n",
       "    <tr>\n",
       "      <th>...</th>\n",
       "      <td>...</td>\n",
       "      <td>...</td>\n",
       "    </tr>\n",
       "    <tr>\n",
       "      <th>2</th>\n",
       "      <td>delta</td>\n",
       "      <td>-0.006685</td>\n",
       "    </tr>\n",
       "    <tr>\n",
       "      <th>1</th>\n",
       "      <td>SUBTLEX</td>\n",
       "      <td>-0.010592</td>\n",
       "    </tr>\n",
       "    <tr>\n",
       "      <th>9</th>\n",
       "      <td>history_wrong</td>\n",
       "      <td>-0.010820</td>\n",
       "    </tr>\n",
       "    <tr>\n",
       "      <th>5</th>\n",
       "      <td>h_recall</td>\n",
       "      <td>-0.042822</td>\n",
       "    </tr>\n",
       "    <tr>\n",
       "      <th>3</th>\n",
       "      <td>history_seen</td>\n",
       "      <td>-0.318425</td>\n",
       "    </tr>\n",
       "  </tbody>\n",
       "</table>\n",
       "<p>177 rows × 2 columns</p>\n",
       "</div>"
      ],
      "text/plain": [
       "                                    Feature  Coefficient\n",
       "4                           history_correct     0.335670\n",
       "8                              avg_h_recall     0.033753\n",
       "55               tags_list_['n', 'f', 'sg']     0.003017\n",
       "139  tags_list_['vblex', 'pri', 'p1', 'sg']     0.003006\n",
       "115              tags_list_['vbdo', 'pres']     0.002492\n",
       "..                                      ...          ...\n",
       "2                                     delta    -0.006685\n",
       "1                                   SUBTLEX    -0.010592\n",
       "9                             history_wrong    -0.010820\n",
       "5                                  h_recall    -0.042822\n",
       "3                              history_seen    -0.318425\n",
       "\n",
       "[177 rows x 2 columns]"
      ]
     },
     "execution_count": 75,
     "metadata": {},
     "output_type": "execute_result"
    }
   ],
   "source": [
    "importance_df = importance_df.sort_values(by='Coefficient', ascending=False)\n",
    "importance_df"
   ]
  },
  {
   "cell_type": "code",
   "execution_count": 76,
   "id": "91a47e09-55a2-4b2d-90ae-8b0a0d15096f",
   "metadata": {},
   "outputs": [
    {
     "data": {
      "text/plain": [
       "<Axes: >"
      ]
     },
     "execution_count": 76,
     "metadata": {},
     "output_type": "execute_result"
    },
    {
     "data": {
      "image/png": "[encoded data removed]",
      "text/plain": [
       "<Figure size 640x480 with 1 Axes>"
      ]
     },
     "metadata": {},
     "output_type": "display_data"
    }
   ],
   "source": [
    "# Examine residuals \n",
    "full_df_all['diff'] = full_df_all['p_recall'] - full_df_all['predictions']\n",
    "full_df_all['diff'].hist()"
   ]
  },
  {
   "cell_type": "code",
   "execution_count": 78,
   "id": "e281a200-3b32-4c4f-8be7-241ce47490c2",
   "metadata": {},
   "outputs": [
    {
     "data": {
      "image/png": "[encoded data removed]",
      "text/plain": [
       "<Figure size 640x480 with 1 Axes>"
      ]
     },
     "metadata": {},
     "output_type": "display_data"
    }
   ],
   "source": [
    "# Predictions vs actual recall probabilities \n",
    "plt.scatter(full_df_all['p_recall'], full_df_all['predictions'], alpha=0.5)\n",
    "plt.plot([0, 1], [0, 1], color=\"red\", linestyle=\"--\")\n",
    "plt.xlabel(\"Actual Recall Probability\")\n",
    "plt.ylabel(\"Predicted Recall Probability\")\n",
    "plt.title(\"Predicted vs. Actual Recall Probability\")\n",
    "plt.show()"
   ]
  },
  {
   "cell_type": "code",
   "execution_count": 89,
   "id": "0a521873-9d38-474b-88ec-fc6f469b0bfc",
   "metadata": {},
   "outputs": [
    {
     "data": {
      "text/html": [
       "<div>\n",
       "<style scoped>\n",
       "    .dataframe tbody tr th:only-of-type {\n",
       "        vertical-align: middle;\n",
       "    }\n",
       "\n",
       "    .dataframe tbody tr th {\n",
       "        vertical-align: top;\n",
       "    }\n",
       "\n",
       "    .dataframe thead th {\n",
       "        text-align: right;\n",
       "    }\n",
       "</style>\n",
       "<table border=\"1\" class=\"dataframe\">\n",
       "  <thead>\n",
       "    <tr style=\"text-align: right;\">\n",
       "      <th></th>\n",
       "      <th>word_len</th>\n",
       "      <th>SUBTLEX</th>\n",
       "      <th>delta</th>\n",
       "      <th>history_seen</th>\n",
       "      <th>history_correct</th>\n",
       "      <th>h_recall</th>\n",
       "      <th>avg_delta</th>\n",
       "      <th>std_delta</th>\n",
       "      <th>avg_h_recall</th>\n",
       "      <th>history_wrong</th>\n",
       "      <th>predictions</th>\n",
       "      <th>p_recall</th>\n",
       "      <th>diff</th>\n",
       "    </tr>\n",
       "  </thead>\n",
       "  <tbody>\n",
       "    <tr>\n",
       "      <th>count</th>\n",
       "      <td>12319.00000</td>\n",
       "      <td>12319.00000</td>\n",
       "      <td>12319.00000</td>\n",
       "      <td>12319.00000</td>\n",
       "      <td>12319.00000</td>\n",
       "      <td>12319.00000</td>\n",
       "      <td>12319.00000</td>\n",
       "      <td>12319.00000</td>\n",
       "      <td>12319.00000</td>\n",
       "      <td>12319.00000</td>\n",
       "      <td>12319.00000</td>\n",
       "      <td>12319.00000</td>\n",
       "      <td>12319.00000</td>\n",
       "    </tr>\n",
       "    <tr>\n",
       "      <th>mean</th>\n",
       "      <td>4.05975</td>\n",
       "      <td>2178695.40847</td>\n",
       "      <td>1.42475</td>\n",
       "      <td>3.59626</td>\n",
       "      <td>3.44314</td>\n",
       "      <td>0.89316</td>\n",
       "      <td>1.91999</td>\n",
       "      <td>476439.47557</td>\n",
       "      <td>0.89668</td>\n",
       "      <td>1.07377</td>\n",
       "      <td>0.89680</td>\n",
       "      <td>0.89887</td>\n",
       "      <td>0.00207</td>\n",
       "    </tr>\n",
       "    <tr>\n",
       "      <th>std</th>\n",
       "      <td>1.74522</td>\n",
       "      <td>3681894.15183</td>\n",
       "      <td>1.77473</td>\n",
       "      <td>1.37459</td>\n",
       "      <td>1.38794</td>\n",
       "      <td>0.12587</td>\n",
       "      <td>1.33314</td>\n",
       "      <td>562989.34751</td>\n",
       "      <td>0.04943</td>\n",
       "      <td>1.05247</td>\n",
       "      <td>0.04524</td>\n",
       "      <td>0.26168</td>\n",
       "      <td>0.25924</td>\n",
       "    </tr>\n",
       "    <tr>\n",
       "      <th>min</th>\n",
       "      <td>1.00000</td>\n",
       "      <td>1271.00000</td>\n",
       "      <td>0.01179</td>\n",
       "      <td>1.00000</td>\n",
       "      <td>1.00000</td>\n",
       "      <td>0.10000</td>\n",
       "      <td>0.02442</td>\n",
       "      <td>0.00000</td>\n",
       "      <td>0.52778</td>\n",
       "      <td>0.00000</td>\n",
       "      <td>0.51896</td>\n",
       "      <td>0.00000</td>\n",
       "      <td>-1.00000</td>\n",
       "    </tr>\n",
       "    <tr>\n",
       "      <th>25%</th>\n",
       "      <td>3.00000</td>\n",
       "      <td>19849.00000</td>\n",
       "      <td>0.07561</td>\n",
       "      <td>2.58496</td>\n",
       "      <td>2.32193</td>\n",
       "      <td>0.83333</td>\n",
       "      <td>0.99102</td>\n",
       "      <td>101231.97450</td>\n",
       "      <td>0.87188</td>\n",
       "      <td>0.00000</td>\n",
       "      <td>0.87123</td>\n",
       "      <td>1.00000</td>\n",
       "      <td>0.04623</td>\n",
       "    </tr>\n",
       "    <tr>\n",
       "      <th>50%</th>\n",
       "      <td>4.00000</td>\n",
       "      <td>143725.00000</td>\n",
       "      <td>0.88911</td>\n",
       "      <td>3.45943</td>\n",
       "      <td>3.32193</td>\n",
       "      <td>0.92593</td>\n",
       "      <td>1.61801</td>\n",
       "      <td>255272.42207</td>\n",
       "      <td>0.90240</td>\n",
       "      <td>1.00000</td>\n",
       "      <td>0.90043</td>\n",
       "      <td>1.00000</td>\n",
       "      <td>0.08651</td>\n",
       "    </tr>\n",
       "    <tr>\n",
       "      <th>75%</th>\n",
       "      <td>5.00000</td>\n",
       "      <td>3122198.00000</td>\n",
       "      <td>2.07153</td>\n",
       "      <td>4.45943</td>\n",
       "      <td>4.32193</td>\n",
       "      <td>1.00000</td>\n",
       "      <td>2.53352</td>\n",
       "      <td>651463.87559</td>\n",
       "      <td>0.92896</td>\n",
       "      <td>1.58496</td>\n",
       "      <td>0.92690</td>\n",
       "      <td>1.00000</td>\n",
       "      <td>0.11823</td>\n",
       "    </tr>\n",
       "    <tr>\n",
       "      <th>max</th>\n",
       "      <td>11.00000</td>\n",
       "      <td>14459520.00000</td>\n",
       "      <td>9.28304</td>\n",
       "      <td>8.64386</td>\n",
       "      <td>8.46352</td>\n",
       "      <td>1.00000</td>\n",
       "      <td>9.19604</td>\n",
       "      <td>3710308.46937</td>\n",
       "      <td>1.00000</td>\n",
       "      <td>6.80735</td>\n",
       "      <td>1.00000</td>\n",
       "      <td>1.00000</td>\n",
       "      <td>0.48104</td>\n",
       "    </tr>\n",
       "  </tbody>\n",
       "</table>\n",
       "</div>"
      ],
      "text/plain": [
       "         word_len        SUBTLEX       delta  history_seen  history_correct  \\\n",
       "count 12319.00000    12319.00000 12319.00000   12319.00000      12319.00000   \n",
       "mean      4.05975  2178695.40847     1.42475       3.59626          3.44314   \n",
       "std       1.74522  3681894.15183     1.77473       1.37459          1.38794   \n",
       "min       1.00000     1271.00000     0.01179       1.00000          1.00000   \n",
       "25%       3.00000    19849.00000     0.07561       2.58496          2.32193   \n",
       "50%       4.00000   143725.00000     0.88911       3.45943          3.32193   \n",
       "75%       5.00000  3122198.00000     2.07153       4.45943          4.32193   \n",
       "max      11.00000 14459520.00000     9.28304       8.64386          8.46352   \n",
       "\n",
       "         h_recall   avg_delta     std_delta  avg_h_recall  history_wrong  \\\n",
       "count 12319.00000 12319.00000   12319.00000   12319.00000    12319.00000   \n",
       "mean      0.89316     1.91999  476439.47557       0.89668        1.07377   \n",
       "std       0.12587     1.33314  562989.34751       0.04943        1.05247   \n",
       "min       0.10000     0.02442       0.00000       0.52778        0.00000   \n",
       "25%       0.83333     0.99102  101231.97450       0.87188        0.00000   \n",
       "50%       0.92593     1.61801  255272.42207       0.90240        1.00000   \n",
       "75%       1.00000     2.53352  651463.87559       0.92896        1.58496   \n",
       "max       1.00000     9.19604 3710308.46937       1.00000        6.80735   \n",
       "\n",
       "       predictions    p_recall        diff  \n",
       "count  12319.00000 12319.00000 12319.00000  \n",
       "mean       0.89680     0.89887     0.00207  \n",
       "std        0.04524     0.26168     0.25924  \n",
       "min        0.51896     0.00000    -1.00000  \n",
       "25%        0.87123     1.00000     0.04623  \n",
       "50%        0.90043     1.00000     0.08651  \n",
       "75%        0.92690     1.00000     0.11823  \n",
       "max        1.00000     1.00000     0.48104  "
      ]
     },
     "execution_count": 89,
     "metadata": {},
     "output_type": "execute_result"
    }
   ],
   "source": [
    "pd.set_option('display.float_format', lambda x: '%.5f' % x)\n",
    "full_df_all.loc[:, ~full_df_all.columns.str.startswith(('lang_combination', 'tags_list'))].describe()"
   ]
  },
  {
   "cell_type": "code",
   "execution_count": 98,
   "id": "e7dc08b5-fdde-4720-8866-495505cae2b7",
   "metadata": {},
   "outputs": [
    {
     "data": {
      "text/plain": [
       "p_recall\n",
       "1.00000   0.82661\n",
       "0.00000   0.06380\n",
       "0.50000   0.03361\n",
       "0.66667   0.02200\n",
       "0.75000   0.01664\n",
       "0.80000   0.01567\n",
       "0.83333   0.00722\n",
       "0.85714   0.00341\n",
       "0.60000   0.00317\n",
       "0.33333   0.00292\n",
       "0.87500   0.00122\n",
       "0.88889   0.00089\n",
       "0.71429   0.00049\n",
       "0.77778   0.00041\n",
       "0.90000   0.00041\n",
       "0.90909   0.00032\n",
       "0.62500   0.00024\n",
       "0.91667   0.00016\n",
       "0.40000   0.00016\n",
       "0.81818   0.00016\n",
       "0.57143   0.00016\n",
       "0.92308   0.00008\n",
       "0.44444   0.00008\n",
       "0.25000   0.00008\n",
       "0.70000   0.00008\n",
       "Name: proportion, dtype: float64"
      ]
     },
     "execution_count": 98,
     "metadata": {},
     "output_type": "execute_result"
    }
   ],
   "source": [
    "full_df_all['p_recall'].value_counts(normalize=True)"
   ]
  },
  {
   "cell_type": "code",
   "execution_count": 99,
   "id": "2b2d45ba-dcab-4d44-8fbb-ec6a4022ed24",
   "metadata": {},
   "outputs": [
    {
     "data": {
      "text/plain": [
       "predictions\n",
       "1.00000   0.00511\n",
       "0.86590   0.00008\n",
       "0.93761   0.00008\n",
       "0.86789   0.00008\n",
       "0.90563   0.00008\n",
       "            ...  \n",
       "0.92146   0.00008\n",
       "0.97093   0.00008\n",
       "0.82880   0.00008\n",
       "0.92189   0.00008\n",
       "0.85528   0.00008\n",
       "Name: proportion, Length: 12257, dtype: float64"
      ]
     },
     "execution_count": 99,
     "metadata": {},
     "output_type": "execute_result"
    }
   ],
   "source": [
    "full_df_all['predictions'].value_counts(normalize=True)"
   ]
  },
  {
   "cell_type": "code",
   "execution_count": 31,
   "id": "b0fa7d0e-259e-40a9-b92a-3a0e9225d9cd",
   "metadata": {},
   "outputs": [
    {
     "data": {
      "text/html": [
       "<div>\n",
       "<style scoped>\n",
       "    .dataframe tbody tr th:only-of-type {\n",
       "        vertical-align: middle;\n",
       "    }\n",
       "\n",
       "    .dataframe tbody tr th {\n",
       "        vertical-align: top;\n",
       "    }\n",
       "\n",
       "    .dataframe thead th {\n",
       "        text-align: right;\n",
       "    }\n",
       "</style>\n",
       "<table border=\"1\" class=\"dataframe\">\n",
       "  <thead>\n",
       "    <tr style=\"text-align: right;\">\n",
       "      <th></th>\n",
       "      <th>p_recall</th>\n",
       "      <th>predictions</th>\n",
       "    </tr>\n",
       "  </thead>\n",
       "  <tbody>\n",
       "    <tr>\n",
       "      <th>682558</th>\n",
       "      <td>1.00000</td>\n",
       "      <td>0.92015</td>\n",
       "    </tr>\n",
       "    <tr>\n",
       "      <th>8361663</th>\n",
       "      <td>1.00000</td>\n",
       "      <td>0.89149</td>\n",
       "    </tr>\n",
       "    <tr>\n",
       "      <th>82599</th>\n",
       "      <td>1.00000</td>\n",
       "      <td>0.91163</td>\n",
       "    </tr>\n",
       "    <tr>\n",
       "      <th>2912238</th>\n",
       "      <td>0.66667</td>\n",
       "      <td>0.89200</td>\n",
       "    </tr>\n",
       "    <tr>\n",
       "      <th>1253433</th>\n",
       "      <td>0.66667</td>\n",
       "      <td>0.91065</td>\n",
       "    </tr>\n",
       "    <tr>\n",
       "      <th>...</th>\n",
       "      <td>...</td>\n",
       "      <td>...</td>\n",
       "    </tr>\n",
       "    <tr>\n",
       "      <th>1936760</th>\n",
       "      <td>0.75000</td>\n",
       "      <td>0.85052</td>\n",
       "    </tr>\n",
       "    <tr>\n",
       "      <th>6656859</th>\n",
       "      <td>1.00000</td>\n",
       "      <td>0.91963</td>\n",
       "    </tr>\n",
       "    <tr>\n",
       "      <th>1662334</th>\n",
       "      <td>1.00000</td>\n",
       "      <td>0.91856</td>\n",
       "    </tr>\n",
       "    <tr>\n",
       "      <th>2991749</th>\n",
       "      <td>1.00000</td>\n",
       "      <td>0.91069</td>\n",
       "    </tr>\n",
       "    <tr>\n",
       "      <th>1749008</th>\n",
       "      <td>0.50000</td>\n",
       "      <td>0.88248</td>\n",
       "    </tr>\n",
       "  </tbody>\n",
       "</table>\n",
       "<p>1225167 rows × 2 columns</p>\n",
       "</div>"
      ],
      "text/plain": [
       "         p_recall  predictions\n",
       "682558    1.00000      0.92015\n",
       "8361663   1.00000      0.89149\n",
       "82599     1.00000      0.91163\n",
       "2912238   0.66667      0.89200\n",
       "1253433   0.66667      0.91065\n",
       "...           ...          ...\n",
       "1936760   0.75000      0.85052\n",
       "6656859   1.00000      0.91963\n",
       "1662334   1.00000      0.91856\n",
       "2991749   1.00000      0.91069\n",
       "1749008   0.50000      0.88248\n",
       "\n",
       "[1225167 rows x 2 columns]"
      ]
     },
     "execution_count": 31,
     "metadata": {},
     "output_type": "execute_result"
    }
   ],
   "source": [
    "full_df_all[['p_recall', 'predictions']]"
   ]
  },
  {
   "cell_type": "code",
   "execution_count": 80,
   "id": "1b1f3d7e-e86c-49b4-bfe7-41b4637805c2",
   "metadata": {},
   "outputs": [
    {
     "data": {
      "text/plain": [
       "<Axes: >"
      ]
     },
     "execution_count": 80,
     "metadata": {},
     "output_type": "execute_result"
    },
    {
     "data": {
      "image/png": "[encoded data removed]",
      "text/plain": [
       "<Figure size 640x480 with 1 Axes>"
      ]
     },
     "metadata": {},
     "output_type": "display_data"
    }
   ],
   "source": [
    "full_df_all['predictions'].hist()"
   ]
  },
  {
   "cell_type": "code",
   "execution_count": 81,
   "id": "e85c3a20-bae4-4906-b8bc-72fdba6371bb",
   "metadata": {},
   "outputs": [
    {
     "data": {
      "text/plain": [
       "<Axes: >"
      ]
     },
     "execution_count": 81,
     "metadata": {},
     "output_type": "execute_result"
    },
    {
     "data": {
      "image/png": "[encoded data removed]",
      "text/plain": [
       "<Figure size 640x480 with 1 Axes>"
      ]
     },
     "metadata": {},
     "output_type": "display_data"
    }
   ],
   "source": [
    "full_df_all['p_recall'].hist()"
   ]
  },
  {
   "cell_type": "code",
   "execution_count": null,
   "id": "5aff080e-5b3d-44f3-8cc1-c9ac386b5a5a",
   "metadata": {},
   "outputs": [],
   "source": []
  }
 ],
 "metadata": {
  "kernelspec": {
   "display_name": "Python 3 (ipykernel)",
   "language": "python",
   "name": "python3"
  },
  "language_info": {
   "codemirror_mode": {
    "name": "ipython",
    "version": 3
   },
   "file_extension": ".py",
   "mimetype": "text/x-python",
   "name": "python",
   "nbconvert_exporter": "python",
   "pygments_lexer": "ipython3",
   "version": "3.12.3"
  }
 },
 "nbformat": 4,
 "nbformat_minor": 5
}

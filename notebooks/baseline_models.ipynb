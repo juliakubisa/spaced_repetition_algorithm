{
 "cells": [
  {
   "cell_type": "code",
   "execution_count": 1,
   "id": "c735b02c-eeab-417e-892c-1d02851886cf",
   "metadata": {},
   "outputs": [],
   "source": [
    "import os\n",
    "import pandas as pd\n",
    "import seaborn as sns\n",
    "import numpy as np\n",
    "from sklearn.compose import TransformedTargetRegressor\n",
    "from sklearn.linear_model import LinearRegression, Lasso, Ridge\n",
    "from sklearn.metrics import r2_score, mean_absolute_error\n",
    "from sklearn.model_selection import train_test_split as sklearn_train_test_split\n",
    "from sklearn.feature_selection import RFE\n",
    "from sklearn.preprocessing import StandardScaler, PowerTransformer, OneHotEncoder, PolynomialFeatures\n",
    "from sklearn.pipeline import Pipeline\n",
    "from statsmodels.stats.outliers_influence import variance_inflation_factor\n",
    "import matplotlib.pyplot as plt"
   ]
  },
  {
   "cell_type": "code",
   "execution_count": 68,
   "id": "5a559aaf-d957-45e2-8b9b-c91f41ea2c33",
   "metadata": {},
   "outputs": [],
   "source": [
    "cols_to_drop = ['timestamp', 'lexeme_id', 'word', 'user_id', 'session_seen', 'session_correct', 'avg_user_p_recall', 'ui_language', 'learning_language']\n",
    "current_dir = os.getcwd()\n",
    "filename = 'df_processed.csv'\n",
    "filepath = os.path.normpath(os.path.join(current_dir, '../data/processed/', filename))\n",
    "\n",
    "chunk_size = 10000\n",
    "chunks = []\n",
    "\n",
    "for chunk in pd.read_csv(filepath, chunksize=chunk_size):\n",
    "    chunk.drop_duplicates(inplace=True)\n",
    "    chunk.dropna(inplace=True)\n",
    "    chunks.append(chunk)\n",
    "\n",
    "df = pd.concat(chunks, ignore_index=True)\n",
    "df_users = pd.read_csv(os.path.normpath(os.path.join(current_dir, '../data/features/', 'users_behaviur.csv')))\n",
    "df_words = pd.read_csv(os.path.normpath(os.path.join(current_dir, '../data/features/', 'word_complexity_features.csv')), sep='\\t')\n",
    "dff = pd.merge(pd.merge(df_words, df, on = 'lexeme_id', how='inner'), df_users, on = ['user_id', 'lang_combination'], how='inner')\n",
    "dff.drop(columns=cols_to_drop, inplace=True, errors='ignore')"
   ]
  },
  {
   "cell_type": "code",
   "execution_count": 69,
   "id": "fc93f230-ce9b-4a81-b9bd-b626683733a2",
   "metadata": {
    "scrolled": true
   },
   "outputs": [
    {
     "data": {
      "text/plain": [
       "Index(['gender', 'def', 'tense', 'POS', 'person', 'number', 'word_len',\n",
       "       'tags_list', 'SUBTLEX', 'p_recall', 'delta', 'history_seen',\n",
       "       'history_correct', 'h_recall', 'lang_combination', 'avg_delta',\n",
       "       'std_delta', 'avg_h_recall'],\n",
       "      dtype='object')"
      ]
     },
     "execution_count": 69,
     "metadata": {},
     "output_type": "execute_result"
    }
   ],
   "source": [
    "dff.columns"
   ]
  },
  {
   "cell_type": "code",
   "execution_count": 70,
   "id": "1b9ac800-5694-40f9-a09f-efa1bf6edc5f",
   "metadata": {},
   "outputs": [],
   "source": [
    "# Handle tags \n",
    "# 1) Store tags as list, but delete rows where there are less than x occurences \n",
    "dff_1 = dff.copy()\n",
    "tag_counts = dff_1['tags_list'].value_counts()\n",
    "rare_threshold = 1000\n",
    "dff_1['tags_list'] = dff_1['tags_list'].apply(lambda x: x if tag_counts[x] > rare_threshold else 'rare')\n",
    "\n",
    "dff_1.drop(columns=['POS', 'person', 'number', 'gender', 'tense', 'def'], inplace=True)\n",
    "dff_1.dropna(inplace=True)\n",
    "\n",
    "# 2) Store each tag as column, replace NaN values with a placeholder for categorical columns\n",
    "# categorical_cols = dff.select_dtypes(include=['object']).columns.tolist()\n",
    "# dff_2 = dff.copy()\n",
    "# dff_2[categorical_cols] = dff_2[categorical_cols].fillna('missing')\n",
    "# dff_2.drop(columns=['tags_list'], inplace=True)"
   ]
  },
  {
   "cell_type": "code",
   "execution_count": 71,
   "id": "6bf972f7-8e20-434e-832d-83cc297ac30d",
   "metadata": {},
   "outputs": [
    {
     "data": {
      "text/html": [
       "<div>\n",
       "<style scoped>\n",
       "    .dataframe tbody tr th:only-of-type {\n",
       "        vertical-align: middle;\n",
       "    }\n",
       "\n",
       "    .dataframe tbody tr th {\n",
       "        vertical-align: top;\n",
       "    }\n",
       "\n",
       "    .dataframe thead th {\n",
       "        text-align: right;\n",
       "    }\n",
       "</style>\n",
       "<table border=\"1\" class=\"dataframe\">\n",
       "  <thead>\n",
       "    <tr style=\"text-align: right;\">\n",
       "      <th></th>\n",
       "      <th>Feature</th>\n",
       "      <th>VIF</th>\n",
       "    </tr>\n",
       "  </thead>\n",
       "  <tbody>\n",
       "    <tr>\n",
       "      <th>0</th>\n",
       "      <td>word_len</td>\n",
       "      <td>7.960949</td>\n",
       "    </tr>\n",
       "    <tr>\n",
       "      <th>1</th>\n",
       "      <td>SUBTLEX</td>\n",
       "      <td>1.431312</td>\n",
       "    </tr>\n",
       "    <tr>\n",
       "      <th>2</th>\n",
       "      <td>delta</td>\n",
       "      <td>1.983344</td>\n",
       "    </tr>\n",
       "    <tr>\n",
       "      <th>3</th>\n",
       "      <td>h_recall</td>\n",
       "      <td>51.246435</td>\n",
       "    </tr>\n",
       "    <tr>\n",
       "      <th>4</th>\n",
       "      <td>avg_delta</td>\n",
       "      <td>4.067625</td>\n",
       "    </tr>\n",
       "    <tr>\n",
       "      <th>5</th>\n",
       "      <td>std_delta</td>\n",
       "      <td>3.824504</td>\n",
       "    </tr>\n",
       "    <tr>\n",
       "      <th>6</th>\n",
       "      <td>avg_h_recall</td>\n",
       "      <td>59.811385</td>\n",
       "    </tr>\n",
       "  </tbody>\n",
       "</table>\n",
       "</div>"
      ],
      "text/plain": [
       "        Feature        VIF\n",
       "0      word_len   7.960949\n",
       "1       SUBTLEX   1.431312\n",
       "2         delta   1.983344\n",
       "3      h_recall  51.246435\n",
       "4     avg_delta   4.067625\n",
       "5     std_delta   3.824504\n",
       "6  avg_h_recall  59.811385"
      ]
     },
     "execution_count": 71,
     "metadata": {},
     "output_type": "execute_result"
    }
   ],
   "source": [
    "# VIF -> iteratevily delete columns that had VIF > 10\n",
    "def calculate_vif(X):\n",
    "    vif_data = pd.DataFrame()\n",
    "    vif_data[\"Feature\"] = X.columns\n",
    "    vif_data[\"VIF\"] = [variance_inflation_factor(X.values, i) for i in range(X.shape[1])]\n",
    "    return vif_data\n",
    "    \n",
    "dff_VIF = dff_1.drop(columns=['p_recall','history_correct', 'history_seen']).sample(2000000)\n",
    "vif = calculate_vif(dff_VIF.select_dtypes(exclude='O'))\n",
    "vif"
   ]
  },
  {
   "cell_type": "code",
   "execution_count": 72,
   "id": "d50f3a2f-57ab-4426-8bb4-af7204853577",
   "metadata": {},
   "outputs": [
    {
     "name": "stdout",
     "output_type": "stream",
     "text": [
      "avg_h_recall       0.164711\n",
      "history_correct    0.000409\n",
      "p_recall           1.000000\n",
      "Name: p_recall, dtype: float64\n"
     ]
    }
   ],
   "source": [
    "removed_features = [\"avg_h_recall\", 'history_correct']\n",
    "correlation_with_target = dff_1[removed_features + [\"p_recall\"]].corr()[\"p_recall\"]\n",
    "print(correlation_with_target)"
   ]
  },
  {
   "cell_type": "code",
   "execution_count": 73,
   "id": "b0035124-cf14-4b2e-90b7-4e63f501e8b6",
   "metadata": {},
   "outputs": [],
   "source": [
    "dff_final = dff_1.sample(frac=0.7)\n",
    "# dff_final = dff_2"
   ]
  },
  {
   "cell_type": "code",
   "execution_count": 74,
   "id": "47a62146-3a0b-4a0b-97e0-0d04113656dd",
   "metadata": {},
   "outputs": [],
   "source": [
    "# Transforming skewed variables\n",
    "dff_final['history_wrong'] = np.log(1+(dff_final['history_seen']-dff_final['history_correct']))\n",
    "dff_final['delta'] = np.log(dff_final['delta']/(60*60*24))\n",
    "dff_final['avg_delta'] = np.log(dff_final['avg_delta']/(60*60*24))\n",
    "dff_final['history_seen'] = np.log(1+dff_final['history_seen'])\n",
    "dff_final['history_correct'] = np.log(1+dff_final['history_correct'])"
   ]
  },
  {
   "cell_type": "code",
   "execution_count": 75,
   "id": "ff2bb4b8-9a77-41a5-a01d-bb1127aae23c",
   "metadata": {},
   "outputs": [
    {
     "data": {
      "text/plain": [
       "history_wrong     -0.080241\n",
       "delta             -0.043143\n",
       "avg_delta         -0.029242\n",
       "std_delta         -0.021663\n",
       "SUBTLEX           -0.011197\n",
       "history_seen      -0.004011\n",
       "history_correct    0.011817\n",
       "word_len           0.015055\n",
       "h_recall           0.103835\n",
       "avg_h_recall       0.164584\n",
       "p_recall           1.000000\n",
       "Name: p_recall, dtype: float64"
      ]
     },
     "execution_count": 75,
     "metadata": {},
     "output_type": "execute_result"
    }
   ],
   "source": [
    "dff_final[['word_len', 'SUBTLEX', 'delta', 'history_seen', 'history_correct', 'h_recall', 'std_delta', 'avg_h_recall', 'history_wrong', 'avg_delta', 'p_recall']].corr()['p_recall'].sort_values()"
   ]
  },
  {
   "cell_type": "code",
   "execution_count": 76,
   "id": "d081b9b2-7200-4145-a885-c39971c1a03a",
   "metadata": {},
   "outputs": [],
   "source": [
    "# Transformation of target variable \n",
    "\n",
    "# Logit transformation \n",
    "def logit_transform(y, epsilon=1e-10):\n",
    "    y = np.clip(y, epsilon, 1 - epsilon)\n",
    "    return np.log(y / (1 - y))\n",
    "\n",
    "def inverse_logit_transform(y):\n",
    "    return 1 / (1 + np.exp(-y))\n",
    "\n",
    "\n",
    "# Log transformation \n",
    "def log_transform(y, epsilon=1e-10):\n",
    "    return np.log(y + epsilon)\n",
    "\n",
    "def inverse_log_transform(y):\n",
    "    return np.exp(y)\n",
    "\n",
    "\n",
    "# Box-Cox transformation\n",
    "power_transformer = PowerTransformer(method='box-cox', standardize=False)\n",
    "def power_transform(y, epsilon=1e-10):\n",
    "    return power_transformer.fit_transform(y+epsilon) \n",
    "\n",
    "def inverse_power_transform(y, epsilon=1e-10):\n",
    "    return power_transformer.inverse_transform(y+epsilon) "
   ]
  },
  {
   "cell_type": "code",
   "execution_count": 77,
   "id": "30999554-179f-4380-bd14-808e19634955",
   "metadata": {},
   "outputs": [],
   "source": [
    "# Create df without word features \n",
    "# dff_t = dff_final.drop(columns=['tags_list', 'word_len', 'SUBTLEX'], errors='ignore')\n",
    "\n",
    "# df without SUBTLEX\n",
    "# dff_t = dff_final.drop(columns=['SUBTLEX'], errors='ignore')\n",
    "\n",
    "# DF original \n",
    "# dff_s = dff_final.drop(columns=['SUBTLEX', 'tags_list', 'word_len', 'avg_delta', 'std_delta', 'avg_h_recall', 'lang_combination', 'h_recall'], errors='ignore')\n",
    "\n",
    "# DF without history correct and seen\n",
    "# dff_s = dff_final.drop(columns=['history_correct', 'history_seen'], errors='ignore')\n",
    "\n",
    "# DF without user columns \n",
    "# dff_u = dff_final.drop(columns=['avg_delta', 'std_delta', 'avg_h_recall', 'h_recall'], errors='ignore')\n",
    "\n",
    "# DF without lang ui and lang native\n",
    "# dff_u = dff_final.drop(columns=['ui_language', 'learning_language'], errors='ignore')\n"
   ]
  },
  {
   "cell_type": "code",
   "execution_count": 78,
   "id": "6faebfda-81e3-4416-8387-954f4885899d",
   "metadata": {},
   "outputs": [],
   "source": [
    "def ohe(df):\n",
    "    \"\"\"\n",
    "    One-hot encode categorical variables\n",
    "    \"\"\" \n",
    "    categorical_cols = df.select_dtypes(include=['object']).columns.tolist()\n",
    "    ohe = OneHotEncoder(sparse_output=False)\n",
    "    ohe_data = ohe.fit_transform(df[categorical_cols])\n",
    "    ohe_df = pd.DataFrame(ohe_data, columns=ohe.get_feature_names_out(categorical_cols))\n",
    "    df_encoded = pd.concat([df.select_dtypes(exclude='O'), ohe_df], axis=1)\n",
    "    df_encoded.dropna(inplace=True)\n",
    "    return df_encoded"
   ]
  },
  {
   "cell_type": "code",
   "execution_count": 79,
   "id": "c5e7538c-7f93-403e-8f9a-4790989e8ee6",
   "metadata": {},
   "outputs": [],
   "source": [
    "def split_dataset(df):\n",
    "    X = df.drop(columns='p_recall')\n",
    "    y = df['p_recall']\n",
    "    X_train, X_test, y_train, y_test = sklearn_train_test_split(X,\n",
    "                                                        y,\n",
    "                                                        train_size=0.8,\n",
    "                                                        random_state=42)\n",
    "    return X_train, X_test, y_train, y_test"
   ]
  },
  {
   "cell_type": "code",
   "execution_count": 80,
   "id": "78b2c4d4-1f08-4dab-a413-d2aa8e9d603c",
   "metadata": {},
   "outputs": [],
   "source": [
    "def cap_y(prediction): \n",
    "    return np.clip(prediction, 0, 1)"
   ]
  },
  {
   "cell_type": "code",
   "execution_count": 81,
   "id": "81b114ed-a5df-40f2-8c02-8acce707ccc1",
   "metadata": {},
   "outputs": [],
   "source": [
    "dff_encoded = ohe(dff_final)\n",
    "# dff_t_encoded = ohe(dff_t)\n",
    "# dff_s_encoded = ohe(dff_s)\n",
    "# dff_u_encoded = ohe(dff_u)\n",
    "\n",
    "\n",
    "X_train, X_test, y_train, y_test = split_dataset(dff_encoded)\n",
    "# X_train_t, X_test_t, y_train_t, y_test_t = split_dataset(dff_t_encoded)\n",
    "# X_train_s, X_test_s, y_train_s, y_test_s = split_dataset(dff_s_encoded)\n",
    "# X_train_u, X_test_u, y_train_u, y_test_u = split_dataset(dff_u_encoded)"
   ]
  },
  {
   "cell_type": "code",
   "execution_count": 82,
   "id": "ab97e5ba-151d-4e3a-a7fd-b719e6c67e47",
   "metadata": {},
   "outputs": [],
   "source": [
    "def create_pipeline(model_type=\"linear\", alpha=1.0, **kwargs):\n",
    "    \"\"\"\n",
    "    Create a pipeline for regression with optional feature selection.\n",
    "    \n",
    "    Returns:\n",
    "    - Pipeline object\n",
    "    \"\"\"\n",
    "    if model_type == \"ridge\":\n",
    "        model = Ridge(alpha=alpha, fit_intercept=True)\n",
    "    else:\n",
    "        model = LinearRegression()\n",
    "\n",
    "    steps = [\n",
    "        ('scaler', StandardScaler()),\n",
    "        # ('polynomial_features', PolynomialFeatures(degree=3, include_bias=False)),\n",
    "        ('model', model)\n",
    "        # ('model', TransformedTargetRegressor(regressor=model, \n",
    "        #                                     func=log_transform,\n",
    "        #                                     inverse_func=inverse_log_transform))\n",
    "    ]\n",
    "    return Pipeline(steps)"
   ]
  },
  {
   "cell_type": "code",
   "execution_count": 83,
   "id": "e6d6b701-7bb4-4efb-afac-228e18a6ad25",
   "metadata": {},
   "outputs": [],
   "source": [
    "def evaluate_pipeline(pipeline, X_train, X_test, y_train, y_test, name=\"Model\"):\n",
    "    \"\"\"\n",
    "    Train and evaluate a pipeline, returning metrics.\n",
    "    \"\"\"\n",
    "    pipeline.fit(X_train, y_train)\n",
    "\n",
    "    # Predict on both train and test\n",
    "    y_train_pred = cap_y(pipeline.predict(X_train))\n",
    "    y_test_pred = cap_y(pipeline.predict(X_test)) \n",
    "\n",
    "    # Calculate metrics \n",
    "    train_r2 = r2_score(y_train, y_train_pred)\n",
    "    test_r2 = r2_score(y_test, y_test_pred)\n",
    "    test_mae = mean_absolute_error(y_test, y_test_pred)\n",
    "    train_mae = mean_absolute_error(y_train, y_train_pred)\n",
    "    \n",
    "    print(f\"{name}: Train R2 = {round(train_r2, 4)}, Test R2 = {round(test_r2,4)}, Train MAE = {round(train_mae,4)}, Test MAE = {round(test_mae, 4)}\")\n",
    "    return y_train_pred, y_test_pred, test_mae, test_r2"
   ]
  },
  {
   "cell_type": "code",
   "execution_count": 37,
   "id": "93f81ffd-92da-4595-9ba4-22293ec0ef0e",
   "metadata": {},
   "outputs": [],
   "source": [
    "# Define Configurations for Pipelines\n",
    "pipelines_config = [\n",
    "    {\"name\": \"Linear Regression\", \"model_type\": \"linear\"}\n",
    "    # {\"name\": \"Ridge Regression\", \"model_type\": \"ridge\", \"alpha\": 100},\n",
    "    # {\"name\": \"Lasso Regression\", \"model_type\": \"lasso\"},\n",
    "]\n",
    "\n",
    "def regression_results(pipelines_config, X_train, X_test, y_train, y_test, importance='No'):\n",
    "    results = []\n",
    "    importances = [] \n",
    "    \n",
    "    for config in pipelines_config:\n",
    "        pipeline = create_pipeline(**config)\n",
    "        y_train_pred, y_test_pred, mae, r2 = evaluate_pipeline(pipeline, X_train, X_test, y_train, y_test, name=config[\"name\"])\n",
    "        results.append((config[\"name\"], mae, r2))\n",
    "\n",
    "        if isinstance(importance, str) and importance == 'Yes':\n",
    "            model = pipeline.named_steps[\"model\"]\n",
    "            importances.append((config[\"name\"], X_train.columns, model.coef_))\n",
    "\n",
    "    importance_df = pd.DataFrame(importances, columns = ['Model', 'Feature', 'Importance'])\n",
    "    results_df = pd.DataFrame(results, columns=['Model', 'Test MAE', 'Test R2'])   \n",
    "\n",
    "    full_df = X_test.copy()\n",
    "    full_df['predictions'] = y_test_pred\n",
    "    full_df['p_recall'] = y_test\n",
    "\n",
    "    return results_df, importance_df, full_df"
   ]
  },
  {
   "cell_type": "code",
   "execution_count": 84,
   "id": "b5c939dd-6686-4646-812b-51b164d4cc7d",
   "metadata": {
    "scrolled": true
   },
   "outputs": [
    {
     "name": "stdout",
     "output_type": "stream",
     "text": [
      "Results for all features\n",
      "Linear Regression: Train R2 = 0.0298, Test R2 = 0.0307, Train MAE = 0.1627, Test MAE = 0.1626\n"
     ]
    }
   ],
   "source": [
    "print('Results for all features')\n",
    "results_all, importance_all, full_df_all = regression_results(pipelines_config, X_train, X_test, y_train, y_test, importance='Yes')\n",
    "\n",
    "# print('Results after deleting word features')\n",
    "# results_t, importance_t, full_df_t = regression_results(pipelines_config, X_train_t, X_test_t, y_train_t, y_test_t, importance='Yes')\n",
    "\n",
    "# print('Results without word and user features')\n",
    "# results_s, importance_s, full_df_s  = regression_results(pipelines_config, X_train_s, X_test_s, y_train_s, y_test_s, importance='Yes')\n",
    "\n",
    "# print('Results without user features') \n",
    "# results_u, importance_u, full_df_u = regression_results(pipelines_config, X_train_u, X_test_u, y_train_u, y_test_u, importance='No')"
   ]
  },
  {
   "cell_type": "code",
   "execution_count": 87,
   "id": "25eab286-611e-4545-8d2e-a81c99b7d3d7",
   "metadata": {},
   "outputs": [],
   "source": [
    "# Analyze coefficients\n",
    "importance_df = importance_all.explode([\"Feature\", \"Importance\"]).reset_index(drop=True)\n",
    "\n",
    "tags_importance = importance_df[importance_df['Feature'].str.contains(\"tags_list_\")].copy()\n",
    "overall_tags_importance = tags_importance['Importance'].abs().sum()\n",
    "\n",
    "importance_df.head()\n",
    "importance_df.loc[-1] = ['Linear Regression', 'tags_list (overall)', overall_tags_importance]  # adding a row\n",
    "importance_df.index = importance_df.index + 1 \n",
    "\n",
    "\n",
    "importance_df['Absolute_Val'] = importance_df['Importance'].abs()\n",
    "importance_df = importance_df.sort_values(by='Absolute_Val', ascending=False)"
   ]
  },
  {
   "cell_type": "code",
   "execution_count": 88,
   "id": "e73f89ff-fd6f-46f7-9213-1ea63475ca26",
   "metadata": {},
   "outputs": [
    {
     "data": {
      "text/html": [
       "<div>\n",
       "<style scoped>\n",
       "    .dataframe tbody tr th:only-of-type {\n",
       "        vertical-align: middle;\n",
       "    }\n",
       "\n",
       "    .dataframe tbody tr th {\n",
       "        vertical-align: top;\n",
       "    }\n",
       "\n",
       "    .dataframe thead th {\n",
       "        text-align: right;\n",
       "    }\n",
       "</style>\n",
       "<table border=\"1\" class=\"dataframe\">\n",
       "  <thead>\n",
       "    <tr style=\"text-align: right;\">\n",
       "      <th></th>\n",
       "      <th>Model</th>\n",
       "      <th>Feature</th>\n",
       "      <th>Importance</th>\n",
       "      <th>Absolute_Val</th>\n",
       "    </tr>\n",
       "  </thead>\n",
       "  <tbody>\n",
       "    <tr>\n",
       "      <th>5</th>\n",
       "      <td>Linear Regression</td>\n",
       "      <td>history_correct</td>\n",
       "      <td>0.410323</td>\n",
       "      <td>0.410323</td>\n",
       "    </tr>\n",
       "    <tr>\n",
       "      <th>4</th>\n",
       "      <td>Linear Regression</td>\n",
       "      <td>history_seen</td>\n",
       "      <td>-0.39934</td>\n",
       "      <td>0.39934</td>\n",
       "    </tr>\n",
       "    <tr>\n",
       "      <th>6</th>\n",
       "      <td>Linear Regression</td>\n",
       "      <td>h_recall</td>\n",
       "      <td>-0.046291</td>\n",
       "      <td>0.046291</td>\n",
       "    </tr>\n",
       "    <tr>\n",
       "      <th>9</th>\n",
       "      <td>Linear Regression</td>\n",
       "      <td>avg_h_recall</td>\n",
       "      <td>0.034023</td>\n",
       "      <td>0.034023</td>\n",
       "    </tr>\n",
       "    <tr>\n",
       "      <th>0</th>\n",
       "      <td>Linear Regression</td>\n",
       "      <td>tags_list (overall)</td>\n",
       "      <td>0.016685</td>\n",
       "      <td>0.016685</td>\n",
       "    </tr>\n",
       "    <tr>\n",
       "      <th>...</th>\n",
       "      <td>...</td>\n",
       "      <td>...</td>\n",
       "      <td>...</td>\n",
       "      <td>...</td>\n",
       "    </tr>\n",
       "    <tr>\n",
       "      <th>121</th>\n",
       "      <td>Linear Regression</td>\n",
       "      <td>tags_list_['vbhaver', 'pri', 'p1', 'sg']</td>\n",
       "      <td>0.000007</td>\n",
       "      <td>0.000007</td>\n",
       "    </tr>\n",
       "    <tr>\n",
       "      <th>170</th>\n",
       "      <td>Linear Regression</td>\n",
       "      <td>lang_combination_en-de</td>\n",
       "      <td>0.000006</td>\n",
       "      <td>0.000006</td>\n",
       "    </tr>\n",
       "    <tr>\n",
       "      <th>64</th>\n",
       "      <td>Linear Regression</td>\n",
       "      <td>tags_list_['n', 'mf', 'sg']</td>\n",
       "      <td>-0.000004</td>\n",
       "      <td>0.000004</td>\n",
       "    </tr>\n",
       "    <tr>\n",
       "      <th>92</th>\n",
       "      <td>Linear Regression</td>\n",
       "      <td>tags_list_['prn', 'm', 'sp']</td>\n",
       "      <td>-0.0</td>\n",
       "      <td>0.0</td>\n",
       "    </tr>\n",
       "    <tr>\n",
       "      <th>49</th>\n",
       "      <td>Linear Regression</td>\n",
       "      <td>tags_list_['det', 'sp']</td>\n",
       "      <td>-0.0</td>\n",
       "      <td>0.0</td>\n",
       "    </tr>\n",
       "  </tbody>\n",
       "</table>\n",
       "<p>178 rows × 4 columns</p>\n",
       "</div>"
      ],
      "text/plain": [
       "                 Model                                   Feature Importance  \\\n",
       "5    Linear Regression                           history_correct   0.410323   \n",
       "4    Linear Regression                              history_seen   -0.39934   \n",
       "6    Linear Regression                                  h_recall  -0.046291   \n",
       "9    Linear Regression                              avg_h_recall   0.034023   \n",
       "0    Linear Regression                       tags_list (overall)   0.016685   \n",
       "..                 ...                                       ...        ...   \n",
       "121  Linear Regression  tags_list_['vbhaver', 'pri', 'p1', 'sg']   0.000007   \n",
       "170  Linear Regression                    lang_combination_en-de   0.000006   \n",
       "64   Linear Regression               tags_list_['n', 'mf', 'sg']  -0.000004   \n",
       "92   Linear Regression              tags_list_['prn', 'm', 'sp']       -0.0   \n",
       "49   Linear Regression                   tags_list_['det', 'sp']       -0.0   \n",
       "\n",
       "    Absolute_Val  \n",
       "5       0.410323  \n",
       "4        0.39934  \n",
       "6       0.046291  \n",
       "9       0.034023  \n",
       "0       0.016685  \n",
       "..           ...  \n",
       "121     0.000007  \n",
       "170     0.000006  \n",
       "64      0.000004  \n",
       "92           0.0  \n",
       "49           0.0  \n",
       "\n",
       "[178 rows x 4 columns]"
      ]
     },
     "execution_count": 88,
     "metadata": {},
     "output_type": "execute_result"
    }
   ],
   "source": [
    "importance_df"
   ]
  },
  {
   "cell_type": "code",
   "execution_count": 93,
   "id": "91a47e09-55a2-4b2d-90ae-8b0a0d15096f",
   "metadata": {},
   "outputs": [
    {
     "data": {
      "text/plain": [
       "<Axes: >"
      ]
     },
     "execution_count": 93,
     "metadata": {},
     "output_type": "execute_result"
    },
    {
     "data": {
      "image/png": "[encoded data removed]",
      "text/plain": [
       "<Figure size 640x480 with 1 Axes>"
      ]
     },
     "metadata": {},
     "output_type": "display_data"
    }
   ],
   "source": [
    "# Examine residuals \n",
    "full_df_all['diff'] = full_df_all['p_recall'] - full_df_all['predictions']\n",
    "full_df_all['diff'].hist()\n"
   ]
  },
  {
   "cell_type": "code",
   "execution_count": 90,
   "id": "e281a200-3b32-4c4f-8be7-241ce47490c2",
   "metadata": {},
   "outputs": [
    {
     "data": {
      "image/png": "[encoded data removed]",
      "text/plain": [
       "<Figure size 640x480 with 1 Axes>"
      ]
     },
     "metadata": {},
     "output_type": "display_data"
    }
   ],
   "source": [
    "# Predictions vs actual recall probabilities \n",
    "plt.scatter(full_df_all['p_recall'], full_df_all['predictions'], alpha=0.5)\n",
    "plt.plot([0, 1], [0, 1], color=\"red\", linestyle=\"--\")\n",
    "plt.xlabel(\"Actual Recall Probability\")\n",
    "plt.ylabel(\"Predicted Recall Probability\")\n",
    "plt.title(\"Predicted vs. Actual Recall Probability\")\n",
    "plt.show()"
   ]
  }
 ],
 "metadata": {
  "kernelspec": {
   "display_name": "Python 3 (ipykernel)",
   "language": "python",
   "name": "python3"
  },
  "language_info": {
   "codemirror_mode": {
    "name": "ipython",
    "version": 3
   },
   "file_extension": ".py",
   "mimetype": "text/x-python",
   "name": "python",
   "nbconvert_exporter": "python",
   "pygments_lexer": "ipython3",
   "version": "3.12.3"
  }
 },
 "nbformat": 4,
 "nbformat_minor": 5
}

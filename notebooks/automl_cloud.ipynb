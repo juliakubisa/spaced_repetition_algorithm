{
 "cells": [
  {
   "cell_type": "code",
   "execution_count": 24,
   "id": "ca18c889-6be2-4959-a879-ae91428a64dd",
   "metadata": {},
   "outputs": [],
   "source": [
    "from autogluon.tabular import TabularDataset, TabularPredictor\n",
    "import os\n",
    "import numpy as np\n",
    "import pandas as pd\n",
    "import tarfile\n",
    "\n",
    "\n",
    "# Cloud\n",
    "import sagemaker\n",
    "from sagemaker.inputs import TrainingInput\n",
    "from sagemaker.estimator import Estimator\n",
    "from sagemaker import get_execution_role\n",
    "from autogluon.tabular import TabularPredictor\n",
    "\n",
    "%run diagnostics.ipynb"
   ]
  },
  {
   "cell_type": "code",
   "execution_count": null,
   "id": "e6525165-a413-4593-ab5e-a37246da7c5f",
   "metadata": {},
   "outputs": [],
   "source": [
    "region = sagemaker.Session().boto_region_name\n",
    "sess = sagemaker.Session()\n",
    "role = get_execution_role()\n",
    "bucket = sess.default_bucket()\n",
    "prefix = 'automl-spaced-repetition'"
   ]
  },
  {
   "cell_type": "code",
   "execution_count": 25,
   "id": "5de5c32c-b092-4428-ba84-7f0e9dc4eec8",
   "metadata": {},
   "outputs": [],
   "source": [
    "train_data_s = pd.read_csv(os.path.normpath(os.path.join(os.getcwd(), '../data/processed/train_data.csv')))\n",
    "test_data_s = pd.read_csv(os.path.normpath(os.path.join(os.getcwd(), '../data/processed/test_data.csv')))\n",
    "\n",
    "train_data = train_data_s.drop(columns=['session_seen', 'session_correct'])\n",
    "test_data = test_data_s.drop(columns=['session_seen', 'session_correct'])"
   ]
  },
  {
   "cell_type": "code",
   "execution_count": 26,
   "id": "8509ffa0-0498-45a4-a391-85258d8d15ba",
   "metadata": {},
   "outputs": [],
   "source": [
    "# - LEX \n",
    "# train_data.drop(columns=['tags_list', 'word_len'], inplace=True)\n",
    "# test_data.drop(columns=['tags_list', 'word_len'], inplace=True)\n",
    "\n",
    "# - LEX - U \n",
    "train_data.drop(columns=['tags_list', 'word_len', 'avg_delta', 'std_delta', 'avg_h_recall'], inplace=True)\n",
    "test_data.drop(columns=['tags_list', 'word_len', 'avg_delta', 'std_delta', 'avg_h_recall'], inplace=True)\n",
    "\n",
    "label = 'p_recall'\n",
    "\n",
    "train_file = 'train_data_for_sagemaker.csv'\n",
    "train_data.to_csv(train_file, index=False)"
   ]
  },
  {
   "cell_type": "code",
   "execution_count": null,
   "id": "f3266cc8-e224-4a74-b83e-6251bf18e152",
   "metadata": {},
   "outputs": [],
   "source": [
    "train_s3_path = f's3://{bucket}/{prefix}/train/{train_file}'\n",
    "s3 = boto3.client('s3')\n",
    "s3.upload_file(train_file, bucket, f'{prefix}/train/{train_file}')"
   ]
  },
  {
   "cell_type": "code",
   "execution_count": null,
   "id": "998c6b05-faad-42af-b0ad-07619fadd243",
   "metadata": {},
   "outputs": [],
   "source": [
    "auto_ml_estimator = Estimator(\n",
    "    image_uri=sagemaker.image_uris.retrieve('autogluon', sess.boto_region_name, version='0.8'),\n",
    "    role=role,\n",
    "    instance_count=1,\n",
    "    instance_type='ml.m5.large',\n",
    "    output_path=f's3://{bucket}/{prefix}/output',\n",
    "    base_job_name='autogluon-job',\n",
    "    sagemaker_session=sess,\n",
    "    hyperparameters={\n",
    "        'target': label,\n",
    "        'presets': 'best_quality',\n",
    "        'problem_type': 'regression',\n",
    "        # 'excluded_model_types': 'NeuralNetTorch,NeuralNetFastAI,KNeighborsDist,KNeighborsUnif,LightGBM,LightGBMXT,RandomForestMSE',\n",
    "        # 'included_model_types': 'XGBoost',\n",
    "        'auto_stack': 'False',\n",
    "        'save_space': 'True'\n",
    "    }\n",
    ")\n",
    "\n",
    "auto_ml_estimator.fit({'train': TrainingInput(train_s3_path, content_type='csv')})"
   ]
  },
  {
   "cell_type": "code",
   "execution_count": null,
   "id": "a7aa73a5-2766-4451-9b95-f4a57a0131e1",
   "metadata": {},
   "outputs": [],
   "source": [
    "model_path = 'AutoML_Spaced_Repetition'"
   ]
  },
  {
   "cell_type": "code",
   "execution_count": null,
   "id": "0b3e0a31-558a-4aa0-9994-4ec53c5efaff",
   "metadata": {},
   "outputs": [],
   "source": [
    "model_artifact = auto_ml_estimator.model_data\n",
    "s3.download_file(bucket, model_artifact.replace(f's3://{bucket}/', ''), 'model.tar.gz')\n"
   ]
  },
  {
   "cell_type": "code",
   "execution_count": null,
   "id": "dcc57c04-9b15-4b73-a7fe-5e00a1f9c0ab",
   "metadata": {},
   "outputs": [],
   "source": [
    "import tarfile\n",
    "with tarfile.open('model.tar.gz') as tar:\n",
    "    tar.extractall(path=model_path)"
   ]
  },
  {
   "cell_type": "code",
   "execution_count": null,
   "id": "9f26c5e5-a2a1-43cc-a9e9-d57b13193feb",
   "metadata": {},
   "outputs": [],
   "source": [
    "predictor = TabularPredictor.load(model_path)"
   ]
  },
  {
   "cell_type": "code",
   "execution_count": 32,
   "id": "d0b08ef7-e4c0-4ea4-b8eb-3b598538777f",
   "metadata": {},
   "outputs": [
    {
     "name": "stdout",
     "output_type": "stream",
     "text": [
      "best model: WeightedEnsemble_L2\n"
     ]
    }
   ],
   "source": [
    "print('best model:', predictor.model_best)"
   ]
  },
  {
   "cell_type": "code",
   "execution_count": 33,
   "id": "cd44b48d-7df9-4408-91fa-6b97aea9131e",
   "metadata": {},
   "outputs": [
    {
     "data": {
      "text/html": [
       "<div>\n",
       "<style scoped>\n",
       "    .dataframe tbody tr th:only-of-type {\n",
       "        vertical-align: middle;\n",
       "    }\n",
       "\n",
       "    .dataframe tbody tr th {\n",
       "        vertical-align: top;\n",
       "    }\n",
       "\n",
       "    .dataframe thead th {\n",
       "        text-align: right;\n",
       "    }\n",
       "</style>\n",
       "<table border=\"1\" class=\"dataframe\">\n",
       "  <thead>\n",
       "    <tr style=\"text-align: right;\">\n",
       "      <th></th>\n",
       "      <th>model</th>\n",
       "      <th>score_val</th>\n",
       "      <th>eval_metric</th>\n",
       "      <th>pred_time_val</th>\n",
       "      <th>fit_time</th>\n",
       "      <th>pred_time_val_marginal</th>\n",
       "      <th>fit_time_marginal</th>\n",
       "      <th>stack_level</th>\n",
       "      <th>can_infer</th>\n",
       "      <th>fit_order</th>\n",
       "    </tr>\n",
       "  </thead>\n",
       "  <tbody>\n",
       "    <tr>\n",
       "      <th>0</th>\n",
       "      <td>XGBoost</td>\n",
       "      <td>-0.264324</td>\n",
       "      <td>root_mean_squared_error</td>\n",
       "      <td>1.180075</td>\n",
       "      <td>227.658684</td>\n",
       "      <td>1.180075</td>\n",
       "      <td>227.658684</td>\n",
       "      <td>1</td>\n",
       "      <td>True</td>\n",
       "      <td>1</td>\n",
       "    </tr>\n",
       "    <tr>\n",
       "      <th>1</th>\n",
       "      <td>WeightedEnsemble_L2</td>\n",
       "      <td>-0.264324</td>\n",
       "      <td>root_mean_squared_error</td>\n",
       "      <td>1.181109</td>\n",
       "      <td>227.661183</td>\n",
       "      <td>0.001034</td>\n",
       "      <td>0.002499</td>\n",
       "      <td>2</td>\n",
       "      <td>True</td>\n",
       "      <td>2</td>\n",
       "    </tr>\n",
       "  </tbody>\n",
       "</table>\n",
       "</div>"
      ],
      "text/plain": [
       "                 model  score_val              eval_metric  pred_time_val  \\\n",
       "0              XGBoost  -0.264324  root_mean_squared_error       1.180075   \n",
       "1  WeightedEnsemble_L2  -0.264324  root_mean_squared_error       1.181109   \n",
       "\n",
       "     fit_time  pred_time_val_marginal  fit_time_marginal  stack_level  \\\n",
       "0  227.658684                1.180075         227.658684            1   \n",
       "1  227.661183                0.001034           0.002499            2   \n",
       "\n",
       "   can_infer  fit_order  \n",
       "0       True          1  \n",
       "1       True          2  "
      ]
     },
     "execution_count": 33,
     "metadata": {},
     "output_type": "execute_result"
    }
   ],
   "source": [
    "predictor.leaderboard()"
   ]
  },
  {
   "cell_type": "code",
   "execution_count": 34,
   "id": "1e43a854-9965-4796-ba02-2f7a69a99a7e",
   "metadata": {},
   "outputs": [],
   "source": [
    "models = predictor.model_names()"
   ]
  },
  {
   "cell_type": "code",
   "execution_count": 35,
   "id": "71ed2346-dfd1-4335-9eb2-da99ab1dfac3",
   "metadata": {},
   "outputs": [],
   "source": [
    "from sklearn.metrics import mean_absolute_error"
   ]
  },
  {
   "cell_type": "code",
   "execution_count": 36,
   "id": "16b54532-9618-43c8-84c1-e8b7f4d40697",
   "metadata": {},
   "outputs": [
    {
     "name": "stdout",
     "output_type": "stream",
     "text": [
      "Model: XGBoost, MAE: 0.1665\n",
      "Model: WeightedEnsemble_L2, MAE: 0.1665\n"
     ]
    }
   ],
   "source": [
    "for i in range(len(models)):\n",
    "    y_pred = predictor.predict(test_data.drop(columns=[label]), model=models[i])\n",
    "    y_pred = cap_y(y_pred)\n",
    "    y_test = test_data['p_recall']\n",
    "    mae = mean_absolute_error(y_test, y_pred)\n",
    "    \n",
    "    print(f\"Model: {models[i]}, MAE: {mae:.4f}\")\n",
    "    "
   ]
  },
  {
   "cell_type": "code",
   "execution_count": 37,
   "id": "5d098c32-d087-4de7-983b-2054c95d363a",
   "metadata": {},
   "outputs": [
    {
     "data": {
      "text/html": [
       "<div>\n",
       "<style scoped>\n",
       "    .dataframe tbody tr th:only-of-type {\n",
       "        vertical-align: middle;\n",
       "    }\n",
       "\n",
       "    .dataframe tbody tr th {\n",
       "        vertical-align: top;\n",
       "    }\n",
       "\n",
       "    .dataframe thead th {\n",
       "        text-align: right;\n",
       "    }\n",
       "</style>\n",
       "<table border=\"1\" class=\"dataframe\">\n",
       "  <thead>\n",
       "    <tr style=\"text-align: right;\">\n",
       "      <th></th>\n",
       "      <th>y_test</th>\n",
       "      <th>y_pred</th>\n",
       "      <th>session_seen</th>\n",
       "      <th>session_correct</th>\n",
       "    </tr>\n",
       "  </thead>\n",
       "  <tbody>\n",
       "    <tr>\n",
       "      <th>0</th>\n",
       "      <td>1.000000</td>\n",
       "      <td>0.911987</td>\n",
       "      <td>1</td>\n",
       "      <td>1</td>\n",
       "    </tr>\n",
       "    <tr>\n",
       "      <th>1</th>\n",
       "      <td>0.857143</td>\n",
       "      <td>0.853847</td>\n",
       "      <td>7</td>\n",
       "      <td>6</td>\n",
       "    </tr>\n",
       "    <tr>\n",
       "      <th>2</th>\n",
       "      <td>0.875000</td>\n",
       "      <td>0.869030</td>\n",
       "      <td>8</td>\n",
       "      <td>7</td>\n",
       "    </tr>\n",
       "    <tr>\n",
       "      <th>3</th>\n",
       "      <td>1.000000</td>\n",
       "      <td>0.893905</td>\n",
       "      <td>1</td>\n",
       "      <td>1</td>\n",
       "    </tr>\n",
       "    <tr>\n",
       "      <th>4</th>\n",
       "      <td>1.000000</td>\n",
       "      <td>0.918437</td>\n",
       "      <td>2</td>\n",
       "      <td>2</td>\n",
       "    </tr>\n",
       "  </tbody>\n",
       "</table>\n",
       "</div>"
      ],
      "text/plain": [
       "     y_test    y_pred  session_seen  session_correct\n",
       "0  1.000000  0.911987             1                1\n",
       "1  0.857143  0.853847             7                6\n",
       "2  0.875000  0.869030             8                7\n",
       "3  1.000000  0.893905             1                1\n",
       "4  1.000000  0.918437             2                2"
      ]
     },
     "execution_count": 37,
     "metadata": {},
     "output_type": "execute_result"
    }
   ],
   "source": [
    "results_df = pd.DataFrame({'y_test':y_test, 'y_pred':y_pred, 'session_seen':test_data_s['session_seen'], \n",
    "                          'session_correct':test_data_s['session_correct']})\n",
    "results_df.head()"
   ]
  },
  {
   "cell_type": "code",
   "execution_count": 38,
   "id": "9d1aeaa0-811b-43b2-a452-5f6c1b6f09d8",
   "metadata": {},
   "outputs": [
    {
     "name": "stdout",
     "output_type": "stream",
     "text": [
      "mae: 0.16648104458048768\n"
     ]
    }
   ],
   "source": [
    "print('mae:', (results_df['y_test'] - results_df['y_pred']).abs().mean())"
   ]
  },
  {
   "cell_type": "code",
   "execution_count": 39,
   "id": "c0d546a7-3497-4115-a5d0-b8676e7cd520",
   "metadata": {},
   "outputs": [
    {
     "data": {
      "text/plain": [
       "{'root_mean_squared_error': -0.2654613725829721,\n",
       " 'mean_squared_error': -0.07046974033363552,\n",
       " 'mean_absolute_error': -0.1664857215812197,\n",
       " 'r2': 0.03468691589208839,\n",
       " 'pearsonr': 0.1862517955018118,\n",
       " 'median_absolute_error': -0.10053771734237671}"
      ]
     },
     "execution_count": 39,
     "metadata": {},
     "output_type": "execute_result"
    }
   ],
   "source": [
    "predictor.evaluate(test_data, silent=True)"
   ]
  },
  {
   "cell_type": "code",
   "execution_count": 40,
   "id": "d052c279-fe12-4601-bd4b-48e1dd064162",
   "metadata": {
    "scrolled": true
   },
   "outputs": [
    {
     "data": {
      "text/plain": [
       "{'path': '/Users/julkakubisa/Documents/PRACA MAGISTERSKA/spaced_repetition_algorithms/notebooks/AutogluonModels/ag-20250711_144511',\n",
       " 'label': 'p_recall',\n",
       " 'random_state': 0,\n",
       " 'version': '1.2',\n",
       " 'features': ['Unnamed: 0',\n",
       "  'SUBTLEX',\n",
       "  'delta',\n",
       "  'history_seen',\n",
       "  'history_correct',\n",
       "  'h_recall',\n",
       "  'lang_combination'],\n",
       " 'feature_metadata_in': <autogluon.common.features.feature_metadata.FeatureMetadata at 0x32a562ed0>,\n",
       " 'time_fit_preprocessing': 8.0028076171875,\n",
       " 'time_fit_training': 229.56761598587036,\n",
       " 'time_fit_total': 237.57042360305786,\n",
       " 'time_limit': None,\n",
       " 'time_train_start': 1752245120.008895,\n",
       " 'num_rows_train': 9904079,\n",
       " 'num_cols_train': 7,\n",
       " 'num_rows_val': 100042,\n",
       " 'num_rows_test': None,\n",
       " 'num_classes': None,\n",
       " 'problem_type': 'regression',\n",
       " 'eval_metric': 'root_mean_squared_error',\n",
       " 'best_model': 'WeightedEnsemble_L2',\n",
       " 'best_model_score_val': -0.26432437553209986,\n",
       " 'best_model_stack_level': 2,\n",
       " 'num_models_trained': 2,\n",
       " 'num_bag_folds': 0,\n",
       " 'max_stack_level': 2,\n",
       " 'max_core_stack_level': 1,\n",
       " 'model_info': {'XGBoost': {'name': 'XGBoost',\n",
       "   'model_type': 'XGBoostModel',\n",
       "   'problem_type': 'regression',\n",
       "   'eval_metric': 'root_mean_squared_error',\n",
       "   'stopping_metric': 'root_mean_squared_error',\n",
       "   'fit_time': 227.65868401527405,\n",
       "   'num_classes': None,\n",
       "   'quantile_levels': None,\n",
       "   'predict_time': 1.1800751686096191,\n",
       "   'val_score': -0.26432437553209986,\n",
       "   'hyperparameters': {'n_estimators': 10000,\n",
       "    'learning_rate': 0.1,\n",
       "    'n_jobs': -1,\n",
       "    'proc.max_category_levels': 100,\n",
       "    'objective': 'reg:squarederror',\n",
       "    'booster': 'gbtree'},\n",
       "   'hyperparameters_fit': {'n_estimators': 2163},\n",
       "   'hyperparameters_nondefault': [],\n",
       "   'ag_args_fit': {'max_memory_usage_ratio': 1.0,\n",
       "    'max_time_limit_ratio': 1.0,\n",
       "    'max_time_limit': None,\n",
       "    'min_time_limit': 0,\n",
       "    'valid_raw_types': ['bool', 'int', 'float', 'category'],\n",
       "    'valid_special_types': None,\n",
       "    'ignored_type_group_special': None,\n",
       "    'ignored_type_group_raw': None,\n",
       "    'get_features_kwargs': None,\n",
       "    'get_features_kwargs_extra': None,\n",
       "    'predict_1_batch_size': None,\n",
       "    'temperature_scalar': None},\n",
       "   'num_features': 7,\n",
       "   'features': ['Unnamed: 0',\n",
       "    'SUBTLEX',\n",
       "    'delta',\n",
       "    'history_seen',\n",
       "    'history_correct',\n",
       "    'h_recall',\n",
       "    'lang_combination'],\n",
       "   'feature_metadata': <autogluon.common.features.feature_metadata.FeatureMetadata at 0x32a309850>,\n",
       "   'memory_size': 13737822,\n",
       "   'compile_time': None,\n",
       "   'is_initialized': True,\n",
       "   'is_fit': True,\n",
       "   'is_valid': True,\n",
       "   'can_infer': True,\n",
       "   'has_learning_curves': False,\n",
       "   'val_in_fit': True,\n",
       "   'unlabeled_in_fit': False,\n",
       "   'num_cpus': 11,\n",
       "   'num_gpus': 0},\n",
       "  'WeightedEnsemble_L2': {'name': 'WeightedEnsemble_L2',\n",
       "   'model_type': 'WeightedEnsembleModel',\n",
       "   'problem_type': 'regression',\n",
       "   'eval_metric': 'root_mean_squared_error',\n",
       "   'stopping_metric': 'root_mean_squared_error',\n",
       "   'fit_time': 0.002499103546142578,\n",
       "   'num_classes': None,\n",
       "   'quantile_levels': None,\n",
       "   'predict_time': 0.0010340213775634766,\n",
       "   'val_score': -0.26432437553209986,\n",
       "   'hyperparameters': {'use_orig_features': False,\n",
       "    'valid_stacker': True,\n",
       "    'max_base_models': 0,\n",
       "    'max_base_models_per_type': 'auto',\n",
       "    'save_bag_folds': True},\n",
       "   'hyperparameters_fit': {},\n",
       "   'hyperparameters_nondefault': ['save_bag_folds'],\n",
       "   'ag_args_fit': {'max_memory_usage_ratio': 1.0,\n",
       "    'max_time_limit_ratio': 1.0,\n",
       "    'max_time_limit': None,\n",
       "    'min_time_limit': 0,\n",
       "    'valid_raw_types': None,\n",
       "    'valid_special_types': None,\n",
       "    'ignored_type_group_special': None,\n",
       "    'ignored_type_group_raw': None,\n",
       "    'get_features_kwargs': None,\n",
       "    'get_features_kwargs_extra': None,\n",
       "    'predict_1_batch_size': None,\n",
       "    'temperature_scalar': None,\n",
       "    'drop_unique': False},\n",
       "   'num_features': 1,\n",
       "   'features': ['XGBoost'],\n",
       "   'feature_metadata': <autogluon.common.features.feature_metadata.FeatureMetadata at 0x32d649070>,\n",
       "   'memory_size': 2913,\n",
       "   'compile_time': None,\n",
       "   'is_initialized': True,\n",
       "   'is_fit': True,\n",
       "   'is_valid': True,\n",
       "   'can_infer': True,\n",
       "   'has_learning_curves': False,\n",
       "   'val_in_fit': False,\n",
       "   'unlabeled_in_fit': False,\n",
       "   'num_cpus': 11,\n",
       "   'num_gpus': 0,\n",
       "   'bagged_info': {'child_model_type': 'GreedyWeightedEnsembleModel',\n",
       "    'num_child_models': 1,\n",
       "    'child_model_names': ['S1F1'],\n",
       "    '_n_repeats': 1,\n",
       "    '_k_per_n_repeat': [1],\n",
       "    '_random_state': 2,\n",
       "    'low_memory': False,\n",
       "    'bagged_mode': False,\n",
       "    'max_memory_size': 2913,\n",
       "    'min_memory_size': 2913,\n",
       "    'child_hyperparameters': {'ensemble_size': 25, 'subsample_size': 1000000},\n",
       "    'child_hyperparameters_fit': {'ensemble_size': 1},\n",
       "    'child_ag_args_fit': {'max_memory_usage_ratio': 1.0,\n",
       "     'max_time_limit_ratio': 1.0,\n",
       "     'max_time_limit': None,\n",
       "     'min_time_limit': 0,\n",
       "     'valid_raw_types': None,\n",
       "     'valid_special_types': None,\n",
       "     'ignored_type_group_special': None,\n",
       "     'ignored_type_group_raw': None,\n",
       "     'get_features_kwargs': None,\n",
       "     'get_features_kwargs_extra': None,\n",
       "     'predict_1_batch_size': None,\n",
       "     'temperature_scalar': None,\n",
       "     'drop_unique': False}},\n",
       "   'stacker_info': {'num_base_models': 1, 'base_model_names': ['XGBoost']},\n",
       "   'children_info': {'S1F1': {'name': 'S1F1',\n",
       "     'model_type': 'GreedyWeightedEnsembleModel',\n",
       "     'problem_type': 'regression',\n",
       "     'eval_metric': 'root_mean_squared_error',\n",
       "     'stopping_metric': 'root_mean_squared_error',\n",
       "     'fit_time': 0.002499103546142578,\n",
       "     'num_classes': None,\n",
       "     'quantile_levels': None,\n",
       "     'predict_time': None,\n",
       "     'val_score': None,\n",
       "     'hyperparameters': {'ensemble_size': 25, 'subsample_size': 1000000},\n",
       "     'hyperparameters_fit': {'ensemble_size': 1},\n",
       "     'hyperparameters_nondefault': [],\n",
       "     'ag_args_fit': {'max_memory_usage_ratio': 1.0,\n",
       "      'max_time_limit_ratio': 1.0,\n",
       "      'max_time_limit': None,\n",
       "      'min_time_limit': 0,\n",
       "      'valid_raw_types': None,\n",
       "      'valid_special_types': None,\n",
       "      'ignored_type_group_special': None,\n",
       "      'ignored_type_group_raw': None,\n",
       "      'get_features_kwargs': None,\n",
       "      'get_features_kwargs_extra': None,\n",
       "      'predict_1_batch_size': None,\n",
       "      'temperature_scalar': None,\n",
       "      'drop_unique': False},\n",
       "     'num_features': 1,\n",
       "     'features': ['XGBoost'],\n",
       "     'feature_metadata': <autogluon.common.features.feature_metadata.FeatureMetadata at 0x32b8cc380>,\n",
       "     'memory_size': 5196,\n",
       "     'compile_time': None,\n",
       "     'is_initialized': True,\n",
       "     'is_fit': True,\n",
       "     'is_valid': True,\n",
       "     'can_infer': True,\n",
       "     'has_learning_curves': False,\n",
       "     'val_in_fit': False,\n",
       "     'unlabeled_in_fit': False,\n",
       "     'num_cpus': 11,\n",
       "     'num_gpus': 0,\n",
       "     'model_weights': {'XGBoost': 1.0}}}}},\n",
       " 'model_info_failures': {}}"
      ]
     },
     "execution_count": 40,
     "metadata": {},
     "output_type": "execute_result"
    }
   ],
   "source": [
    "predictor.info()"
   ]
  },
  {
   "cell_type": "code",
   "execution_count": 41,
   "id": "f3eeb298-c9b1-4915-8c32-d6396537fd5d",
   "metadata": {},
   "outputs": [
    {
     "data": {
      "text/plain": [
       "Text(0.5, 1.0, 'Predicted vs. Actual Recall Probability')"
      ]
     },
     "execution_count": 41,
     "metadata": {},
     "output_type": "execute_result"
    },
    {
     "data": {
      "image/png": "[encoded data removed]",
      "text/plain": [
       "<Figure size 640x480 with 1 Axes>"
      ]
     },
     "metadata": {},
     "output_type": "display_data"
    }
   ],
   "source": [
    "import matplotlib.pyplot as plt\n",
    "\n",
    "predictions_scatterplot = plt.scatter(y_test, y_pred, alpha=0.5)\n",
    "plt.plot([0, 1], [0, 1], color=\"red\", linestyle=\"--\")\n",
    "plt.xlabel(\"Actual Recall Probability\")\n",
    "plt.ylabel(\"Predicted Recall Probability\")\n",
    "plt.title(\"Predicted vs. Actual Recall Probability\")"
   ]
  },
  {
   "cell_type": "code",
   "execution_count": null,
   "id": "f745483b-1107-44d5-8794-3576adb46f33",
   "metadata": {},
   "outputs": [],
   "source": [
    "pd.set_option('display.float_format', lambda x: '%.5f' % x)\n",
    "results_df.describe()"
   ]
  },
  {
   "cell_type": "code",
   "execution_count": null,
   "id": "b56152a0-922d-4b02-bd38-c8e8cfa3e1a1",
   "metadata": {
    "scrolled": true
   },
   "outputs": [],
   "source": [
    "results = predictor.fit_summary()\n",
    "results[\"leaderboard\"]"
   ]
  },
  {
   "cell_type": "code",
   "execution_count": null,
   "id": "e5225155-9446-4740-a687-835bf2c45af4",
   "metadata": {},
   "outputs": [],
   "source": [
    "predictor.leaderboard(test_data)"
   ]
  },
  {
   "cell_type": "code",
   "execution_count": null,
   "id": "b875912b-ab20-434d-83b6-f7e139095f42",
   "metadata": {},
   "outputs": [],
   "source": [
    "predictor.feature_importance(test_data)"
   ]
  },
  {
   "cell_type": "code",
   "execution_count": 42,
   "id": "b1e8145c-17d8-4c5b-a9a8-2993b8846953",
   "metadata": {},
   "outputs": [],
   "source": [
    "expanded_df = results_df.loc[results_df.index.repeat(results_df[\"session_seen\"])].reset_index(drop=True)\n",
    "expanded_df[\"outcome\"] = np.concatenate([\n",
    "    np.concatenate([np.ones(int(c)), np.zeros(int(s - c))])  # c correct, (s-c) incorrect\n",
    "    for s, c in zip(results_df[\"session_seen\"], results_df[\"session_correct\"])\n",
    "])"
   ]
  },
  {
   "cell_type": "code",
   "execution_count": null,
   "id": "aa121328-c2a8-49d7-8d3b-8df27a6fd181",
   "metadata": {},
   "outputs": [],
   "source": [
    "expanded_df.head()"
   ]
  },
  {
   "cell_type": "code",
   "execution_count": null,
   "id": "64c20b6d-daa7-4b2e-a271-ce3f9d25b31a",
   "metadata": {},
   "outputs": [],
   "source": [
    "xgboost = expanded_df.drop(columns=['session_seen', 'session_correct'])\n",
    "\n",
    "current_dir = os.getcwd()\n",
    "\n",
    "\n",
    "filepath = os.path.normpath(os.path.join(current_dir, '../results/'))\n",
    "xgboost.to_csv(os.path.join(filepath, 'xgboost.csv'), sep='\\t', index=False, header=True)"
   ]
  },
  {
   "cell_type": "code",
   "execution_count": null,
   "id": "18b012cb-3d23-4f3c-af3e-72a070dbfa7f",
   "metadata": {},
   "outputs": [],
   "source": [
    "plot_calibration(expanded_df['outcome'], expanded_df['y_pred'], 'BetterXGB_calibration_plot.png')"
   ]
  },
  {
   "cell_type": "code",
   "execution_count": 43,
   "id": "a2443229-bf58-4255-810b-37d8b4c4818c",
   "metadata": {},
   "outputs": [],
   "source": [
    "%run diagnostics.ipynb\n",
    "import matplotlib.pyplot as plt"
   ]
  },
  {
   "cell_type": "code",
   "execution_count": 44,
   "id": "1f4c054e-9c28-48ff-9838-802da8d00da5",
   "metadata": {},
   "outputs": [
    {
     "name": "stdout",
     "output_type": "stream",
     "text": [
      "AUC Score: 0.6243\n"
     ]
    },
    {
     "ename": "NameError",
     "evalue": "name 'current_dir' is not defined",
     "output_type": "error",
     "traceback": [
      "\u001b[0;31m---------------------------------------------------------------------------\u001b[0m",
      "\u001b[0;31mNameError\u001b[0m                                 Traceback (most recent call last)",
      "Cell \u001b[0;32mIn[44], line 1\u001b[0m\n\u001b[0;32m----> 1\u001b[0m \u001b[43mAUC_ROC\u001b[49m\u001b[43m(\u001b[49m\u001b[43mexpanded_df\u001b[49m\u001b[43m[\u001b[49m\u001b[38;5;124;43m'\u001b[39;49m\u001b[38;5;124;43moutcome\u001b[39;49m\u001b[38;5;124;43m'\u001b[39;49m\u001b[43m]\u001b[49m\u001b[43m,\u001b[49m\u001b[43m \u001b[49m\u001b[43mexpanded_df\u001b[49m\u001b[43m[\u001b[49m\u001b[38;5;124;43m'\u001b[39;49m\u001b[38;5;124;43my_pred\u001b[39;49m\u001b[38;5;124;43m'\u001b[39;49m\u001b[43m]\u001b[49m\u001b[43m,\u001b[49m\u001b[43m \u001b[49m\u001b[38;5;124;43m'\u001b[39;49m\u001b[38;5;124;43mBetterXGB_ROC_plot.png\u001b[39;49m\u001b[38;5;124;43m'\u001b[39;49m\u001b[43m)\u001b[49m\n",
      "File \u001b[0;32m/var/folders/_b/l_819g5924d_y00npn9gt60h0000gn/T/ipykernel_37895/46744959.py:15\u001b[0m, in \u001b[0;36mAUC_ROC\u001b[0;34m(outcome, outcome_prob, filename)\u001b[0m\n\u001b[1;32m     12\u001b[0m plt\u001b[38;5;241m.\u001b[39mgrid()\n\u001b[1;32m     14\u001b[0m \u001b[38;5;28mprint\u001b[39m(\u001b[38;5;124mf\u001b[39m\u001b[38;5;124m\"\u001b[39m\u001b[38;5;124mAUC Score: \u001b[39m\u001b[38;5;132;01m{\u001b[39;00mroc_auc\u001b[38;5;132;01m:\u001b[39;00m\u001b[38;5;124m.4f\u001b[39m\u001b[38;5;132;01m}\u001b[39;00m\u001b[38;5;124m\"\u001b[39m)\n\u001b[0;32m---> 15\u001b[0m plt\u001b[38;5;241m.\u001b[39msavefig(\u001b[43mout_filepath\u001b[49m\u001b[43m(\u001b[49m\u001b[43mfilename\u001b[49m\u001b[43m)\u001b[49m)\n",
      "File \u001b[0;32m/var/folders/_b/l_819g5924d_y00npn9gt60h0000gn/T/ipykernel_37895/1063489140.py:2\u001b[0m, in \u001b[0;36mout_filepath\u001b[0;34m(filename)\u001b[0m\n\u001b[1;32m      1\u001b[0m \u001b[38;5;28;01mdef\u001b[39;00m\u001b[38;5;250m \u001b[39m\u001b[38;5;21mout_filepath\u001b[39m(filename):\n\u001b[0;32m----> 2\u001b[0m     \u001b[38;5;28;01mreturn\u001b[39;00m os\u001b[38;5;241m.\u001b[39mpath\u001b[38;5;241m.\u001b[39mnormpath(os\u001b[38;5;241m.\u001b[39mpath\u001b[38;5;241m.\u001b[39mjoin(\u001b[43mcurrent_dir\u001b[49m, \u001b[38;5;124m'\u001b[39m\u001b[38;5;124m../reports/visualizations\u001b[39m\u001b[38;5;124m'\u001b[39m, filename))\n",
      "\u001b[0;31mNameError\u001b[0m: name 'current_dir' is not defined"
     ]
    },
    {
     "data": {
      "image/png": "[encoded data removed]",
      "text/plain": [
       "<Figure size 600x600 with 1 Axes>"
      ]
     },
     "metadata": {},
     "output_type": "display_data"
    }
   ],
   "source": [
    "AUC_ROC(expanded_df['outcome'], expanded_df['y_pred'], 'BetterXGB_ROC_plot.png')"
   ]
  },
  {
   "cell_type": "code",
   "execution_count": null,
   "id": "e1553f90-700d-49fb-871b-f3d41c02228a",
   "metadata": {},
   "outputs": [],
   "source": [
    "plot_lift(expanded_df, expanded_df['y_pred'], 'BetterXGB_Lift_plot.png')"
   ]
  },
  {
   "cell_type": "code",
   "execution_count": null,
   "id": "61993d7c-e808-4374-836c-77f44914d4bd",
   "metadata": {},
   "outputs": [],
   "source": []
  }
 ],
 "metadata": {
  "kernelspec": {
   "display_name": "Python 3 (ipykernel)",
   "language": "python",
   "name": "python3"
  },
  "language_info": {
   "codemirror_mode": {
    "name": "ipython",
    "version": 3
   },
   "file_extension": ".py",
   "mimetype": "text/x-python",
   "name": "python",
   "nbconvert_exporter": "python",
   "pygments_lexer": "ipython3",
   "version": "3.12.3"
  }
 },
 "nbformat": 4,
 "nbformat_minor": 5
}

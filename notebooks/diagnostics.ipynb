{
 "cells": [
  {
   "cell_type": "code",
   "execution_count": null,
   "id": "d09eb6a9-e27c-4daf-8cc9-51b4a1ce9d37",
   "metadata": {},
   "outputs": [],
   "source": [
    "from sklearn.calibration import calibration_curve\n",
    "from sklearn.metrics import roc_curve, auc"
   ]
  },
  {
   "cell_type": "code",
   "execution_count": null,
   "id": "b5b3018b-8a0d-4d90-9664-77b18aaec12c",
   "metadata": {},
   "outputs": [],
   "source": [
    "def out_filepath(filename):\n",
    "    return os.path.normpath(os.path.join(current_dir, '../reports/visualizations', filename))"
   ]
  },
  {
   "cell_type": "code",
   "execution_count": null,
   "id": "86489884-4ab2-41a6-9dac-a60d5c3194fb",
   "metadata": {},
   "outputs": [],
   "source": [
    "def plot_calibration(outcome, outcome_prob, filename):\n",
    "    prob_true, prob_pred = calibration_curve(outcome, outcome_prob, n_bins=5)\n",
    "    plt.figure(figsize=(6, 6))\n",
    "    plt.plot(prob_pred, prob_true, \"s-\", label=\"Model Calibration\")\n",
    "    plt.plot([0, 1], [0, 1], \"--\", color=\"gray\", label=\"Perfect Calibration\")\n",
    "    plt.xlabel(\"Predicted Probability\")\n",
    "    plt.ylabel(\"Observed Frequency\")\n",
    "    plt.title(\"Calibration Plot\")\n",
    "    plt.legend()\n",
    "    plt.grid()\n",
    "    plt.savefig(out_filepath(filename))"
   ]
  },
  {
   "cell_type": "code",
   "execution_count": null,
   "id": "416602bf-faab-43fa-b200-a156a8b9342e",
   "metadata": {},
   "outputs": [],
   "source": [
    "def AUC_ROC(outcome, outcome_prob, filename):\n",
    "    fpr, tpr, _ = roc_curve(outcome, outcome_prob)\n",
    "    roc_auc = auc(fpr, tpr)\n",
    "    \n",
    "    plt.figure(figsize=(6, 6))\n",
    "    plt.plot(fpr, tpr, label=f\"ROC Curve (AUC = {roc_auc:.2f})\", linewidth=2)\n",
    "    plt.plot([0, 1], [0, 1], \"--\", color=\"gray\", label=\"Random Guess\")\n",
    "    plt.xlabel(\"False Positive Rate\")\n",
    "    plt.ylabel(\"True Positive Rate\")\n",
    "    plt.title(\"ROC Curve\")\n",
    "    plt.legend()\n",
    "    plt.grid()\n",
    "    \n",
    "    print(f\"AUC Score: {roc_auc:.4f}\")\n",
    "    plt.savefig(out_filepath(filename))"
   ]
  },
  {
   "cell_type": "code",
   "execution_count": 3,
   "id": "990b7c81-719d-431d-8249-da5370ada67e",
   "metadata": {},
   "outputs": [],
   "source": [
    "    def plot_lift(df, outcome_prob, filename):\n",
    "        df[\"decile\"] = pd.qcut(outcome_prob, 10, labels=False, duplicates='drop')  # Split into 10 deciles\n",
    "        lift_df = df.groupby(\"decile\")[\"outcome\"].agg([\"mean\", \"count\"])\n",
    "        \n",
    "        baseline_rate = df['outcome'].mean()  # Overall success rate\n",
    "        lift_df[\"lift\"] = lift_df[\"mean\"] / baseline_rate  # Calculate lift\n",
    "        \n",
    "        plt.figure(figsize=(6, 6))\n",
    "        plt.plot(lift_df.index + 1, lift_df[\"lift\"], marker=\"o\", linestyle=\"-\", color=\"b\")\n",
    "        plt.axhline(y=1, color=\"gray\", linestyle=\"--\", label=\"Baseline\")\n",
    "        plt.xlabel(\"Decile (1 = Highest Predictions)\")\n",
    "        plt.ylabel(\"Lift\")\n",
    "        plt.title(\"Lift Chart\")\n",
    "        plt.legend()\n",
    "        plt.grid()\n",
    "        plt.savefig(out_filepath(filename))"
   ]
  },
  {
   "cell_type": "code",
   "execution_count": 1,
   "id": "c451c9af-6647-4680-a90c-465adc2e93f1",
   "metadata": {},
   "outputs": [],
   "source": [
    "def cap_y(prediction): \n",
    "    return np.clip(prediction, 0, 1)"
   ]
  },
  {
   "cell_type": "code",
   "execution_count": null,
   "id": "0098c8be-5057-49b3-87c3-9f0a3ba1be6e",
   "metadata": {},
   "outputs": [],
   "source": []
  }
 ],
 "metadata": {
  "kernelspec": {
   "display_name": "Python 3 (ipykernel)",
   "language": "python",
   "name": "python3"
  },
  "language_info": {
   "codemirror_mode": {
    "name": "ipython",
    "version": 3
   },
   "file_extension": ".py",
   "mimetype": "text/x-python",
   "name": "python",
   "nbconvert_exporter": "python",
   "pygments_lexer": "ipython3",
   "version": "3.12.3"
  }
 },
 "nbformat": 4,
 "nbformat_minor": 5
}

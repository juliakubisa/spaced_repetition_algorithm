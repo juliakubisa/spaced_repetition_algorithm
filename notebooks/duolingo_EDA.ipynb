{
 "cells": [
  {
   "cell_type": "code",
   "execution_count": 13,
   "id": "73e4ff18",
   "metadata": {},
   "outputs": [
    {
     "ename": "Base.Meta.ParseError",
     "evalue": "ParseError:\n# Error @ /Users/julkakubisa/Documents/PRACA MAGISTERSKA/spaced_repetition_algorithms/notebooks/duolingo_EDA.ipynb:1:8\nprint('hello world')\n#      └─────────┘ ── character literal contains multiple characters",
     "output_type": "error",
     "traceback": [
      "ParseError:\n",
      "# Error @ /Users/julkakubisa/Documents/PRACA MAGISTERSKA/spaced_repetition_algorithms/notebooks/duolingo_EDA.ipynb:1:8\n",
      "print('hello world')\n",
      "#      └─────────┘ ── character literal contains multiple characters\n",
      "\n",
      "Stacktrace:\n",
      " [1] top-level scope\n",
      "   @ ~/Documents/PRACA MAGISTERSKA/spaced_repetition_algorithms/notebooks/duolingo_EDA.ipynb:1"
     ]
    }
   ],
   "source": [
    "print('hello world')"
   ]
  },
  {
   "cell_type": "code",
   "execution_count": 10,
   "id": "initial_id",
   "metadata": {},
   "outputs": [
    {
     "ename": "ArgumentError",
     "evalue": "ArgumentError: Package pandas not found in current path.\n- Run `import Pkg; Pkg.add(\"pandas\")` to install the pandas package.",
     "output_type": "error",
     "traceback": [
      "ArgumentError: Package pandas not found in current path.\n",
      "- Run `import Pkg; Pkg.add(\"pandas\")` to install the pandas package.\n",
      "\n",
      "Stacktrace:\n",
      "  [1] macro expansion\n",
      "    @ ./loading.jl:1772 [inlined]\n",
      "  [2] macro expansion\n",
      "    @ ./lock.jl:267 [inlined]\n",
      "  [3] __require(into::Module, mod::Symbol)\n",
      "    @ Base ./loading.jl:1753\n",
      "  [4] #invoke_in_world#3\n",
      "    @ ./essentials.jl:926 [inlined]\n",
      "  [5] invoke_in_world\n",
      "    @ ./essentials.jl:923 [inlined]\n",
      "  [6] require(into::Module, mod::Symbol)\n",
      "    @ Base ./loading.jl:1746\n",
      "  [7] eval\n",
      "    @ ./boot.jl:385 [inlined]\n",
      "  [8] include_string(mapexpr::typeof(REPL.softscope), mod::Module, code::String, filename::String)\n",
      "    @ Base ./loading.jl:2076\n",
      "  [9] #invokelatest#2\n",
      "    @ ./essentials.jl:892 [inlined]\n",
      " [10] invokelatest\n",
      "    @ ./essentials.jl:889 [inlined]\n",
      " [11] (::VSCodeServer.var\"#219#220\"{VSCodeServer.NotebookRunCellArguments, String})()\n",
      "    @ VSCodeServer ~/.vscode/extensions/julialang.language-julia-1.83.2/scripts/packages/VSCodeServer/src/serve_notebook.jl:19\n",
      " [12] withpath(f::VSCodeServer.var\"#219#220\"{VSCodeServer.NotebookRunCellArguments, String}, path::String)\n",
      "    @ VSCodeServer ~/.vscode/extensions/julialang.language-julia-1.83.2/scripts/packages/VSCodeServer/src/repl.jl:276\n",
      " [13] notebook_runcell_request(conn::VSCodeServer.JSONRPC.JSONRPCEndpoint{Base.PipeEndpoint, Base.PipeEndpoint}, params::VSCodeServer.NotebookRunCellArguments)\n",
      "    @ VSCodeServer ~/.vscode/extensions/julialang.language-julia-1.83.2/scripts/packages/VSCodeServer/src/serve_notebook.jl:13\n",
      " [14] dispatch_msg(x::VSCodeServer.JSONRPC.JSONRPCEndpoint{Base.PipeEndpoint, Base.PipeEndpoint}, dispatcher::VSCodeServer.JSONRPC.MsgDispatcher, msg::Dict{String, Any})\n",
      "    @ VSCodeServer.JSONRPC ~/.vscode/extensions/julialang.language-julia-1.83.2/scripts/packages/JSONRPC/src/typed.jl:67\n",
      " [15] serve_notebook(pipename::String, outputchannel_logger::Base.CoreLogging.SimpleLogger; crashreporting_pipename::String)\n",
      "    @ VSCodeServer ~/.vscode/extensions/julialang.language-julia-1.83.2/scripts/packages/VSCodeServer/src/serve_notebook.jl:139\n",
      " [16] top-level scope\n",
      "    @ ~/.vscode/extensions/julialang.language-julia-1.83.2/scripts/notebook/notebook.jl:35"
     ]
    }
   ],
   "source": [
    "import pandas as pd\n",
    "import numpy as np\n",
    "import matplotlib.pyplot as plt\n",
    "\n",
    "import scipy.stats as stats\n",
    "import seaborn as sns\n",
    "\n",
    "%matplotlib inline\n"
   ]
  },
  {
   "cell_type": "code",
   "execution_count": 7,
   "id": "b6fbdf47b0571a8d",
   "metadata": {},
   "outputs": [
    {
     "ename": "UndefVarError",
     "evalue": "UndefVarError: `pd` not defined",
     "output_type": "error",
     "traceback": [
      "UndefVarError: `pd` not defined\n",
      "\n",
      "Stacktrace:\n",
      " [1] top-level scope\n",
      "   @ ~/Documents/PRACA MAGISTERSKA/spaced_repetition_algorithms/notebooks/duolingo_EDA.ipynb:1"
     ]
    }
   ],
   "source": [
    "df = pd.read_csv(\"/Users/julkakubisa/Documents/PRACA MAGISTERSKA/spaced_repetition_algorithms/data/13 million Duolingo student learning traces.csv\")\n",
    "\n",
    "# Take a sample of dataframe \n",
    "df = df.sample(500000)"
   ]
  },
  {
   "cell_type": "code",
   "execution_count": null,
   "id": "dd41f26f1346e7eb",
   "metadata": {},
   "outputs": [],
   "source": [
    "\"\"\" \n",
    "p_recall - session_correct/session_seen\n",
    "timestamp - UNIX timestamp of the current lesson\n",
    "delta - time (in seconds) since the last lesson that included this word\n",
    "user_id - student user ID\n",
    "learning_language - language being learned\n",
    "ui_language - user interface language (presumably native to the student)\n",
    "lexeme_id - system ID for the lexeme tag (i.e., word)\n",
    "lexeme_string - lexeme tag for word\n",
    "history_seen - total times user has seen the word prior to this lesson\n",
    "history_correct - total times user has been correct for the word prior to this lesson\n",
    "session_seen - times the user saw the word during this lesson\n",
    "session_correct - times the user got the word correct during this lesson\n",
    "\"\"\"\n"
   ]
  },
  {
   "cell_type": "code",
   "execution_count": null,
   "id": "89d13a588e790361",
   "metadata": {},
   "outputs": [],
   "source": [
    "df.reset_index(inplace=True, drop=True)\n",
    "df.drop('timestamp', axis=1, inplace=True)\n",
    "df"
   ]
  },
  {
   "cell_type": "code",
   "execution_count": null,
   "id": "4f2c771ecf85bfd2",
   "metadata": {},
   "outputs": [],
   "source": [
    "# Check the types\n",
    "df.dtypes"
   ]
  },
  {
   "cell_type": "code",
   "execution_count": null,
   "id": "521a503f6e70d073",
   "metadata": {},
   "outputs": [],
   "source": [
    "# Check for na\n",
    "df.isna().any()"
   ]
  },
  {
   "cell_type": "code",
   "execution_count": null,
   "id": "c8f0693e0701e438",
   "metadata": {},
   "outputs": [],
   "source": [
    "# Check for duplicates\n",
    "df.duplicated().any()"
   ]
  },
  {
   "cell_type": "code",
   "execution_count": null,
   "id": "7c569d55965008e4",
   "metadata": {},
   "outputs": [],
   "source": [
    "# Create new column ui language - learning language \n",
    "df['lang'] = df['learning_language'] + '-' + df['ui_language']"
   ]
  },
  {
   "cell_type": "code",
   "execution_count": null,
   "id": "d60c6db656710d6a",
   "metadata": {},
   "outputs": [],
   "source": [
    "# Get numeric columns \n",
    "df_numeric = df.select_dtypes(np.number)\n",
    "features = df_numeric.columns.tolist()\n",
    "\n",
    "# Get object columns  \n",
    "df_obj = df.select_dtypes(include='object')"
   ]
  },
  {
   "cell_type": "code",
   "execution_count": null,
   "id": "7fe3d34ea43b007a",
   "metadata": {},
   "outputs": [],
   "source": [
    "\"\"\"\n",
    "p_recall (proportion of correct answers to total answers in one session): the mean is 0.9, the median is 1. More than 75% users can answer all questions correctly in one session. \n",
    "delta: the mean is 3.36 days between sessions, the median is 0.35 day. Max value is 466 days, 75% users have less than 5.12 days between sessions. Likely outliers. \n",
    "history_seen: median is 6 times seen prior to this session, the max is very high (13 518)\n",
    "history_correct: mean is 6 times correct, standard deviation is very high. \n",
    "session_seen: usually around 1 time seen during session, mean 1.8. \n",
    "session_correct: mean 1.6, median 1.0 \n",
    "\"\"\""
   ]
  },
  {
   "cell_type": "code",
   "execution_count": null,
   "id": "caf66c2df3cf68a5",
   "metadata": {},
   "outputs": [],
   "source": [
    "# Describe numerical columns \n",
    "df.describe().map(lambda x: f\"{x:0.3f}\")"
   ]
  },
  {
   "cell_type": "code",
   "execution_count": null,
   "id": "b2326a0b1e18e226",
   "metadata": {},
   "outputs": [],
   "source": [
    "# Describe by language\n",
    "for column in features:\n",
    "    print('Stats for:', column)\n",
    "    print(df.groupby('learning_language')[column].describe())"
   ]
  },
  {
   "cell_type": "code",
   "execution_count": null,
   "id": "cc4bd751d3298581",
   "metadata": {},
   "outputs": [],
   "source": [
    "# Describe categorical columns\n",
    "df.describe(include=['O'])"
   ]
  },
  {
   "cell_type": "code",
   "execution_count": null,
   "id": "fd3db78a3db64fe2",
   "metadata": {},
   "outputs": [],
   "source": [
    "print('a')"
   ]
  },
  {
   "cell_type": "code",
   "execution_count": null,
   "id": "306d241bc9e588f",
   "metadata": {},
   "outputs": [],
   "source": [
    "# stats.zscore(df_numeric)"
   ]
  },
  {
   "cell_type": "code",
   "execution_count": null,
   "id": "56138fe0ab3943b0",
   "metadata": {},
   "outputs": [],
   "source": [
    "# Numeric analysis -> outliers\n",
    "stats.zscore(df_numeric)\n",
    "threshold_z = 3\n",
    "z = np.abs(stats.zscore(df_numeric))       \n",
    "mask = np.abs(z) < threshold_z\n",
    "df = df[mask] \n",
    "# df = df[(z < threshold_z).all(axis=1)]\n",
    "print(\"Original DataFrame Shape:\", df_numeric.shape[0])\n",
    "print(\"DataFrame Shape after Removing Outliers:\", df.shape[0])\n",
    "print('Rows removed', df_numeric.shape[0]- df.shape[0])\n",
    "\n",
    "\n",
    "# Delete also individually for columns\n",
    "# outlier_indices = np.where(z > threshold_z)[0]\n",
    "# no_outliers = df_diabetics.drop(outlier_indices)\n",
    "\n"
   ]
  },
  {
   "cell_type": "code",
   "execution_count": null,
   "id": "4d594e8b20775744",
   "metadata": {},
   "outputs": [],
   "source": [
    "mask"
   ]
  },
  {
   "cell_type": "code",
   "execution_count": null,
   "id": "224b18b7144ca412",
   "metadata": {},
   "outputs": [],
   "source": [
    "# langs_sizes = df.groupby([\"ui_language\", \"learning_language\"]).size().to_frame('count')\n",
    "# langs_sizes['% obs'] = (langs_sizes['count']/langs_sizes['count'].sum())*100\n",
    "# langs_sizes\n",
    "\n",
    "langs_sizes = df.groupby(['lang']).size().to_frame('count')\n",
    "langs_sizes['% obs'] = (langs_sizes['count']/langs_sizes['count'].sum())*100\n",
    "langs_sizes\n",
    "\n",
    "target_langs = df.groupby(['learning_language']).size().to_frame('count')\n",
    "target_langs['% obs'] = (target_langs['count']/target_langs['count'].sum())*100\n",
    "target_langs"
   ]
  },
  {
   "cell_type": "code",
   "execution_count": null,
   "id": "4331ad919d4be1e8",
   "metadata": {},
   "outputs": [],
   "source": [
    "sessions_size = df.groupby([\"session_correct\", \"session_seen\"]).size().to_frame('count')\n",
    "sessions_size"
   ]
  },
  {
   "cell_type": "code",
   "execution_count": null,
   "id": "582c7567dc0a4792",
   "metadata": {},
   "outputs": [],
   "source": [
    "# For ints and objects! \n",
    "_, axes = plt.subplots(nrows=2, ncols=2, figsize=(12, 4))\n",
    "sns.countplot(x='session_seen', data=df, ax=axes[0,0])\n",
    "sns.countplot(x='session_correct', data=df, ax=axes[0,1])\n",
    "sns.countplot(x='learning_language', data=df, ax=axes[1,0])\n",
    "sns.countplot(x='ui_language', data=df, ax=axes[1,1])\n",
    "plt.tight_layout()\n",
    "plt.show()\n",
    "\n",
    "# sns.countplot(x='lang', data=df)\n"
   ]
  },
  {
   "cell_type": "code",
   "execution_count": null,
   "id": "e60862f98e95491d",
   "metadata": {},
   "outputs": [],
   "source": [
    "features.remove('timestamp')"
   ]
  },
  {
   "cell_type": "code",
   "execution_count": null,
   "id": "867da7732690df13",
   "metadata": {},
   "outputs": [],
   "source": [
    "features"
   ]
  },
  {
   "cell_type": "code",
   "execution_count": null,
   "id": "6796e892434b93ef",
   "metadata": {},
   "outputs": [],
   "source": [
    "# Boxplots \n",
    "\n",
    "fig, axs = plt.subplots(2, 2, figsize=(12, 8))\n",
    "\n",
    "# Plot each boxplot on the correct subplot\n",
    "axs[0,0].boxplot(df['session_seen'])\n",
    "axs[0, 0].set_title('Session Seen')\n",
    "\n",
    "axs[0,1].boxplot(df['history_correct'])\n",
    "axs[0, 1].set_title('history_correct')\n",
    "\n",
    "axs[1,0].boxplot(df['p_recall'])\n",
    "axs[1, 0].set_title('P Recall')\n",
    "\n",
    "axs[1,1].boxplot(df['delta'])\n",
    "axs[1, 1].set_title('Delta')\n",
    "\n",
    "fig.suptitle('Shared boxplots')\n",
    "fig.tight_layout()\n",
    "fig.subplots_adjust(top=0.9)  # Adjust the top to make room for the super title\n",
    "\n",
    "plt.show()"
   ]
  },
  {
   "cell_type": "code",
   "execution_count": null,
   "id": "f999e654451c45cf",
   "metadata": {},
   "outputs": [],
   "source": [
    "# Boxplots one by one\n",
    "for y in features:\n",
    "    plt.figure(figsize=(10, 6))\n",
    "    sns.boxplot(x=\"learning_language\", y=y, data=df)\n",
    "    plt.title(f'Boxplot of {y} by Learning Language')\n",
    "    plt.show()\n"
   ]
  },
  {
   "cell_type": "code",
   "execution_count": null,
   "id": "9ace345212b2f3fb",
   "metadata": {},
   "outputs": [],
   "source": [
    "# Histograms\n",
    "df[features].hist(figsize=(10,8), color='green')\n",
    "plt.ticklabel_format(style = 'plain')"
   ]
  },
  {
   "cell_type": "code",
   "execution_count": null,
   "id": "84ff33664dad0128",
   "metadata": {},
   "outputs": [],
   "source": [
    "df[features].plot(kind='density',subplots=True,layout=(2,2),\n",
    "                  sharex=False,figsize=(10,4))\n",
    "plt.show()"
   ]
  },
  {
   "cell_type": "code",
   "execution_count": null,
   "id": "5dbcc91c382ce33d",
   "metadata": {},
   "outputs": [],
   "source": [
    "# Relationship -> delta with things \n",
    "\n",
    "fig, axs = plt.subplots(2, 2, figsize=(12, 8))\n",
    "axs[0,0].scatter(df_500['delta'], df_500['history_correct'])\n",
    "axs[1,0].scatter(df_500['p_recall'], df_500['history_correct'])\n",
    "axs[0,1].scatter(df_500['session_correct'], df_500['delta'])\n",
    "axs[1,1].scatter(df_500['p_recall'], df_500['delta'])\n",
    "\n",
    "plt.show()\n",
    "\n",
    "\n",
    "# Divide \n",
    "# for cat in categories:\n",
    "#     dataset[cat] = dataset.genres.apply(lambda s: int(cat in s))\n",
    "# dataset.head()\n",
    "\n",
    "\n",
    "    # plt.scatter(df['Total day minutes'], df['Total night minutes'])\n",
    "    # corr_matrix = df[numerical].corr()\n",
    "    # sns.heatmap(corr_matrix)\n",
    "    \n",
    "    # sns.catplot(x='Churn', y='Total day minutes',col='Customer service calls',\n",
    "    #         data=df[df['Customer service calls'] < 8], kind=\"box\",\n",
    "    #         col_wrap=4, height=3,aspect=.8)"
   ]
  },
  {
   "cell_type": "code",
   "execution_count": null,
   "id": "d5537712cc63830b",
   "metadata": {},
   "outputs": [],
   "source": []
  }
 ],
 "metadata": {
  "kernelspec": {
   "display_name": "Julia 1.10.4",
   "language": "julia",
   "name": "julia-1.10"
  },
  "language_info": {
   "file_extension": ".jl",
   "mimetype": "application/julia",
   "name": "julia",
   "version": "1.10.4"
  }
 },
 "nbformat": 4,
 "nbformat_minor": 5
}
